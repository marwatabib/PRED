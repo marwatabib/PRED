{
 "cells": [
  {
   "cell_type": "code",
   "execution_count": 3,
   "metadata": {},
   "outputs": [
    {
     "name": "stderr",
     "output_type": "stream",
     "text": [
      "2025-02-22 11:31:43.163647: I tensorflow/core/util/port.cc:153] oneDNN custom operations are on. You may see slightly different numerical results due to floating-point round-off errors from different computation orders. To turn them off, set the environment variable `TF_ENABLE_ONEDNN_OPTS=0`.\n",
      "2025-02-22 11:31:43.317855: I external/local_xla/xla/tsl/cuda/cudart_stub.cc:32] Could not find cuda drivers on your machine, GPU will not be used.\n",
      "2025-02-22 11:31:43.495638: E external/local_xla/xla/stream_executor/cuda/cuda_fft.cc:477] Unable to register cuFFT factory: Attempting to register factory for plugin cuFFT when one has already been registered\n",
      "WARNING: All log messages before absl::InitializeLog() is called are written to STDERR\n",
      "E0000 00:00:1740220303.668831  421752 cuda_dnn.cc:8310] Unable to register cuDNN factory: Attempting to register factory for plugin cuDNN when one has already been registered\n",
      "E0000 00:00:1740220303.722678  421752 cuda_blas.cc:1418] Unable to register cuBLAS factory: Attempting to register factory for plugin cuBLAS when one has already been registered\n",
      "2025-02-22 11:31:44.028561: I tensorflow/core/platform/cpu_feature_guard.cc:210] This TensorFlow binary is optimized to use available CPU instructions in performance-critical operations.\n",
      "To enable the following instructions: AVX2 AVX512F AVX512_VNNI FMA, in other operations, rebuild TensorFlow with the appropriate compiler flags.\n"
     ]
    },
    {
     "name": "stdout",
     "output_type": "stream",
     "text": [
      "WARNING:tensorflow:From /home/colin/anaconda3/envs/open_test/lib/python3.9/site-packages/tensorflow/python/util/deprecation.py:588: calling function (from tensorflow.python.eager.polymorphic_function.polymorphic_function) with experimental_relax_shapes is deprecated and will be removed in a future version.\n",
      "Instructions for updating:\n",
      "experimental_relax_shapes is deprecated, use reduce_retracing instead\n"
     ]
    },
    {
     "name": "stderr",
     "output_type": "stream",
     "text": [
      "/home/colin/anaconda3/envs/open_test/lib/python3.9/site-packages/torchvision-0.15.2-py3.9-linux-x86_64.egg/torchvision/datapoints/__init__.py:12: UserWarning: The torchvision.datapoints and torchvision.transforms.v2 namespaces are still Beta. While we do not expect major breaking changes, some APIs may still change according to user feedback. Please submit any feedback you may have in this issue: https://github.com/pytorch/vision/issues/6753, and you can also check out https://github.com/pytorch/vision/issues/7319 to learn more about the APIs that we suspect might involve future changes. You can silence this warning by calling torchvision.disable_beta_transforms_warning().\n",
      "  warnings.warn(_BETA_TRANSFORMS_WARNING)\n",
      "/home/colin/anaconda3/envs/open_test/lib/python3.9/site-packages/torchvision-0.15.2-py3.9-linux-x86_64.egg/torchvision/transforms/v2/__init__.py:54: UserWarning: The torchvision.datapoints and torchvision.transforms.v2 namespaces are still Beta. While we do not expect major breaking changes, some APIs may still change according to user feedback. Please submit any feedback you may have in this issue: https://github.com/pytorch/vision/issues/6753, and you can also check out https://github.com/pytorch/vision/issues/7319 to learn more about the APIs that we suspect might involve future changes. You can silence this warning by calling torchvision.disable_beta_transforms_warning().\n",
      "  warnings.warn(_BETA_TRANSFORMS_WARNING)\n",
      "Skipped loading modules with pytorch-lightning dependency, missing a dependency. No module named 'pytorch_lightning'\n",
      "Skipped loading some Jax models, missing a dependency. No module named 'haiku'\n"
     ]
    }
   ],
   "source": [
    "import deepchem as dc\n",
    "from openpom.feat.graph_featurizer import GraphFeaturizer, GraphConvConstants\n",
    "from openpom.utils.data_utils import get_class_imbalance_ratio, IterativeStratifiedSplitter\n",
    "from openpom.models.mpnn_pom import MPNNPOMModel\n",
    "from datetime import datetime\n",
    "from tqdm import tqdm\n",
    "import torch\n",
    "import numpy as np\n",
    "from sklearn.metrics import roc_auc_score\n",
    "import pandas as pd\n",
    "import pubchempy as pcp\n",
    "import matplotlib.pyplot as plt"
   ]
  },
  {
   "cell_type": "markdown",
   "metadata": {},
   "source": [
    "save train and test splits"
   ]
  },
  {
   "cell_type": "markdown",
   "metadata": {},
   "source": [
    "load splits"
   ]
  },
  {
   "cell_type": "markdown",
   "metadata": {},
   "source": [
    "set parameters"
   ]
  },
  {
   "cell_type": "code",
   "execution_count": 16,
   "metadata": {},
   "outputs": [],
   "source": [
    "from deepchem.metrics import Metric\n",
    "from deepchem import metrics\n",
    "train_ratios = get_class_imbalance_ratio(train_dataset)\n",
    "assert len(train_ratios) == n_tasks\n",
    "\n",
    "# learning_rate = 0.001\n",
    "learning_rate = dc.models.optimizers.ExponentialDecay(initial_rate=0.001, decay_rate=0.5, decay_steps=32*20, staircase=True)\n",
    "\n",
    "metric = Metric(metrics.roc_auc_score)\n",
    "\n",
    "metrics_plu = [Metric(dc.metrics.accuracy_score), Metric(metrics.roc_auc_score), Metric(metrics.jaccard_score), Metric(metrics.f1_score)]"
   ]
  },
  {
   "cell_type": "markdown",
   "metadata": {},
   "source": [
    "# run this cell if detailed log is needed\n",
    "\n",
    "import logging\n",
    "\n",
    "logger = logging.getLogger(__name__)\n",
    "logging.basicConfig(level=logging.INFO)"
   ]
  },
  {
   "cell_type": "code",
   "execution_count": 4,
   "metadata": {},
   "outputs": [],
   "source": [
    "# no of models in the ensemble\n",
    "n_layer = 5\n",
    "n_models = 1\n",
    "\n",
    "# no of epochs each model is trained for\n",
    "nb_epoch = 30"
   ]
  },
  {
   "cell_type": "markdown",
   "metadata": {},
   "source": [
    "Get test score from the ensemble"
   ]
  },
  {
   "cell_type": "code",
   "execution_count": 1,
   "metadata": {
    "scrolled": true
   },
   "outputs": [
    {
     "ename": "ZeroDivisionError",
     "evalue": "division by zero",
     "output_type": "error",
     "traceback": [
      "\u001b[0;31m---------------------------------------------------------------------------\u001b[0m",
      "\u001b[0;31mZeroDivisionError\u001b[0m                         Traceback (most recent call last)",
      "Cell \u001b[0;32mIn[1], line 2\u001b[0m\n\u001b[1;32m      1\u001b[0m \u001b[38;5;28;01mimport\u001b[39;00m \u001b[38;5;21;01mmatplotlib\u001b[39;00m\u001b[38;5;21;01m.\u001b[39;00m\u001b[38;5;21;01mpyplot\u001b[39;00m \u001b[38;5;28;01mas\u001b[39;00m \u001b[38;5;21;01mplt\u001b[39;00m\n\u001b[0;32m----> 2\u001b[0m \u001b[38;5;241;43m1\u001b[39;49m\u001b[38;5;241;43m/\u001b[39;49m\u001b[38;5;241;43m0\u001b[39;49m\n\u001b[1;32m      3\u001b[0m \u001b[38;5;28;01mfor\u001b[39;00m metr \u001b[38;5;129;01min\u001b[39;00m [\u001b[38;5;124m'\u001b[39m\u001b[38;5;124maccuracy_score\u001b[39m\u001b[38;5;124m'\u001b[39m,\u001b[38;5;124m'\u001b[39m\u001b[38;5;124mroc_auc_score\u001b[39m\u001b[38;5;124m'\u001b[39m, \u001b[38;5;124m'\u001b[39m\u001b[38;5;124mjaccard_score\u001b[39m\u001b[38;5;124m'\u001b[39m]:\n\u001b[1;32m      4\u001b[0m     \u001b[38;5;28;01mfor\u001b[39;00m (dim,scores) \u001b[38;5;129;01min\u001b[39;00m models_dict\u001b[38;5;241m.\u001b[39mitems():\n",
      "\u001b[0;31mZeroDivisionError\u001b[0m: division by zero"
     ]
    }
   ],
   "source": [
    "for metr in ['accuracy_score','roc_auc_score', 'jaccard_score']:\n",
    "    for (dim,scores) in models_dict.items():\n",
    "        plt.boxplot([score[metr] for score in scores], positions=[dim], widths=0.6)\n",
    "    plt.gca().xaxis.set_ticklabels([f\"{dim}_layer\" for dim in models_dict.keys()])\n",
    "    plt.axis([0,6,0,1])\n",
    "    plt.title(metr)\n",
    "    plt.show()"
   ]
  },
  {
   "cell_type": "code",
   "execution_count": 2,
   "metadata": {},
   "outputs": [
    {
     "ename": "NameError",
     "evalue": "name 'scores' is not defined",
     "output_type": "error",
     "traceback": [
      "\u001b[0;31m---------------------------------------------------------------------------\u001b[0m",
      "\u001b[0;31mNameError\u001b[0m                                 Traceback (most recent call last)",
      "Cell \u001b[0;32mIn[2], line 1\u001b[0m\n\u001b[0;32m----> 1\u001b[0m x \u001b[38;5;241m=\u001b[39m [dim \u001b[38;5;28;01mfor\u001b[39;00m _ \u001b[38;5;129;01min\u001b[39;00m \u001b[43mscores\u001b[49m \u001b[38;5;28;01mfor\u001b[39;00m (dim,scores) \u001b[38;5;129;01min\u001b[39;00m models_dict\u001b[38;5;241m.\u001b[39mitems()]\n\u001b[1;32m      2\u001b[0m y \u001b[38;5;241m=\u001b[39m [sc \u001b[38;5;28;01mfor\u001b[39;00m sc \u001b[38;5;129;01min\u001b[39;00m scores \u001b[38;5;28;01mfor\u001b[39;00m (_,scores) \u001b[38;5;129;01min\u001b[39;00m models_dict\u001b[38;5;241m.\u001b[39mitems()]\n\u001b[1;32m      3\u001b[0m plt\u001b[38;5;241m.\u001b[39mscatter(x,y)\n",
      "\u001b[0;31mNameError\u001b[0m: name 'scores' is not defined"
     ]
    }
   ],
   "source": [
    "x = [dim for _ in scores for (dim,scores) in models_dict.items()]\n",
    "y = [sc for sc in scores for (_,scores) in models_dict.items()]\n",
    "plt.scatter(x,y)\n",
    "plt.axis([0,6,0.85,0.95])\n",
    "plt.show()"
   ]
  },
  {
   "cell_type": "code",
   "execution_count": 24,
   "metadata": {},
   "outputs": [
    {
     "data": {
      "text/plain": [
       "0.914704818729364"
      ]
     },
     "execution_count": 24,
     "metadata": {},
     "output_type": "execute_result"
    }
   ],
   "source": [
    "roc_auc_score(test_dataset.y, ensemble_preds, average=\"macro\")"
   ]
  },
  {
   "cell_type": "markdown",
   "metadata": {},
   "source": [
    "## Incorporation de la structure hiérarchique des odeurs\n",
    "on utilise la bibliothéque rdflib pour les odeurs."
   ]
  },
  {
   "cell_type": "markdown",
   "metadata": {},
   "source": [
    "On transforme les CAS en smiles"
   ]
  },
  {
   "cell_type": "code",
   "execution_count": 7,
   "metadata": {},
   "outputs": [],
   "source": [
    "df_od = pd.read_csv('Mol_odeur.csv')\n",
    "TASKS = list(df_od.columns)\n",
    "TASKS.remove(\"Smiles\")\n",
    "TASKS.remove(\"CAS\")\n",
    "n_tasks = len(TASKS)"
   ]
  },
  {
   "cell_type": "markdown",
   "metadata": {},
   "source": [
    "dans les labels il n'y a pas que des odeurs mais aussi d'autres éléments qui possède des odeurs"
   ]
  },
  {
   "cell_type": "markdown",
   "metadata": {},
   "source": [
    "Avant de travailler sur la Strucure hiérachique on tout d'abord donné l'ensemble des donné pour avoir un point de comparaison\n",
    "\n",
    "de façon harbitraire on va définir le nombre de couche à 3"
   ]
  },
  {
   "cell_type": "code",
   "execution_count": 10,
   "metadata": {},
   "outputs": [
    {
     "name": "stdout",
     "output_type": "stream",
     "text": [
      "train_dataset:  2957\n",
      "test_dataset:  780\n"
     ]
    }
   ],
   "source": [
    "from deepchem.metrics import Metric\n",
    "from deepchem import metrics\n",
    "input_file = 'Mol_odeur.csv' # or new downloaded file path\n",
    "\n",
    "# # get dataset\n",
    "\n",
    "featurizer = GraphFeaturizer()\n",
    "smiles_field = 'Smiles'\n",
    "loader = dc.data.CSVLoader(tasks=TASKS,\n",
    "                feature_field=smiles_field,\n",
    "                featurizer=featurizer)\n",
    "\n",
    "dataset = loader.create_dataset(inputs=[input_file])\n",
    "n_tasks = len(dataset.tasks)\n",
    "\n",
    "# # get train valid test splits\n",
    "splitter = IterativeStratifiedSplitter(order=2)\n",
    "train_dataset, test_dataset = splitter.train_test_split(dataset, frac_train=0.8)\n",
    "\n",
    "train_ratios = get_class_imbalance_ratio(train_dataset)\n",
    "assert len(train_ratios) == n_tasks\n",
    "\n",
    "print(\"train_dataset: \", len(train_dataset))\n",
    "print(\"test_dataset: \", len(test_dataset))"
   ]
  },
  {
   "cell_type": "code",
   "execution_count": 12,
   "metadata": {},
   "outputs": [],
   "source": [
    "n_models=5\n",
    "learning_rate = 0.001\n",
    "nb_epoch=30\n",
    "Models=[]"
   ]
  },
  {
   "cell_type": "code",
   "execution_count": 17,
   "metadata": {},
   "outputs": [
    {
     "name": "stderr",
     "output_type": "stream",
     "text": [
      "  0%|                                                     | 0/5 [00:00<?, ?it/s]"
     ]
    },
    {
     "name": "stdout",
     "output_type": "stream",
     "text": [
      "time start\n",
      "time end\n"
     ]
    },
    {
     "name": "stderr",
     "output_type": "stream",
     "text": [
      " 20%|████████▏                                | 1/5 [22:33<1:30:13, 1353.37s/it]"
     ]
    },
    {
     "name": "stdout",
     "output_type": "stream",
     "text": [
      "loss = 2.3867602348327637; train_scores = {'accuracy_score': 0.9627836386581654, 'roc_auc_score': 0.9180220921972336, 'jaccard_score': 0.19690993926497874, 'f1_score': 0.3034415289764948}; test_scores = {'accuracy_score': 0.9593079007713154, 'roc_auc_score': 0.895197010736636, 'jaccard_score': 0.1920556146808952, 'f1_score': 0.28825494104230925}; time_taken = 0:22:07.313273\n",
      "time start\n",
      "time end\n"
     ]
    },
    {
     "name": "stderr",
     "output_type": "stream",
     "text": [
      " 40%|████████████████▍                        | 2/5 [46:23<1:09:55, 1398.47s/it]"
     ]
    },
    {
     "name": "stdout",
     "output_type": "stream",
     "text": [
      "loss = 2.419536590576172; train_scores = {'accuracy_score': 0.963880663493818, 'roc_auc_score': 0.9190194769672766, 'jaccard_score': 0.1975844457474392, 'f1_score': 0.3031698756090737}; test_scores = {'accuracy_score': 0.9602251407129455, 'roc_auc_score': 0.8957760414325863, 'jaccard_score': 0.19839402530704003, 'f1_score': 0.29810423392194685}; time_taken = 0:23:22.788283\n",
      "time start\n",
      "time end\n"
     ]
    },
    {
     "name": "stderr",
     "output_type": "stream",
     "text": [
      " 60%|████████████████████████▌                | 3/5 [1:12:04<48:47, 1463.80s/it]"
     ]
    },
    {
     "name": "stdout",
     "output_type": "stream",
     "text": [
      "loss = 2.4099910259246826; train_scores = {'accuracy_score': 0.9653241172249397, 'roc_auc_score': 0.9211071669347789, 'jaccard_score': 0.20213760747427686, 'f1_score': 0.309089258013818}; test_scores = {'accuracy_score': 0.9615593079007713, 'roc_auc_score': 0.8995402937395041, 'jaccard_score': 0.20232268945002105, 'f1_score': 0.30290444065004446}; time_taken = 0:25:16.740070\n",
      "time start\n",
      "time end\n"
     ]
    },
    {
     "name": "stderr",
     "output_type": "stream",
     "text": [
      " 80%|████████████████████████████████▊        | 4/5 [1:35:23<23:57, 1437.85s/it]"
     ]
    },
    {
     "name": "stdout",
     "output_type": "stream",
     "text": [
      "loss = 2.3873844146728516; train_scores = {'accuracy_score': 0.9642875799742102, 'roc_auc_score': 0.9218172219161626, 'jaccard_score': 0.21157023587335388, 'f1_score': 0.32287348729571425}; test_scores = {'accuracy_score': 0.9597977902855951, 'roc_auc_score': 0.8970494714407498, 'jaccard_score': 0.19933354237718443, 'f1_score': 0.2976481323472709}; time_taken = 0:22:54.609656\n",
      "time start\n",
      "time end\n"
     ]
    },
    {
     "name": "stderr",
     "output_type": "stream",
     "text": [
      "100%|█████████████████████████████████████████| 5/5 [1:58:45<00:00, 1425.12s/it]"
     ]
    },
    {
     "name": "stdout",
     "output_type": "stream",
     "text": [
      "loss = 2.411137342453003; train_scores = {'accuracy_score': 0.9643398192520984, 'roc_auc_score': 0.9212614263459058, 'jaccard_score': 0.20105770578295057, 'f1_score': 0.30786629880835414}; test_scores = {'accuracy_score': 0.9608088388576193, 'roc_auc_score': 0.8974187600815726, 'jaccard_score': 0.18965774165620758, 'f1_score': 0.2835758254713209}; time_taken = 0:22:56.406349\n"
     ]
    },
    {
     "name": "stderr",
     "output_type": "stream",
     "text": [
      "\n"
     ]
    }
   ],
   "source": [
    "for i in tqdm(range(n_models)):\n",
    "    model_sketch = MPNNPOMModel(n_tasks = n_tasks,\n",
    "                            batch_size=128,\n",
    "                            learning_rate=learning_rate,\n",
    "                            class_imbalance_ratio = train_ratios,\n",
    "                            loss_aggr_type = 'sum',\n",
    "                            node_out_feats = 100,\n",
    "                            edge_hidden_feats = 75,\n",
    "                            edge_out_feats = 100,\n",
    "                            num_step_message_passing = 3,\n",
    "                            mpnn_residual = True,\n",
    "                            message_aggregator_type = 'sum',\n",
    "                            mode = 'classification',\n",
    "                            number_atom_features = GraphConvConstants.ATOM_FDIM,\n",
    "                            number_bond_features = GraphConvConstants.BOND_FDIM,\n",
    "                            n_classes = 1,\n",
    "                            readout_type = 'set2set',\n",
    "                            num_step_set2set = 3,\n",
    "                            num_layer_set2set = 2,\n",
    "                            ffn_hidden_list= [392, 392],\n",
    "                            ffn_embeddings = 256,\n",
    "                            ffn_activation = 'relu',\n",
    "                            ffn_dropout_p = 0.12,\n",
    "                            ffn_dropout_at_input_no_act = False,\n",
    "                            weight_decay = 1e-5,\n",
    "                            self_loop = False,\n",
    "                            optimizer_name = 'adam',\n",
    "                            log_frequency = 32,\n",
    "                            model_dir = f'./sketchOscent/model_sans_hier/model_{i}',\n",
    "                            device_name='cpu')\n",
    "\n",
    "    start_time = datetime.now()\n",
    "    print(\"time start\")\n",
    "    \n",
    "    # fit model\n",
    "    loss = model_sketch.fit(\n",
    "          train_dataset,\n",
    "          nb_epoch=nb_epoch,\n",
    "          max_checkpoints_to_keep=1,\n",
    "          deterministic=False,\n",
    "          restore=False)\n",
    "    print(\"time end\")\n",
    "    end_time = datetime.now()\n",
    "    \n",
    "    train_scores = model_sketch.evaluate(train_dataset, metrics_plu)\n",
    "    test_scores = model_sketch.evaluate(test_dataset, metrics_plu)\n",
    "    print(f\"loss = {loss}; train_scores = {train_scores}; test_scores = {test_scores}; time_taken = {str(end_time-start_time)}\")\n",
    "    model_sketch.save_checkpoint() # saves final checkpoint => `checkpoint2.pt`\n",
    "    Models.append(model_sketch)\n",
    "    del model_sketch\n",
    "    torch.cuda.empty_cache()"
   ]
  },
  {
   "cell_type": "code",
   "execution_count": 21,
   "metadata": {
    "scrolled": true
   },
   "outputs": [
    {
     "data": {
      "image/png": "[encoded data removed]",
      "text/plain": [
       "<Figure size 640x480 with 1 Axes>"
      ]
     },
     "metadata": {},
     "output_type": "display_data"
    },
    {
     "data": {
      "image/png": "[encoded data removed]",
      "text/plain": [
       "<Figure size 640x480 with 1 Axes>"
      ]
     },
     "metadata": {},
     "output_type": "display_data"
    },
    {
     "data": {
      "image/png": "[encoded data removed]",
      "text/plain": [
       "<Figure size 640x480 with 1 Axes>"
      ]
     },
     "metadata": {},
     "output_type": "display_data"
    },
    {
     "data": {
      "image/png": "[encoded data removed]",
      "text/plain": [
       "<Figure size 640x480 with 1 Axes>"
      ]
     },
     "metadata": {},
     "output_type": "display_data"
    }
   ],
   "source": [
    "scores = [model.evaluate(test_dataset, metrics_plu) for model in Models]\n",
    "for metr in test_scores.keys():\n",
    "    plt.boxplot([score[metr] for score in scores], widths=0.6)\n",
    "    #plt.gca().xaxis.set_ticklabels([f\"{dim}_layer\" for dim in models_dict.keys()])\n",
    "    plt.axis([0,6,0,1])\n",
    "    plt.title(metr)\n",
    "    plt.show()"
   ]
  },
  {
   "cell_type": "code",
   "execution_count": 26,
   "metadata": {},
   "outputs": [],
   "source": [
    "def split_train_test(input_file):\n",
    "    featurizer = GraphFeaturizer()\n",
    "    smiles_field = 'Smiles'\n",
    "    loader = dc.data.CSVLoader(tasks=TASKS,\n",
    "                    feature_field=smiles_field,\n",
    "                    featurizer=featurizer)\n",
    "    \n",
    "    dataset = loader.create_dataset(inputs=[input_file])\n",
    "    n_tasks = len(dataset.tasks)\n",
    "    \n",
    "    # # get train valid test splits\n",
    "    splitter = IterativeStratifiedSplitter(order=2)\n",
    "    train_dataset, test_dataset = splitter.train_test_split(dataset, frac_train=0.8)\n",
    "    \n",
    "    train_ratios = get_class_imbalance_ratio(train_dataset)\n",
    "    assert len(train_ratios) == n_tasks\n",
    "    return train_dataset, test_dataset, n_tasks, train_ratios\n",
    "\n",
    "def train_mod(train_dataset, n_models, n_tasks, train_ratios, nb_couches, directory):\n",
    "    Models_dict = []\n",
    "    for i in tqdm(range(n_models)):\n",
    "        model_sketch = MPNNPOMModel(n_tasks = n_tasks,\n",
    "                                batch_size=128,\n",
    "                                learning_rate=learning_rate,\n",
    "                                class_imbalance_ratio = train_ratios,\n",
    "                                loss_aggr_type = 'sum',\n",
    "                                node_out_feats = 100,\n",
    "                                edge_hidden_feats = 75,\n",
    "                                edge_out_feats = 100,\n",
    "                                num_step_message_passing = nb_couches,\n",
    "                                mpnn_residual = True,\n",
    "                                message_aggregator_type = 'sum',\n",
    "                                mode = 'classification',\n",
    "                                number_atom_features = GraphConvConstants.ATOM_FDIM,\n",
    "                                number_bond_features = GraphConvConstants.BOND_FDIM,\n",
    "                                n_classes = 1,\n",
    "                                readout_type = 'set2set',\n",
    "                                num_step_set2set = 3,\n",
    "                                num_layer_set2set = 2,\n",
    "                                ffn_hidden_list= [392, 392],\n",
    "                                ffn_embeddings = 256,\n",
    "                                ffn_activation = 'relu',\n",
    "                                ffn_dropout_p = 0.12,\n",
    "                                ffn_dropout_at_input_no_act = False,\n",
    "                                weight_decay = 1e-5,\n",
    "                                self_loop = False,\n",
    "                                optimizer_name = 'adam',\n",
    "                                log_frequency = 32,\n",
    "                                model_dir = f'{directory}/model_{i}',\n",
    "                                device_name='cpu')\n",
    "    \n",
    "        start_time = datetime.now()\n",
    "        print(\"time start\")\n",
    "        \n",
    "        # fit model\n",
    "        loss = model_sketch.fit(\n",
    "              train_dataset,\n",
    "              nb_epoch=nb_epoch,\n",
    "              max_checkpoints_to_keep=1,\n",
    "              deterministic=False,\n",
    "              restore=False)\n",
    "        print(\"time end\")\n",
    "        end_time = datetime.now()\n",
    "        \n",
    "        train_scores = model_sketch.evaluate(train_dataset, metrics_plu)\n",
    "        print(f\"loss = {loss}; train_scores = {train_scores}; time_taken = {str(end_time-start_time)}\")\n",
    "        model_sketch.save_checkpoint() # saves final checkpoint => `checkpoint2.pt`\n",
    "        Models_dict.append(model_sketch)\n",
    "        del model_sketch\n",
    "        torch.cuda.empty_cache()\n",
    "    return Models_dict"
   ]
  },
  {
   "cell_type": "code",
   "execution_count": null,
   "metadata": {},
   "outputs": [
    {
     "name": "stderr",
     "output_type": "stream",
     "text": [
      "  0%|                                                     | 0/5 [00:00<?, ?it/s]"
     ]
    },
    {
     "name": "stdout",
     "output_type": "stream",
     "text": [
      "time start\n",
      "time end\n"
     ]
    },
    {
     "name": "stderr",
     "output_type": "stream",
     "text": [
      " 20%|████████▏                                | 1/5 [21:07<1:24:29, 1267.37s/it]"
     ]
    },
    {
     "name": "stdout",
     "output_type": "stream",
     "text": [
      "loss = 2.5132312774658203; train_scores = {'accuracy_score': 0.9658782065893986, 'roc_auc_score': 0.9184232159338561, 'jaccard_score': 0.19424396852056566, 'f1_score': 0.2966684558362546}; time_taken = 0:20:50.179283\n",
      "time start\n",
      "time end\n"
     ]
    },
    {
     "name": "stderr",
     "output_type": "stream",
     "text": [
      " 40%|████████████████▍                        | 2/5 [41:11<1:01:30, 1230.20s/it]"
     ]
    },
    {
     "name": "stdout",
     "output_type": "stream",
     "text": [
      "loss = 2.5317264556884767; train_scores = {'accuracy_score': 0.9635841326062434, 'roc_auc_score': 0.9192751843439102, 'jaccard_score': 0.19843994988326316, 'f1_score': 0.3057269557128689}; time_taken = 0:19:48.221674\n",
      "time start\n",
      "time end\n"
     ]
    },
    {
     "name": "stderr",
     "output_type": "stream",
     "text": [
      " 60%|████████████████████████▌                | 3/5 [1:01:04<40:26, 1213.01s/it]"
     ]
    },
    {
     "name": "stdout",
     "output_type": "stream",
     "text": [
      "loss = 2.4803754806518556; train_scores = {'accuracy_score': 0.9669010421232895, 'roc_auc_score': 0.9227643647359843, 'jaccard_score': 0.20225601002431598, 'f1_score': 0.30765432939076437}; time_taken = 0:19:35.932435\n",
      "time start\n"
     ]
    }
   ],
   "source": [
    "train_wth_dupl, test_wth_dupl, n_taks, train_wth_dupl_ratios = split_train_test(\"Mol_odeur_sans_doublons.csv\")\n",
    "Models_wth_dupl = train_mod(train_wth_dupl,n_models=5, n_tasks=n_tasks, train_ratios=train_wth_dupl_ratios, nb_couches=3, directory=\"./models_wth_dupl\")"
   ]
  },
  {
   "cell_type": "markdown",
   "metadata": {},
   "source": [
    "### On supprime les odeurs qui ne sont pas des noeuds"
   ]
  },
  {
   "cell_type": "code",
   "execution_count": 27,
   "metadata": {},
   "outputs": [],
   "source": [
    "def guess(Dataset, Predictions, Not_individuals, graph_ttl=g):\n",
    "    Predictions = (Predictions > 0.5).astype(int)\n",
    "    nb_ligne, nb_columns = Predictions.shape\n",
    "    New_Prediction = np.concatenate( (Predictions, np.zeros((nb_ligne, len(Not_individuals) ))), axis=1 )\n",
    "    df_pred = pd.DataFrame(New_Prediction, columns=list(Dataset.tasks) + Not_individuals)\n",
    "    for col in Dataset.tasks:\n",
    "        quer = f\"\"\" \n",
    "        Select ?od_parent WHERE {{ \n",
    "            :{col} a ?od_parent . \n",
    "        }} \"\"\"\n",
    "        for res in g.query(quer):\n",
    "            q = f\"\"\"\n",
    "                Select ?parent WHERE{{ \n",
    "                    :{res[0].fragment} rdfs:subClassOf ?parent\n",
    "                    }}\n",
    "            \"\"\"\n",
    "            for res2 in g.query(q):\n",
    "                if res2[0].fragment in Not_individuals:\n",
    "                    df_pred[res2[0].fragment] = df_pred[res2[0].fragment] + df_pred[col]\n",
    "    df_pred.applymap(lambda x: 1 if isinstance(x,int) and x>=1 else x )\n",
    "    Smiles = pd.DataFrame({\"smiles\" : Dataset.ids}) \n",
    "    return pd.concat([Smiles,df_pred.reindex(sorted(df_pred.columns), axis=1)], axis=1)\n",
    "                \n",
    "    "
   ]
  },
  {
   "cell_type": "code",
   "execution_count": 45,
   "metadata": {},
   "outputs": [],
   "source": [
    "def get_file(data_frame, file_name ='Mol_odeur.csv'):\n",
    "    Labels = list(data_frame.columns)\n",
    "    df = pd.read_csv(file_name, usecols=Labels)\n",
    "    print(len(df.index) - len(df['smiles'].unique()))\n",
    "    return df.filter(items=data_frame['smiles'], axis=0)\n",
    "    "
   ]
  }
 ],
 "metadata": {
  "kernelspec": {
   "display_name": "Python 3 (ipykernel)",
   "language": "python",
   "name": "python3"
  },
  "language_info": {
   "codemirror_mode": {
    "name": "ipython",
    "version": 3
   },
   "file_extension": ".py",
   "mimetype": "text/x-python",
   "name": "python",
   "nbconvert_exporter": "python",
   "pygments_lexer": "ipython3",
   "version": "3.9.21"
  }
 },
 "nbformat": 4,
 "nbformat_minor": 4
}
