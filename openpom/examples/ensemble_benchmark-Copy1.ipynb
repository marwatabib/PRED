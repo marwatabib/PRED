{
 "cells": [
  {
   "cell_type": "code",
   "execution_count": 2,
   "metadata": {},
   "outputs": [
    {
     "name": "stderr",
     "output_type": "stream",
     "text": [
      "2025-02-21 09:51:41.296215: I tensorflow/core/util/port.cc:153] oneDNN custom operations are on. You may see slightly different numerical results due to floating-point round-off errors from different computation orders. To turn them off, set the environment variable `TF_ENABLE_ONEDNN_OPTS=0`.\n",
      "2025-02-21 09:51:41.417789: I external/local_xla/xla/tsl/cuda/cudart_stub.cc:32] Could not find cuda drivers on your machine, GPU will not be used.\n",
      "2025-02-21 09:51:41.541801: E external/local_xla/xla/stream_executor/cuda/cuda_fft.cc:477] Unable to register cuFFT factory: Attempting to register factory for plugin cuFFT when one has already been registered\n",
      "WARNING: All log messages before absl::InitializeLog() is called are written to STDERR\n",
      "E0000 00:00:1740127901.647216   33842 cuda_dnn.cc:8310] Unable to register cuDNN factory: Attempting to register factory for plugin cuDNN when one has already been registered\n",
      "E0000 00:00:1740127901.676417   33842 cuda_blas.cc:1418] Unable to register cuBLAS factory: Attempting to register factory for plugin cuBLAS when one has already been registered\n",
      "2025-02-21 09:51:41.894573: I tensorflow/core/platform/cpu_feature_guard.cc:210] This TensorFlow binary is optimized to use available CPU instructions in performance-critical operations.\n",
      "To enable the following instructions: AVX2 AVX512F AVX512_VNNI FMA, in other operations, rebuild TensorFlow with the appropriate compiler flags.\n"
     ]
    },
    {
     "name": "stdout",
     "output_type": "stream",
     "text": [
      "WARNING:tensorflow:From /home/colin/anaconda3/envs/open_test/lib/python3.9/site-packages/tensorflow/python/util/deprecation.py:588: calling function (from tensorflow.python.eager.polymorphic_function.polymorphic_function) with experimental_relax_shapes is deprecated and will be removed in a future version.\n",
      "Instructions for updating:\n",
      "experimental_relax_shapes is deprecated, use reduce_retracing instead\n"
     ]
    },
    {
     "name": "stderr",
     "output_type": "stream",
     "text": [
      "/home/colin/anaconda3/envs/open_test/lib/python3.9/site-packages/torchvision-0.15.2-py3.9-linux-x86_64.egg/torchvision/datapoints/__init__.py:12: UserWarning: The torchvision.datapoints and torchvision.transforms.v2 namespaces are still Beta. While we do not expect major breaking changes, some APIs may still change according to user feedback. Please submit any feedback you may have in this issue: https://github.com/pytorch/vision/issues/6753, and you can also check out https://github.com/pytorch/vision/issues/7319 to learn more about the APIs that we suspect might involve future changes. You can silence this warning by calling torchvision.disable_beta_transforms_warning().\n",
      "  warnings.warn(_BETA_TRANSFORMS_WARNING)\n",
      "/home/colin/anaconda3/envs/open_test/lib/python3.9/site-packages/torchvision-0.15.2-py3.9-linux-x86_64.egg/torchvision/transforms/v2/__init__.py:54: UserWarning: The torchvision.datapoints and torchvision.transforms.v2 namespaces are still Beta. While we do not expect major breaking changes, some APIs may still change according to user feedback. Please submit any feedback you may have in this issue: https://github.com/pytorch/vision/issues/6753, and you can also check out https://github.com/pytorch/vision/issues/7319 to learn more about the APIs that we suspect might involve future changes. You can silence this warning by calling torchvision.disable_beta_transforms_warning().\n",
      "  warnings.warn(_BETA_TRANSFORMS_WARNING)\n",
      "Skipped loading modules with pytorch-lightning dependency, missing a dependency. No module named 'pytorch_lightning'\n",
      "Skipped loading some Jax models, missing a dependency. No module named 'haiku'\n"
     ]
    }
   ],
   "source": [
    "import deepchem as dc\n",
    "from openpom.feat.graph_featurizer import GraphFeaturizer, GraphConvConstants\n",
    "from openpom.utils.data_utils import get_class_imbalance_ratio, IterativeStratifiedSplitter\n",
    "from openpom.models.mpnn_pom import MPNNPOMModel\n",
    "from datetime import datetime\n",
    "from tqdm import tqdm\n",
    "import torch\n",
    "import numpy as np\n",
    "from sklearn.metrics import roc_auc_score\n",
    "import pandas as pd\n",
    "import pubchempy as pcp"
   ]
  },
  {
   "cell_type": "code",
   "execution_count": 6,
   "metadata": {},
   "outputs": [
    {
     "name": "stdout",
     "output_type": "stream",
     "text": [
      "No of tasks:  138\n"
     ]
    }
   ],
   "source": [
    "TASKS = [\n",
    "'alcoholic', 'aldehydic', 'alliaceous', 'almond', 'amber', 'animal',\n",
    "'anisic', 'apple', 'apricot', 'aromatic', 'balsamic', 'banana', 'beefy',\n",
    "'bergamot', 'berry', 'bitter', 'black currant', 'brandy', 'burnt',\n",
    "'buttery', 'cabbage', 'camphoreous', 'caramellic', 'cedar', 'celery',\n",
    "'chamomile', 'cheesy', 'cherry', 'chocolate', 'cinnamon', 'citrus', 'clean',\n",
    "'clove', 'cocoa', 'coconut', 'coffee', 'cognac', 'cooked', 'cooling',\n",
    "'cortex', 'coumarinic', 'creamy', 'cucumber', 'dairy', 'dry', 'earthy',\n",
    "'ethereal', 'fatty', 'fermented', 'fishy', 'floral', 'fresh', 'fruit skin',\n",
    "'fruity', 'garlic', 'gassy', 'geranium', 'grape', 'grapefruit', 'grassy',\n",
    "'green', 'hawthorn', 'hay', 'hazelnut', 'herbal', 'honey', 'hyacinth',\n",
    "'jasmin', 'juicy', 'ketonic', 'lactonic', 'lavender', 'leafy', 'leathery',\n",
    "'lemon', 'lily', 'malty', 'meaty', 'medicinal', 'melon', 'metallic',\n",
    "'milky', 'mint', 'muguet', 'mushroom', 'musk', 'musty', 'natural', 'nutty',\n",
    "'odorless', 'oily', 'onion', 'orange', 'orangeflower', 'orris', 'ozone',\n",
    "'peach', 'pear', 'phenolic', 'pine', 'pineapple', 'plum', 'popcorn',\n",
    "'potato', 'powdery', 'pungent', 'radish', 'raspberry', 'ripe', 'roasted',\n",
    "'rose', 'rummy', 'sandalwood', 'savory', 'sharp', 'smoky', 'soapy',\n",
    "'solvent', 'sour', 'spicy', 'strawberry', 'sulfurous', 'sweaty', 'sweet',\n",
    "'tea', 'terpenic', 'tobacco', 'tomato', 'tropical', 'vanilla', 'vegetable',\n",
    "'vetiver', 'violet', 'warm', 'waxy', 'weedy', 'winey', 'woody'\n",
    "]\n",
    "\n",
    "print(\"No of tasks: \", len(TASKS))\n",
    "n_tasks = len(TASKS)"
   ]
  },
  {
   "cell_type": "markdown",
   "metadata": {},
   "source": [
    "save train and test splits"
   ]
  },
  {
   "cell_type": "markdown",
   "metadata": {},
   "source": [
    "# # uncomment and run if no splits saved yet\n",
    "\n",
    "# # download curated dataset\n",
    "#!wget https://raw.githubusercontent.com/ARY2260/openpom/main/openpom/data/curated_datasets/curated_GS_LF_merged_4983.csv\n",
    "\n",
    "# # The curated dataset can also found at `openpom/data/curated_datasets/curated_GS_LF_merged_4983.csv` in the repo.\n",
    "\n",
    "input_file = 'curated_GS_LF_merged_4983.csv' # or new downloaded file path\n",
    "\n",
    "# # get dataset\n",
    "\n",
    "featurizer = GraphFeaturizer()\n",
    "smiles_field = 'nonStereoSMILES'\n",
    "loader = dc.data.CSVLoader(tasks=TASKS,\n",
    "                feature_field=smiles_field,\n",
    "                featurizer=featurizer)\n",
    "dataset = loader.create_dataset(inputs=[input_file])\n",
    "n_tasks = len(dataset.tasks)\n",
    "\n",
    "# # get train valid test splits\n",
    "splitter = IterativeStratifiedSplitter(order=2)\n",
    "train_dataset, test_dataset = splitter.train_test_split(dataset, frac_train=0.8, train_dir='./splits/train_data', test_dir='./splits/test_data')\n",
    "\n",
    "print(\"train_dataset: \", len(train_dataset))\n",
    "print(\"test_dataset: \", len(test_dataset))"
   ]
  },
  {
   "cell_type": "markdown",
   "metadata": {},
   "source": [
    "load splits"
   ]
  },
  {
   "cell_type": "code",
   "execution_count": 4,
   "metadata": {},
   "outputs": [
    {
     "name": "stdout",
     "output_type": "stream",
     "text": [
      "train_dataset:  3989\n",
      "test_dataset:  994\n"
     ]
    }
   ],
   "source": [
    "train_dataset = dc.data.DiskDataset('./splits/train_data')\n",
    "test_dataset = dc.data.DiskDataset('./splits/test_data')\n",
    "print(\"train_dataset: \", len(train_dataset))\n",
    "print(\"test_dataset: \", len(test_dataset))"
   ]
  },
  {
   "cell_type": "markdown",
   "metadata": {},
   "source": [
    "set parameters"
   ]
  },
  {
   "cell_type": "code",
   "execution_count": 7,
   "metadata": {},
   "outputs": [],
   "source": [
    "from deepchem.metrics import Metric\n",
    "from deepchem import metrics\n",
    "train_ratios = get_class_imbalance_ratio(train_dataset)\n",
    "assert len(train_ratios) == n_tasks\n",
    "\n",
    "# learning_rate = 0.001\n",
    "learning_rate = dc.models.optimizers.ExponentialDecay(initial_rate=0.001, decay_rate=0.5, decay_steps=32*20, staircase=True)\n",
    "\n",
    "metric = Metric(metrics.roc_auc_score)\n",
    "\n",
    "metrics_plu = [Metric(dc.metrics.accuracy_score), Metric(metrics.roc_auc_score), Metric(metrics.jaccard_score)]"
   ]
  },
  {
   "cell_type": "markdown",
   "metadata": {},
   "source": [
    "# run this cell if detailed log is needed\n",
    "\n",
    "import logging\n",
    "\n",
    "logger = logging.getLogger(__name__)\n",
    "logging.basicConfig(level=logging.INFO)"
   ]
  },
  {
   "cell_type": "code",
   "execution_count": 8,
   "metadata": {},
   "outputs": [],
   "source": [
    "# no of models in the ensemble\n",
    "n_layer = 5\n",
    "n_models = 1\n",
    "\n",
    "# no of epochs each model is trained for\n",
    "nb_epoch = 30\n",
    "i=3"
   ]
  },
  {
   "cell_type": "code",
   "execution_count": 12,
   "metadata": {},
   "outputs": [
    {
     "name": "stdout",
     "output_type": "stream",
     "text": [
      "time start\n",
      "time end\n",
      "loss = 2.2291011810302734; train_scores = 0.9079013805698094; test_scores = 0.8915852570897367; time_taken = 0:29:57.834285\n"
     ]
    }
   ],
   "source": [
    "\n",
    "\n",
    "for j in range(n_models):\n",
    "    model = MPNNPOMModel(n_tasks = n_tasks,\n",
    "                            batch_size=128,\n",
    "                            learning_rate=learning_rate,\n",
    "                            class_imbalance_ratio = train_ratios,\n",
    "                            loss_aggr_type = 'sum',\n",
    "                            node_out_feats = 100,\n",
    "                            edge_hidden_feats = 75,\n",
    "                            edge_out_feats = 100,\n",
    "                            num_step_message_passing = i+1,\n",
    "                            mpnn_residual = True,\n",
    "                            message_aggregator_type = 'sum',\n",
    "                            mode = 'classification',\n",
    "                            number_atom_features = GraphConvConstants.ATOM_FDIM,\n",
    "                            number_bond_features = GraphConvConstants.BOND_FDIM,\n",
    "                            n_classes = 1,\n",
    "                            readout_type = 'global_sum_pooling',\n",
    "                            ffn_hidden_list= [392, 392],\n",
    "                            ffn_embeddings = 256,\n",
    "                            ffn_activation = 'relu',\n",
    "                            ffn_dropout_p = 0.12,\n",
    "                            ffn_dropout_at_input_no_act = False,\n",
    "                            weight_decay = 1e-5,\n",
    "                            self_loop = False,\n",
    "                            optimizer_name = 'adam',\n",
    "                            log_frequency = 32,\n",
    "                            model_dir = f'./tamp/ensemble_models_{i+1}_layer/experiments_{j+1}',\n",
    "                            device_name='cpu')\n",
    "\n",
    "    start_time = datetime.now()\n",
    "    print(\"time start\")\n",
    "    \n",
    "    # fit model\n",
    "    loss = model.fit(\n",
    "          train_dataset,\n",
    "          nb_epoch=nb_epoch,\n",
    "          max_checkpoints_to_keep=1,\n",
    "          deterministic=False,\n",
    "          restore=False)\n",
    "    print(\"time end\")\n",
    "    end_time = datetime.now()\n",
    "    \n",
    "    train_scores = model.evaluate(train_dataset, [metric])['roc_auc_score']\n",
    "    test_scores = model.evaluate(test_dataset, [metric])['roc_auc_score']\n",
    "    print(f\"loss = {loss}; train_scores = {train_scores}; test_scores = {test_scores}; time_taken = {str(end_time-start_time)}\")\n",
    "    model.save_checkpoint() # saves final checkpoint => `checkpoint2.pt`\n",
    "    del model\n",
    "    torch.cuda.empty_cache()"
   ]
  },
  {
   "cell_type": "markdown",
   "metadata": {},
   "source": [
    "Get test score from the ensemble"
   ]
  },
  {
   "cell_type": "code",
   "execution_count": 76,
   "metadata": {},
   "outputs": [
    {
     "name": "stdout",
     "output_type": "stream",
     "text": [
      "average ensemble score:  0.8915852570897367\n"
     ]
    }
   ],
   "source": [
    "list_preds = []\n",
    "#dict_preds = {i : [] for i in range(1,n_layer+1)}\n",
    "#models_dict={i : [] for i in range(1,n_layer+1)}\n",
    "dict_preds = {4:[]}\n",
    "models_dict={4:[]}\n",
    "for j in range(n_models):\n",
    "    model = MPNNPOMModel(n_tasks = n_tasks,\n",
    "                            batch_size=128,\n",
    "                            learning_rate=learning_rate,\n",
    "                            class_imbalance_ratio = train_ratios,\n",
    "                            loss_aggr_type = 'sum',\n",
    "                            node_out_feats = 100,\n",
    "                            edge_hidden_feats = 75,\n",
    "                            edge_out_feats = 100,\n",
    "                            num_step_message_passing = i+1,\n",
    "                            mpnn_residual = True,\n",
    "                            message_aggregator_type = 'sum',\n",
    "                            mode = 'classification',\n",
    "                            number_atom_features = GraphConvConstants.ATOM_FDIM,\n",
    "                            number_bond_features = GraphConvConstants.BOND_FDIM,\n",
    "                            n_classes = 1,\n",
    "                            readout_type = 'global_sum_pooling',\n",
    "                            ffn_hidden_list= [392, 392],\n",
    "                            ffn_embeddings = 256,\n",
    "                            ffn_activation = 'relu',\n",
    "                            ffn_dropout_p = 0.12,\n",
    "                            ffn_dropout_at_input_no_act = False,\n",
    "                            weight_decay = 1e-5,\n",
    "                            self_loop = False,\n",
    "                            optimizer_name = 'adam',\n",
    "                            log_frequency = 32,\n",
    "                            model_dir = f'./tamp/ensemble_models_{i+1}_layer/experiments_{j+1}',\n",
    "                            device_name='cpu')\n",
    "    model.restore(f\"./tamp/ensemble_models_{i+1}_layer/experiments_{j+1}/checkpoint2.pt\")\n",
    "    test_scores = model.evaluate(test_dataset, metrics)#['roc_auc_score']\n",
    "    models_dict[i+1].append(test_scores)\n",
    "    \n",
    "    #print(\"test_score: \", test_scores)\n",
    "    preds = model.predict(test_dataset)\n",
    "    #dict_preds[i+1].append(accuracy_score(preds,test_dataset.y))\n",
    "    list_preds.append(preds)\n",
    "\n",
    "preds_arr = np.asarray(list_preds)\n",
    "ensemble_preds = np.mean(preds_arr, axis=0)\n",
    "print(\"average ensemble score: \", roc_auc_score(test_dataset.y, ensemble_preds, average=\"macro\"))"
   ]
  },
  {
   "cell_type": "code",
   "execution_count": 59,
   "metadata": {
    "scrolled": true
   },
   "outputs": [
    {
     "data": {
      "image/png": "[encoded data removed]",
      "text/plain": [
       "<Figure size 640x480 with 1 Axes>"
      ]
     },
     "metadata": {},
     "output_type": "display_data"
    },
    {
     "data": {
      "image/png": "[encoded data removed]",
      "text/plain": [
       "<Figure size 640x480 with 1 Axes>"
      ]
     },
     "metadata": {},
     "output_type": "display_data"
    },
    {
     "data": {
      "image/png": "[encoded data removed]",
      "text/plain": [
       "<Figure size 640x480 with 1 Axes>"
      ]
     },
     "metadata": {},
     "output_type": "display_data"
    }
   ],
   "source": [
    "import matplotlib.pyplot as plt\n",
    "for metr in ['accuracy_score','roc_auc_score', 'jaccard_score']:\n",
    "    for (dim,scores) in models_dict.items():\n",
    "        plt.boxplot([score[metr] for score in scores], positions=[dim], widths=0.6)\n",
    "    plt.gca().xaxis.set_ticklabels([f\"{dim}_layer\" for dim in models_dict.keys()])\n",
    "    plt.axis([0,6,0,1])\n",
    "    plt.title(metr)\n",
    "    plt.show()"
   ]
  },
  {
   "cell_type": "code",
   "execution_count": 26,
   "metadata": {},
   "outputs": [
    {
     "data": {
      "image/png": "[encoded data removed]",
      "text/plain": [
       "<Figure size 640x480 with 1 Axes>"
      ]
     },
     "metadata": {},
     "output_type": "display_data"
    }
   ],
   "source": [
    "x = [dim for _ in scores for (dim,scores) in models_dict.items()]\n",
    "y = [sc for sc in scores for (_,scores) in models_dict.items()]\n",
    "plt.scatter(x,y)\n",
    "plt.axis([0,6,0.85,0.95])\n",
    "plt.show()"
   ]
  },
  {
   "cell_type": "code",
   "execution_count": 24,
   "metadata": {},
   "outputs": [
    {
     "data": {
      "text/plain": [
       "0.914704818729364"
      ]
     },
     "execution_count": 24,
     "metadata": {},
     "output_type": "execute_result"
    }
   ],
   "source": [
    "roc_auc_score(test_dataset.y, ensemble_preds, average=\"macro\")"
   ]
  },
  {
   "cell_type": "code",
   "execution_count": 21,
   "metadata": {},
   "outputs": [
    {
     "name": "stdout",
     "output_type": "stream",
     "text": [
      "score moyen pour 1  couche est de 0.8915852570897367\n"
     ]
    }
   ],
   "source": [
    "for (i,ar) in enumerate(list_preds):\n",
    "    score = roc_auc_score(test_dataset.y, ar, average=\"macro\")\n",
    "    print(\"score moyen pour\", i+1, \" couche est de\", score)    "
   ]
  },
  {
   "cell_type": "markdown",
   "metadata": {},
   "source": [
    "## Incorporation de la structure hiérarchique des odeurs\n",
    "on utilise la bibliothéque rdflib pour les odeurs."
   ]
  },
  {
   "cell_type": "code",
   "execution_count": 9,
   "metadata": {},
   "outputs": [
    {
     "data": {
      "text/plain": [
       "<Graph identifier=Ne5948387ee3041d79dfe946824d16243 (<class 'rdflib.graph.Graph'>)>"
      ]
     },
     "execution_count": 9,
     "metadata": {},
     "output_type": "execute_result"
    }
   ],
   "source": [
    "from rdflib import Graph\n",
    "import cirpy\n",
    "g = Graph()\n",
    "g.parse(\"Fichiers-Sources/graph_odor.ttl\")"
   ]
  },
  {
   "cell_type": "code",
   "execution_count": 5,
   "metadata": {},
   "outputs": [
    {
     "name": "stdout",
     "output_type": "stream",
     "text": [
      "480\n"
     ]
    }
   ],
   "source": [
    "# On récupére les odeurs feuilles \n",
    "query = \"\"\"\n",
    "    Select Distinct ?o WHERE {\n",
    "        ?s rdfs:label ?o\n",
    "        Filter(LANG(?o)=\"en\") .\n",
    "         FILTER NOT EXISTS{?cls rdfs:subClassOf ?s } .\n",
    "    } \"\"\"\n",
    "Leaf_odor = []\n",
    "for r in g.query(query):\n",
    "        Leaf_odor.append(r[0])\n",
    "print(len(Leaf_odor))"
   ]
  },
  {
   "cell_type": "markdown",
   "metadata": {},
   "source": [
    "On transforme les CAS en smiles"
   ]
  },
  {
   "cell_type": "code",
   "execution_count": 117,
   "metadata": {
    "scrolled": true
   },
   "outputs": [
    {
     "name": "stderr",
     "output_type": "stream",
     "text": [
      "  0%|                                                  | 0/3920 [00:00<?, ?it/s]\n"
     ]
    },
    {
     "ename": "NameError",
     "evalue": "name 'er' is not defined",
     "output_type": "error",
     "traceback": [
      "\u001b[0;31m---------------------------------------------------------------------------\u001b[0m",
      "\u001b[0;31mNameError\u001b[0m                                 Traceback (most recent call last)",
      "Cell \u001b[0;32mIn[117], line 7\u001b[0m\n\u001b[1;32m      6\u001b[0m \u001b[38;5;28;01mtry\u001b[39;00m:\n\u001b[0;32m----> 7\u001b[0m     smile \u001b[38;5;241m=\u001b[39m \u001b[43mcirpy\u001b[49m\u001b[38;5;241m.\u001b[39mresolve(cas, \u001b[38;5;124m'\u001b[39m\u001b[38;5;124msmiles\u001b[39m\u001b[38;5;124m'\u001b[39m)\n\u001b[1;32m      8\u001b[0m     Smiles\u001b[38;5;241m.\u001b[39mappend(smile)\n",
      "\u001b[0;31mNameError\u001b[0m: name 'cirpy' is not defined",
      "\nDuring handling of the above exception, another exception occurred:\n",
      "\u001b[0;31mNameError\u001b[0m                                 Traceback (most recent call last)",
      "Cell \u001b[0;32mIn[117], line 12\u001b[0m\n\u001b[1;32m     10\u001b[0m         \u001b[38;5;28mprint\u001b[39m(\u001b[38;5;124mf\u001b[39m\u001b[38;5;124m\"\u001b[39m\u001b[38;5;124mcas \u001b[39m\u001b[38;5;132;01m{\u001b[39;00mcas\u001b[38;5;132;01m}\u001b[39;00m\u001b[38;5;124m est none\u001b[39m\u001b[38;5;124m\"\u001b[39m)\n\u001b[1;32m     11\u001b[0m     \u001b[38;5;66;03m#odor_mol_df['smiles'] = smile\u001b[39;00m\n\u001b[0;32m---> 12\u001b[0m \u001b[38;5;28;01mexcept\u001b[39;00m \u001b[43mer\u001b[49m:\n\u001b[1;32m     13\u001b[0m     Erreur\u001b[38;5;241m.\u001b[39mappend(cas)\n\u001b[1;32m     14\u001b[0m     Smiles\u001b[38;5;241m.\u001b[39mappend(np\u001b[38;5;241m.\u001b[39mnan)\n",
      "\u001b[0;31mNameError\u001b[0m: name 'er' is not defined"
     ]
    }
   ],
   "source": [
    "odor_mol_df = pd.read_csv(\"Fichiers-Sources/OdorCAS.csv\", delimiter=\"\\t\")\n",
    "odor_mol_df['smiles'] = odor_mol_df[\"Unnamed: 0\"]\n",
    "Erreur = []\n",
    "Smiles=[]\n",
    "for cas in tqdm(odor_mol_df[\"Unnamed: 0\"]):\n",
    "    try:\n",
    "        smile = cirpy.resolve(cas, 'smiles')\n",
    "        Smiles.append(smile)\n",
    "        if smile is None:\n",
    "            print(f\"cas {cas} est none\")\n",
    "        #odor_mol_df['smiles'] = smile\n",
    "    except er:\n",
    "        Erreur.append(cas)\n",
    "        Smiles.append(np.nan)\n",
    "        print(f'erreur = {er} {cas}')\n",
    "\n",
    "odor_mol_df = odor_mol_df.drop('Unnamed: 0', axis=1)\n"
   ]
  },
  {
   "cell_type": "code",
   "execution_count": 116,
   "metadata": {},
   "outputs": [
    {
     "data": {
      "text/plain": [
       "3920"
      ]
     },
     "execution_count": 116,
     "metadata": {},
     "output_type": "execute_result"
    }
   ],
   "source": [
    "len(Erreur)"
   ]
  },
  {
   "cell_type": "code",
   "execution_count": 36,
   "metadata": {},
   "outputs": [
    {
     "data": {
      "text/plain": [
       "'CCO'"
      ]
     },
     "execution_count": 36,
     "metadata": {},
     "output_type": "execute_result"
    }
   ],
   "source": [
    "pcp.get_compounds(\"64-17-5\",'name')[0].isomeric_smiles"
   ]
  },
  {
   "cell_type": "code",
   "execution_count": 118,
   "metadata": {
    "scrolled": true
   },
   "outputs": [
    {
     "name": "stderr",
     "output_type": "stream",
     "text": [
      " 29%|███████████▎                           | 1134/3920 [09:14<21:02,  2.21it/s]"
     ]
    },
    {
     "name": "stdout",
     "output_type": "stream",
     "text": [
      "1334-78-7\n"
     ]
    },
    {
     "name": "stderr",
     "output_type": "stream",
     "text": [
      " 29%|███████████▎                           | 1136/3920 [09:15<19:44,  2.35it/s]"
     ]
    },
    {
     "name": "stdout",
     "output_type": "stream",
     "text": [
      "1335-44-0\n"
     ]
    },
    {
     "name": "stderr",
     "output_type": "stream",
     "text": [
      " 29%|███████████▍                           | 1154/3920 [09:26<22:29,  2.05it/s]"
     ]
    },
    {
     "name": "stdout",
     "output_type": "stream",
     "text": [
      "1500-94-3\n"
     ]
    },
    {
     "name": "stderr",
     "output_type": "stream",
     "text": [
      " 31%|████████████                           | 1217/3920 [09:59<19:32,  2.31it/s]"
     ]
    },
    {
     "name": "stdout",
     "output_type": "stream",
     "text": [
      "1866-31-5 (N)\n"
     ]
    },
    {
     "name": "stderr",
     "output_type": "stream",
     "text": [
      " 31%|████████████                           | 1218/3920 [10:00<19:20,  2.33it/s]"
     ]
    },
    {
     "name": "stdout",
     "output_type": "stream",
     "text": [
      "1866-31-5 (Z)\n"
     ]
    },
    {
     "name": "stderr",
     "output_type": "stream",
     "text": [
      " 31%|████████████▏                          | 1225/3920 [10:03<19:15,  2.33it/s]"
     ]
    },
    {
     "name": "stdout",
     "output_type": "stream",
     "text": [
      "1888-80-8\n"
     ]
    },
    {
     "name": "stderr",
     "output_type": "stream",
     "text": [
      " 37%|██████████████▎                        | 1436/3920 [11:49<20:30,  2.02it/s]"
     ]
    },
    {
     "name": "stdout",
     "output_type": "stream",
     "text": [
      "3508-83-6\n"
     ]
    },
    {
     "name": "stderr",
     "output_type": "stream",
     "text": [
      " 37%|██████████████▎                        | 1441/3920 [11:51<20:43,  1.99it/s]"
     ]
    },
    {
     "name": "stdout",
     "output_type": "stream",
     "text": [
      "3569-36-6\n"
     ]
    },
    {
     "name": "stderr",
     "output_type": "stream",
     "text": [
      " 40%|███████████████▌                       | 1564/3920 [12:53<17:33,  2.24it/s]"
     ]
    },
    {
     "name": "stdout",
     "output_type": "stream",
     "text": [
      "4798-44-1 (S)\n"
     ]
    },
    {
     "name": "stderr",
     "output_type": "stream",
     "text": [
      " 49%|███████████████████▏                   | 1931/3920 [15:59<15:01,  2.21it/s]"
     ]
    },
    {
     "name": "stdout",
     "output_type": "stream",
     "text": [
      "8013-90-9\n"
     ]
    },
    {
     "name": "stderr",
     "output_type": "stream",
     "text": [
      " 49%|███████████████████▏                   | 1932/3920 [15:59<14:02,  2.36it/s]"
     ]
    },
    {
     "name": "stdout",
     "output_type": "stream",
     "text": [
      "8024-27-9\n"
     ]
    },
    {
     "name": "stderr",
     "output_type": "stream",
     "text": [
      " 49%|███████████████████▏                   | 1933/3920 [15:59<13:33,  2.44it/s]"
     ]
    },
    {
     "name": "stdout",
     "output_type": "stream",
     "text": [
      "8030-89-5\n"
     ]
    },
    {
     "name": "stderr",
     "output_type": "stream",
     "text": [
      " 49%|███████████████████▏                   | 1934/3920 [16:00<13:16,  2.49it/s]"
     ]
    },
    {
     "name": "stdout",
     "output_type": "stream",
     "text": [
      "9003-73-0\n"
     ]
    },
    {
     "name": "stderr",
     "output_type": "stream",
     "text": [
      " 49%|███████████████████▎                   | 1935/3920 [16:00<12:49,  2.58it/s]"
     ]
    },
    {
     "name": "stdout",
     "output_type": "stream",
     "text": [
      "9005-80-5\n"
     ]
    },
    {
     "name": "stderr",
     "output_type": "stream",
     "text": [
      " 51%|███████████████████▊                   | 1991/3920 [16:30<16:25,  1.96it/s]"
     ]
    },
    {
     "name": "stdout",
     "output_type": "stream",
     "text": [
      "10448-24-5\n"
     ]
    },
    {
     "name": "stderr",
     "output_type": "stream",
     "text": [
      " 52%|████████████████████                   | 2022/3920 [16:47<14:57,  2.12it/s]"
     ]
    },
    {
     "name": "stdout",
     "output_type": "stream",
     "text": [
      "11028-42-5\n"
     ]
    },
    {
     "name": "stderr",
     "output_type": "stream",
     "text": [
      " 53%|████████████████████▌                  | 2066/3920 [17:10<15:09,  2.04it/s]"
     ]
    },
    {
     "name": "stdout",
     "output_type": "stream",
     "text": [
      "13678-56-3\n"
     ]
    },
    {
     "name": "stderr",
     "output_type": "stream",
     "text": [
      " 53%|████████████████████▌                  | 2070/3920 [17:12<14:50,  2.08it/s]"
     ]
    },
    {
     "name": "stdout",
     "output_type": "stream",
     "text": [
      "13678-63-2\n"
     ]
    },
    {
     "name": "stderr",
     "output_type": "stream",
     "text": [
      " 55%|█████████████████████▌                 | 2164/3920 [18:00<14:23,  2.03it/s]"
     ]
    },
    {
     "name": "stdout",
     "output_type": "stream",
     "text": [
      "15514-30-0\n"
     ]
    },
    {
     "name": "stderr",
     "output_type": "stream",
     "text": [
      " 57%|██████████████████████▏                | 2225/3920 [18:30<12:45,  2.22it/s]"
     ]
    },
    {
     "name": "stdout",
     "output_type": "stream",
     "text": [
      "17618-94-9\n"
     ]
    },
    {
     "name": "stderr",
     "output_type": "stream",
     "text": [
      " 60%|███████████████████████▍               | 2350/3920 [19:36<12:55,  2.02it/s]"
     ]
    },
    {
     "name": "stdout",
     "output_type": "stream",
     "text": [
      "20992-69-2\n"
     ]
    },
    {
     "name": "stderr",
     "output_type": "stream",
     "text": [
      " 61%|███████████████████████▋               | 2383/3920 [19:53<12:11,  2.10it/s]"
     ]
    },
    {
     "name": "stdout",
     "output_type": "stream",
     "text": [
      "22074-43-7\n"
     ]
    },
    {
     "name": "stderr",
     "output_type": "stream",
     "text": [
      " 64%|████████████████████████▊              | 2497/3920 [20:49<10:57,  2.17it/s]"
     ]
    },
    {
     "name": "stdout",
     "output_type": "stream",
     "text": [
      "26896-48-0\n"
     ]
    },
    {
     "name": "stderr",
     "output_type": "stream",
     "text": [
      " 64%|█████████████████████████▏             | 2527/3920 [21:05<11:17,  2.06it/s]"
     ]
    },
    {
     "name": "stdout",
     "output_type": "stream",
     "text": [
      "28631-86-9\n"
     ]
    },
    {
     "name": "stderr",
     "output_type": "stream",
     "text": [
      " 68%|██████████████████████████▍            | 2661/3920 [22:14<09:01,  2.32it/s]"
     ]
    },
    {
     "name": "stdout",
     "output_type": "stream",
     "text": [
      "35117-86-3\n"
     ]
    },
    {
     "name": "stderr",
     "output_type": "stream",
     "text": [
      " 68%|██████████████████████████▌            | 2674/3920 [22:21<09:23,  2.21it/s]"
     ]
    },
    {
     "name": "stdout",
     "output_type": "stream",
     "text": [
      "35250-78-3\n"
     ]
    },
    {
     "name": "stderr",
     "output_type": "stream",
     "text": [
      " 69%|███████████████████████████            | 2717/3920 [22:42<09:28,  2.12it/s]"
     ]
    },
    {
     "name": "stdout",
     "output_type": "stream",
     "text": [
      "37837-44-8\n"
     ]
    },
    {
     "name": "stderr",
     "output_type": "stream",
     "text": [
      " 70%|███████████████████████████▎           | 2742/3920 [22:54<08:21,  2.35it/s]"
     ]
    },
    {
     "name": "stdout",
     "output_type": "stream",
     "text": [
      "38888-81-2\n"
     ]
    },
    {
     "name": "stderr",
     "output_type": "stream",
     "text": [
      " 72%|████████████████████████████           | 2818/3920 [23:32<08:15,  2.22it/s]"
     ]
    },
    {
     "name": "stdout",
     "output_type": "stream",
     "text": [
      "41892-32-4\n"
     ]
    },
    {
     "name": "stderr",
     "output_type": "stream",
     "text": [
      " 73%|████████████████████████████▍          | 2860/3920 [23:53<07:47,  2.27it/s]"
     ]
    },
    {
     "name": "stdout",
     "output_type": "stream",
     "text": [
      "51371-47-2\n"
     ]
    },
    {
     "name": "stderr",
     "output_type": "stream",
     "text": [
      " 73%|███████████████████████▍        | 2876/3920 [1:10:55<244:58:26, 844.74s/it]"
     ]
    },
    {
     "name": "stdout",
     "output_type": "stream",
     "text": [
      "52089-55-1\n"
     ]
    },
    {
     "name": "stderr",
     "output_type": "stream",
     "text": [
      " 73%|████████████████████████▏        | 2880/3920 [1:10:57<58:41:41, 203.17s/it]"
     ]
    },
    {
     "name": "stdout",
     "output_type": "stream",
     "text": [
      "52435-37-7\n"
     ]
    },
    {
     "name": "stderr",
     "output_type": "stream",
     "text": [
      " 74%|█████████████████████████▊         | 2888/3920 [1:11:00<3:29:07, 12.16s/it]"
     ]
    },
    {
     "name": "stdout",
     "output_type": "stream",
     "text": [
      "52704-36-6\n"
     ]
    },
    {
     "name": "stderr",
     "output_type": "stream",
     "text": [
      " 75%|███████████████████████████▊         | 2946/3920 [1:11:29<08:28,  1.92it/s]"
     ]
    },
    {
     "name": "stdout",
     "output_type": "stream",
     "text": [
      "54830-99-8\n"
     ]
    },
    {
     "name": "stderr",
     "output_type": "stream",
     "text": [
      " 76%|████████████████████████████▏        | 2980/3920 [1:11:47<07:29,  2.09it/s]"
     ]
    },
    {
     "name": "stdout",
     "output_type": "stream",
     "text": [
      "56426-65-4\n"
     ]
    },
    {
     "name": "stderr",
     "output_type": "stream",
     "text": [
      " 77%|████████████████████████▌       | 3007/3920 [2:03:06<233:12:50, 919.57s/it]"
     ]
    },
    {
     "name": "stdout",
     "output_type": "stream",
     "text": [
      "57893-27-3\n"
     ]
    },
    {
     "name": "stderr",
     "output_type": "stream",
     "text": [
      " 77%|█████████████████████████▎       | 3013/3920 [2:03:09<27:22:34, 108.66s/it]"
     ]
    },
    {
     "name": "stdout",
     "output_type": "stream",
     "text": [
      "58214-97-4\n"
     ]
    },
    {
     "name": "stderr",
     "output_type": "stream",
     "text": [
      " 77%|████████████████████████████▌        | 3029/3920 [2:03:17<11:33,  1.28it/s]"
     ]
    },
    {
     "name": "stdout",
     "output_type": "stream",
     "text": [
      "59020-78-9\n"
     ]
    },
    {
     "name": "stderr",
     "output_type": "stream",
     "text": [
      " 80%|█████████████████████████████▌       | 3126/3920 [2:04:15<06:26,  2.05it/s]"
     ]
    },
    {
     "name": "stdout",
     "output_type": "stream",
     "text": [
      "63458-81-1\n"
     ]
    },
    {
     "name": "stderr",
     "output_type": "stream",
     "text": [
      " 81%|█████████████████████████████▊       | 3157/3920 [2:04:31<05:44,  2.21it/s]"
     ]
    },
    {
     "name": "stdout",
     "output_type": "stream",
     "text": [
      "65405-84-7\n"
     ]
    },
    {
     "name": "stderr",
     "output_type": "stream",
     "text": [
      " 81%|█████████████████████████████▉       | 3167/3920 [2:04:36<05:31,  2.27it/s]"
     ]
    },
    {
     "name": "stdout",
     "output_type": "stream",
     "text": [
      "65504-96-3\n"
     ]
    },
    {
     "name": "stderr",
     "output_type": "stream",
     "text": [
      " 81%|██████████████████████████████       | 3191/3920 [2:04:49<05:39,  2.15it/s]"
     ]
    },
    {
     "name": "stdout",
     "output_type": "stream",
     "text": [
      "66427-21-2\n"
     ]
    },
    {
     "name": "stderr",
     "output_type": "stream",
     "text": [
      " 81%|██████████████████████████████▏      | 3192/3920 [2:04:50<05:25,  2.24it/s]"
     ]
    },
    {
     "name": "stdout",
     "output_type": "stream",
     "text": [
      "66427-22-3\n"
     ]
    },
    {
     "name": "stderr",
     "output_type": "stream",
     "text": [
      " 82%|██████████████████████████████▏      | 3201/3920 [2:04:54<05:49,  2.06it/s]"
     ]
    },
    {
     "name": "stdout",
     "output_type": "stream",
     "text": [
      "67114-38-9\n"
     ]
    },
    {
     "name": "stderr",
     "output_type": "stream",
     "text": [
      " 83%|██████████████████████████████▌      | 3239/3920 [2:05:16<07:31,  1.51it/s]"
     ]
    },
    {
     "name": "stdout",
     "output_type": "stream",
     "text": [
      "68908-82-7\n"
     ]
    },
    {
     "name": "stderr",
     "output_type": "stream",
     "text": [
      " 85%|███████████████████████████████▎     | 3313/3920 [2:05:57<05:29,  1.84it/s]"
     ]
    },
    {
     "name": "stdout",
     "output_type": "stream",
     "text": [
      "68378-13-2\n"
     ]
    },
    {
     "name": "stderr",
     "output_type": "stream",
     "text": [
      " 85%|███████████████████████████████▍     | 3328/3920 [2:06:05<05:11,  1.90it/s]"
     ]
    },
    {
     "name": "stdout",
     "output_type": "stream",
     "text": [
      "68516-18-7\n"
     ]
    },
    {
     "name": "stderr",
     "output_type": "stream",
     "text": [
      " 85%|███████████████████████████████▍     | 3329/3920 [2:06:05<04:45,  2.07it/s]"
     ]
    },
    {
     "name": "stdout",
     "output_type": "stream",
     "text": [
      "68527-06-0\n"
     ]
    },
    {
     "name": "stderr",
     "output_type": "stream",
     "text": [
      " 85%|███████████████████████████████▌     | 3340/3920 [2:06:10<04:31,  2.14it/s]"
     ]
    },
    {
     "name": "stdout",
     "output_type": "stream",
     "text": [
      "68555-62-4\n"
     ]
    },
    {
     "name": "stderr",
     "output_type": "stream",
     "text": [
      " 85%|███████████████████████████████▌     | 3344/3920 [2:06:12<04:26,  2.16it/s]"
     ]
    },
    {
     "name": "stdout",
     "output_type": "stream",
     "text": [
      "68555-95-3\n"
     ]
    },
    {
     "name": "stderr",
     "output_type": "stream",
     "text": [
      " 85%|███████████████████████████████▌     | 3345/3920 [2:06:12<04:10,  2.29it/s]"
     ]
    },
    {
     "name": "stdout",
     "output_type": "stream",
     "text": [
      "68585-09-1\n"
     ]
    },
    {
     "name": "stderr",
     "output_type": "stream",
     "text": [
      " 85%|███████████████████████████████▌     | 3346/3920 [2:06:13<03:59,  2.40it/s]"
     ]
    },
    {
     "name": "stdout",
     "output_type": "stream",
     "text": [
      "68608-32-2\n"
     ]
    },
    {
     "name": "stderr",
     "output_type": "stream",
     "text": [
      " 85%|███████████████████████████████▌     | 3347/3920 [2:06:13<03:52,  2.47it/s]"
     ]
    },
    {
     "name": "stdout",
     "output_type": "stream",
     "text": [
      "68611-23-4\n"
     ]
    },
    {
     "name": "stderr",
     "output_type": "stream",
     "text": [
      " 85%|███████████████████████████████▌     | 3348/3920 [2:06:14<03:45,  2.54it/s]"
     ]
    },
    {
     "name": "stdout",
     "output_type": "stream",
     "text": [
      "68648-34-0\n"
     ]
    },
    {
     "name": "stderr",
     "output_type": "stream",
     "text": [
      " 86%|███████████████████████████████▋     | 3356/3920 [2:06:19<04:55,  1.91it/s]"
     ]
    },
    {
     "name": "stdout",
     "output_type": "stream",
     "text": [
      "68738-94-3\n"
     ]
    },
    {
     "name": "stderr",
     "output_type": "stream",
     "text": [
      " 86%|███████████████████████████████▊     | 3365/3920 [2:06:25<06:03,  1.53it/s]"
     ]
    },
    {
     "name": "stdout",
     "output_type": "stream",
     "text": [
      "68877-29-2\n"
     ]
    },
    {
     "name": "stderr",
     "output_type": "stream",
     "text": [
      " 86%|███████████████████████████████▊     | 3370/3920 [2:06:27<04:37,  1.98it/s]"
     ]
    },
    {
     "name": "stdout",
     "output_type": "stream",
     "text": [
      "68908-82-7\n"
     ]
    },
    {
     "name": "stderr",
     "output_type": "stream",
     "text": [
      " 86%|███████████████████████████████▊     | 3377/3920 [2:06:31<04:44,  1.91it/s]"
     ]
    },
    {
     "name": "stdout",
     "output_type": "stream",
     "text": [
      "68966-86-9\n"
     ]
    },
    {
     "name": "stderr",
     "output_type": "stream",
     "text": [
      " 86%|███████████████████████████████▉     | 3382/3920 [2:06:34<04:24,  2.03it/s]"
     ]
    },
    {
     "name": "stdout",
     "output_type": "stream",
     "text": [
      "69103-01-1\n"
     ]
    },
    {
     "name": "stderr",
     "output_type": "stream",
     "text": [
      " 87%|████████████████████████████████     | 3403/3920 [2:06:44<03:56,  2.18it/s]"
     ]
    },
    {
     "name": "stdout",
     "output_type": "stream",
     "text": [
      "70266-48-7\n"
     ]
    },
    {
     "name": "stderr",
     "output_type": "stream",
     "text": [
      " 87%|████████████████████████████████▏    | 3407/3920 [2:06:46<04:35,  1.86it/s]"
     ]
    },
    {
     "name": "stdout",
     "output_type": "stream",
     "text": [
      "70955-71-4\n"
     ]
    },
    {
     "name": "stderr",
     "output_type": "stream",
     "text": [
      " 87%|████████████████████████████████▎    | 3428/3920 [2:06:57<04:04,  2.01it/s]"
     ]
    },
    {
     "name": "stdout",
     "output_type": "stream",
     "text": [
      "71832-76-3\n"
     ]
    },
    {
     "name": "stderr",
     "output_type": "stream",
     "text": [
      " 88%|████████████████████████████████▍    | 3430/3920 [2:06:57<03:48,  2.14it/s]"
     ]
    },
    {
     "name": "stdout",
     "output_type": "stream",
     "text": [
      "71978-01-3\n"
     ]
    },
    {
     "name": "stderr",
     "output_type": "stream",
     "text": [
      " 88%|████████████████████████████████▌    | 3446/3920 [2:07:06<03:54,  2.02it/s]"
     ]
    },
    {
     "name": "stdout",
     "output_type": "stream",
     "text": [
      "72611-71-3\n"
     ]
    },
    {
     "name": "stderr",
     "output_type": "stream",
     "text": [
      " 88%|████████████████████████████████▌    | 3447/3920 [2:07:06<03:37,  2.18it/s]"
     ]
    },
    {
     "name": "stdout",
     "output_type": "stream",
     "text": [
      "72681-03-9\n"
     ]
    },
    {
     "name": "stderr",
     "output_type": "stream",
     "text": [
      " 88%|████████████████████████████████▋    | 3464/3920 [2:07:16<03:50,  1.98it/s]"
     ]
    },
    {
     "name": "stdout",
     "output_type": "stream",
     "text": [
      "73018-51-6\n"
     ]
    },
    {
     "name": "stderr",
     "output_type": "stream",
     "text": [
      " 89%|████████████████████████████████▊    | 3471/3920 [2:07:19<03:35,  2.08it/s]"
     ]
    },
    {
     "name": "stdout",
     "output_type": "stream",
     "text": [
      "73744-93-1\n"
     ]
    },
    {
     "name": "stderr",
     "output_type": "stream",
     "text": [
      " 90%|█████████████████████████████████▏   | 3514/3920 [2:07:44<03:21,  2.01it/s]"
     ]
    },
    {
     "name": "stdout",
     "output_type": "stream",
     "text": [
      "78053-99-3\n"
     ]
    },
    {
     "name": "stderr",
     "output_type": "stream",
     "text": [
      " 90%|█████████████████████████████████▏   | 3519/3920 [2:07:46<03:09,  2.12it/s]"
     ]
    },
    {
     "name": "stdout",
     "output_type": "stream",
     "text": [
      "79044-50-1\n"
     ]
    },
    {
     "name": "stderr",
     "output_type": "stream",
     "text": [
      " 90%|█████████████████████████████████▎   | 3526/3920 [2:07:50<03:06,  2.11it/s]"
     ]
    },
    {
     "name": "stdout",
     "output_type": "stream",
     "text": [
      "80449-58-7\n"
     ]
    },
    {
     "name": "stderr",
     "output_type": "stream",
     "text": [
      " 92%|█████████████████████████████████▉   | 3593/3920 [2:08:26<02:48,  1.94it/s]"
     ]
    },
    {
     "name": "stdout",
     "output_type": "stream",
     "text": [
      "88270-38-6\n"
     ]
    },
    {
     "name": "stderr",
     "output_type": "stream",
     "text": [
      " 92%|██████████████████████████████████   | 3613/3920 [2:08:38<02:59,  1.71it/s]"
     ]
    },
    {
     "name": "stdout",
     "output_type": "stream",
     "text": [
      "91771-62-9\n"
     ]
    },
    {
     "name": "stderr",
     "output_type": "stream",
     "text": [
      " 92%|██████████████████████████████████▏  | 3623/3920 [2:08:43<02:22,  2.08it/s]"
     ]
    },
    {
     "name": "stdout",
     "output_type": "stream",
     "text": [
      "93762-35-7\n"
     ]
    },
    {
     "name": "stderr",
     "output_type": "stream",
     "text": [
      " 93%|██████████████████████████████████▎  | 3630/3920 [2:08:46<02:22,  2.04it/s]"
     ]
    },
    {
     "name": "stdout",
     "output_type": "stream",
     "text": [
      "93905-03-4\n"
     ]
    },
    {
     "name": "stderr",
     "output_type": "stream",
     "text": [
      " 93%|██████████████████████████████████▍  | 3647/3920 [2:08:56<02:04,  2.19it/s]"
     ]
    },
    {
     "name": "stdout",
     "output_type": "stream",
     "text": [
      "94248-21-2\n"
     ]
    },
    {
     "name": "stderr",
     "output_type": "stream",
     "text": [
      " 93%|██████████████████████████████████▌  | 3656/3920 [2:09:00<02:02,  2.16it/s]"
     ]
    },
    {
     "name": "stdout",
     "output_type": "stream",
     "text": [
      "95654-18-5\n"
     ]
    },
    {
     "name": "stderr",
     "output_type": "stream",
     "text": [
      " 93%|██████████████████████████████████▌  | 3657/3920 [2:09:00<01:55,  2.28it/s]"
     ]
    },
    {
     "name": "stdout",
     "output_type": "stream",
     "text": [
      "95936-66-6\n"
     ]
    },
    {
     "name": "stderr",
     "output_type": "stream",
     "text": [
      " 93%|██████████████████████████████████▌  | 3660/3920 [2:09:02<02:00,  2.16it/s]"
     ]
    },
    {
     "name": "stdout",
     "output_type": "stream",
     "text": [
      "96508-09-7\n"
     ]
    },
    {
     "name": "stderr",
     "output_type": "stream",
     "text": [
      " 94%|██████████████████████████████████▊  | 3691/3920 [2:09:19<02:07,  1.80it/s]"
     ]
    },
    {
     "name": "stdout",
     "output_type": "stream",
     "text": [
      "107797-24-0\n"
     ]
    },
    {
     "name": "stderr",
     "output_type": "stream",
     "text": [
      " 94%|██████████████████████████████████▊  | 3692/3920 [2:09:20<02:19,  1.63it/s]"
     ]
    },
    {
     "name": "stdout",
     "output_type": "stream",
     "text": [
      "107797-25-1\n"
     ]
    },
    {
     "name": "stderr",
     "output_type": "stream",
     "text": [
      " 94%|██████████████████████████████████▉  | 3698/3920 [2:09:23<02:03,  1.80it/s]"
     ]
    },
    {
     "name": "stdout",
     "output_type": "stream",
     "text": [
      "108861-13-8\n"
     ]
    },
    {
     "name": "stderr",
     "output_type": "stream",
     "text": [
      " 95%|███████████████████████████████████  | 3714/3920 [2:09:32<01:40,  2.05it/s]"
     ]
    },
    {
     "name": "stdout",
     "output_type": "stream",
     "text": [
      "115482-83-2\n"
     ]
    },
    {
     "name": "stderr",
     "output_type": "stream",
     "text": [
      " 95%|███████████████████████████████████▏ | 3732/3920 [2:09:41<01:25,  2.20it/s]"
     ]
    },
    {
     "name": "stdout",
     "output_type": "stream",
     "text": [
      "124918-65-6\n"
     ]
    },
    {
     "name": "stderr",
     "output_type": "stream",
     "text": [
      " 95%|███████████████████████████████████▎ | 3736/3920 [2:09:43<01:26,  2.12it/s]"
     ]
    },
    {
     "name": "stdout",
     "output_type": "stream",
     "text": [
      "125352-06-9\n"
     ]
    },
    {
     "name": "stderr",
     "output_type": "stream",
     "text": [
      " 95%|███████████████████████████████████▎ | 3737/3920 [2:09:44<01:21,  2.25it/s]"
     ]
    },
    {
     "name": "stdout",
     "output_type": "stream",
     "text": [
      "125476-23-5\n"
     ]
    },
    {
     "name": "stderr",
     "output_type": "stream",
     "text": [
      " 95%|███████████████████████████████████▎ | 3738/3920 [2:09:44<01:17,  2.34it/s]"
     ]
    },
    {
     "name": "stdout",
     "output_type": "stream",
     "text": [
      "125476-24-6\n"
     ]
    },
    {
     "name": "stderr",
     "output_type": "stream",
     "text": [
      " 95%|███████████████████████████████████▎ | 3739/3920 [2:09:44<01:15,  2.39it/s]"
     ]
    },
    {
     "name": "stdout",
     "output_type": "stream",
     "text": [
      "125811-37-2\n"
     ]
    },
    {
     "name": "stderr",
     "output_type": "stream",
     "text": [
      " 96%|███████████████████████████████████▍ | 3748/3920 [2:09:49<01:20,  2.14it/s]"
     ]
    },
    {
     "name": "stdout",
     "output_type": "stream",
     "text": [
      "131222-75-8\n"
     ]
    },
    {
     "name": "stderr",
     "output_type": "stream",
     "text": [
      " 96%|███████████████████████████████████▍ | 3749/3920 [2:09:50<01:15,  2.26it/s]"
     ]
    },
    {
     "name": "stdout",
     "output_type": "stream",
     "text": [
      "131222-76-9\n"
     ]
    },
    {
     "name": "stderr",
     "output_type": "stream",
     "text": [
      " 96%|███████████████████████████████████▌ | 3766/3920 [2:09:59<01:19,  1.93it/s]"
     ]
    },
    {
     "name": "stdout",
     "output_type": "stream",
     "text": [
      "139164-92-4\n"
     ]
    },
    {
     "name": "stderr",
     "output_type": "stream",
     "text": [
      " 97%|███████████████████████████████████▊ | 3792/3920 [2:10:13<00:58,  2.20it/s]"
     ]
    },
    {
     "name": "stdout",
     "output_type": "stream",
     "text": [
      "168564-54-3\n"
     ]
    },
    {
     "name": "stderr",
     "output_type": "stream",
     "text": [
      " 98%|████████████████████████████████████ | 3826/3920 [2:10:32<00:46,  2.02it/s]"
     ]
    },
    {
     "name": "stdout",
     "output_type": "stream",
     "text": [
      "252736-39-3\n"
     ]
    },
    {
     "name": "stderr",
     "output_type": "stream",
     "text": [
      " 98%|████████████████████████████████████▏| 3833/3920 [2:10:35<00:38,  2.26it/s]"
     ]
    },
    {
     "name": "stdout",
     "output_type": "stream",
     "text": [
      "300371-33-9\n"
     ]
    },
    {
     "name": "stderr",
     "output_type": "stream",
     "text": [
      " 98%|████████████████████████████████████▎| 3843/3920 [2:10:40<00:36,  2.12it/s]"
     ]
    },
    {
     "name": "stdout",
     "output_type": "stream",
     "text": [
      "359794-78-8\n"
     ]
    },
    {
     "name": "stderr",
     "output_type": "stream",
     "text": [
      " 98%|████████████████████████████████████▍| 3857/3920 [2:10:47<00:30,  2.06it/s]"
     ]
    },
    {
     "name": "stdout",
     "output_type": "stream",
     "text": [
      "597532-53-1\n"
     ]
    },
    {
     "name": "stderr",
     "output_type": "stream",
     "text": [
      " 99%|████████████████████████████████████▍| 3866/3920 [2:10:51<00:26,  2.02it/s]"
     ]
    },
    {
     "name": "stdout",
     "output_type": "stream",
     "text": [
      "737776-59-9\n"
     ]
    },
    {
     "name": "stderr",
     "output_type": "stream",
     "text": [
      " 99%|████████████████████████████████████▍| 3867/3920 [2:10:52<00:24,  2.16it/s]"
     ]
    },
    {
     "name": "stdout",
     "output_type": "stream",
     "text": [
      "737776-68-0\n"
     ]
    },
    {
     "name": "stderr",
     "output_type": "stream",
     "text": [
      " 99%|████████████████████████████████████▋| 3881/3920 [2:11:00<00:20,  1.87it/s]"
     ]
    },
    {
     "name": "stdout",
     "output_type": "stream",
     "text": [
      "871465-49-5\n"
     ]
    },
    {
     "name": "stderr",
     "output_type": "stream",
     "text": [
      " 99%|████████████████████████████████████▋| 3884/3920 [2:11:01<00:14,  2.45it/s]"
     ]
    },
    {
     "name": "stdout",
     "output_type": "stream",
     "text": [
      "1094004-39-3\n"
     ]
    },
    {
     "name": "stderr",
     "output_type": "stream",
     "text": [
      " 99%|████████████████████████████████████▊| 3894/3920 [2:11:05<00:10,  2.55it/s]"
     ]
    },
    {
     "name": "stdout",
     "output_type": "stream",
     "text": [
      "977091-24-9\n"
     ]
    },
    {
     "name": "stderr",
     "output_type": "stream",
     "text": [
      " 99%|████████████████████████████████████▊| 3898/3920 [2:11:06<00:06,  3.59it/s]"
     ]
    },
    {
     "name": "stdout",
     "output_type": "stream",
     "text": [
      "1009814-14-5\n",
      "1023288-21-2\n"
     ]
    },
    {
     "name": "stderr",
     "output_type": "stream",
     "text": [
      " 99%|████████████████████████████████████▊| 3899/3920 [2:11:07<00:05,  3.98it/s]"
     ]
    },
    {
     "name": "stdout",
     "output_type": "stream",
     "text": [
      "1064678-08-5\n"
     ]
    },
    {
     "name": "stderr",
     "output_type": "stream",
     "text": [
      " 99%|████████████████████████████████████▊| 3900/3920 [2:11:07<00:05,  3.55it/s]"
     ]
    },
    {
     "name": "stdout",
     "output_type": "stream",
     "text": [
      "1094004-39-3\n"
     ]
    },
    {
     "name": "stderr",
     "output_type": "stream",
     "text": [
      "100%|████████████████████████████████████▊| 3901/3920 [2:11:07<00:05,  3.33it/s]"
     ]
    },
    {
     "name": "stdout",
     "output_type": "stream",
     "text": [
      "1120363-98-5\n"
     ]
    },
    {
     "name": "stderr",
     "output_type": "stream",
     "text": [
      "100%|████████████████████████████████████▊| 3902/3920 [2:11:08<00:05,  3.13it/s]"
     ]
    },
    {
     "name": "stdout",
     "output_type": "stream",
     "text": [
      "1009814-14-5\n"
     ]
    },
    {
     "name": "stderr",
     "output_type": "stream",
     "text": [
      "100%|████████████████████████████████████▊| 3903/3920 [2:11:08<00:05,  2.97it/s]"
     ]
    },
    {
     "name": "stdout",
     "output_type": "stream",
     "text": [
      "1160112-20-8\n"
     ]
    },
    {
     "name": "stderr",
     "output_type": "stream",
     "text": [
      "100%|████████████████████████████████████▊| 3906/3920 [2:11:09<00:05,  2.48it/s]"
     ]
    },
    {
     "name": "stdout",
     "output_type": "stream",
     "text": [
      "1225070-56-3\n"
     ]
    },
    {
     "name": "stderr",
     "output_type": "stream",
     "text": [
      "100%|████████████████████████████████████▉| 3907/3920 [2:11:10<00:05,  2.52it/s]"
     ]
    },
    {
     "name": "stdout",
     "output_type": "stream",
     "text": [
      "1241905-19-0\n"
     ]
    },
    {
     "name": "stderr",
     "output_type": "stream",
     "text": [
      "100%|████████████████████████████████████▉| 3910/3920 [2:11:11<00:04,  2.10it/s]"
     ]
    },
    {
     "name": "stdout",
     "output_type": "stream",
     "text": [
      "1304037-63-5\n"
     ]
    },
    {
     "name": "stderr",
     "output_type": "stream",
     "text": [
      "100%|████████████████████████████████████▉| 3911/3920 [2:11:12<00:04,  2.23it/s]"
     ]
    },
    {
     "name": "stdout",
     "output_type": "stream",
     "text": [
      "1304037-68-0\n"
     ]
    },
    {
     "name": "stderr",
     "output_type": "stream",
     "text": [
      "100%|█████████████████████████████████████| 3920/3920 [2:11:16<00:00,  2.01s/it]\n"
     ]
    }
   ],
   "source": [
    "import pubchempy as pcp\n",
    "df_od = pd.read_csv(\"Fichiers-Sources/OdorCAS.csv\", delimiter=\"\\t\")\n",
    "Erreur = []\n",
    "Smiles=[]\n",
    "for cas in tqdm(df_od[\"Unnamed: 0\"]):\n",
    "    try:\n",
    "        smile = pcp.get_compounds(cas,'name')[0].isomeric_smiles\n",
    "        Smiles.append(smile)\n",
    "        if smile is None:\n",
    "            print(f\"cas {cas} est none\")\n",
    "        #odor_mol_df['smiles'] = smile\n",
    "    except:\n",
    "        Erreur.append(cas)\n",
    "        Smiles.append(np.nan)\n",
    "        print(cas)\n",
    "\n",
    "df_od = df_od.drop('Unnamed: 0', axis=1)\n"
   ]
  },
  {
   "cell_type": "code",
   "execution_count": 119,
   "metadata": {},
   "outputs": [
    {
     "data": {
      "text/plain": [
       "111"
      ]
     },
     "execution_count": 119,
     "metadata": {},
     "output_type": "execute_result"
    }
   ],
   "source": [
    "L = [1 for nan in Smiles if nan == np.nan]\n",
    "len(Erreur)"
   ]
  },
  {
   "cell_type": "code",
   "execution_count": 129,
   "metadata": {},
   "outputs": [
    {
     "ename": "TypeError",
     "evalue": "'>=' not supported between instances of 'str' and 'int'",
     "output_type": "error",
     "traceback": [
      "\u001b[0;31m---------------------------------------------------------------------------\u001b[0m",
      "\u001b[0;31mTypeError\u001b[0m                                 Traceback (most recent call last)",
      "Cell \u001b[0;32mIn[129], line 3\u001b[0m\n\u001b[1;32m      1\u001b[0m SM \u001b[38;5;241m=\u001b[39m pd\u001b[38;5;241m.\u001b[39mDataFrame({\u001b[38;5;124m\"\u001b[39m\u001b[38;5;124msmiles\u001b[39m\u001b[38;5;124m\"\u001b[39m : Smiles})\n\u001b[1;32m      2\u001b[0m data \u001b[38;5;241m=\u001b[39m df_od[:]\n\u001b[0;32m----> 3\u001b[0m data \u001b[38;5;241m=\u001b[39m data\u001b[38;5;241m.\u001b[39mloc[:,(\u001b[43mdata\u001b[49m\u001b[38;5;241;43m.\u001b[39;49m\u001b[43msum\u001b[49m\u001b[43m(\u001b[49m\u001b[43maxis\u001b[49m\u001b[38;5;241;43m=\u001b[39;49m\u001b[38;5;241;43m0\u001b[39;49m\u001b[43m)\u001b[49m\u001b[38;5;241;43m>\u001b[39;49m\u001b[38;5;241;43m=\u001b[39;49m\u001b[38;5;241;43m30\u001b[39;49m)]\n\u001b[1;32m      4\u001b[0m df_od \u001b[38;5;241m=\u001b[39m pd\u001b[38;5;241m.\u001b[39mconcat([SM,data],axis\u001b[38;5;241m=\u001b[39m\u001b[38;5;241m1\u001b[39m)\n\u001b[1;32m      5\u001b[0m \u001b[38;5;28mprint\u001b[39m(df_od\u001b[38;5;241m.\u001b[39mshape)\n",
      "File \u001b[0;32m~/anaconda3/envs/open_test/lib/python3.9/site-packages/pandas/core/ops/common.py:81\u001b[0m, in \u001b[0;36m_unpack_zerodim_and_defer.<locals>.new_method\u001b[0;34m(self, other)\u001b[0m\n\u001b[1;32m     77\u001b[0m             \u001b[38;5;28;01mreturn\u001b[39;00m \u001b[38;5;28mNotImplemented\u001b[39m\n\u001b[1;32m     79\u001b[0m other \u001b[38;5;241m=\u001b[39m item_from_zerodim(other)\n\u001b[0;32m---> 81\u001b[0m \u001b[38;5;28;01mreturn\u001b[39;00m \u001b[43mmethod\u001b[49m\u001b[43m(\u001b[49m\u001b[38;5;28;43mself\u001b[39;49m\u001b[43m,\u001b[49m\u001b[43m \u001b[49m\u001b[43mother\u001b[49m\u001b[43m)\u001b[49m\n",
      "File \u001b[0;32m~/anaconda3/envs/open_test/lib/python3.9/site-packages/pandas/core/arraylike.py:60\u001b[0m, in \u001b[0;36mOpsMixin.__ge__\u001b[0;34m(self, other)\u001b[0m\n\u001b[1;32m     58\u001b[0m \u001b[38;5;129m@unpack_zerodim_and_defer\u001b[39m(\u001b[38;5;124m\"\u001b[39m\u001b[38;5;124m__ge__\u001b[39m\u001b[38;5;124m\"\u001b[39m)\n\u001b[1;32m     59\u001b[0m \u001b[38;5;28;01mdef\u001b[39;00m \u001b[38;5;21m__ge__\u001b[39m(\u001b[38;5;28mself\u001b[39m, other):\n\u001b[0;32m---> 60\u001b[0m     \u001b[38;5;28;01mreturn\u001b[39;00m \u001b[38;5;28;43mself\u001b[39;49m\u001b[38;5;241;43m.\u001b[39;49m\u001b[43m_cmp_method\u001b[49m\u001b[43m(\u001b[49m\u001b[43mother\u001b[49m\u001b[43m,\u001b[49m\u001b[43m \u001b[49m\u001b[43moperator\u001b[49m\u001b[38;5;241;43m.\u001b[39;49m\u001b[43mge\u001b[49m\u001b[43m)\u001b[49m\n",
      "File \u001b[0;32m~/anaconda3/envs/open_test/lib/python3.9/site-packages/pandas/core/series.py:6096\u001b[0m, in \u001b[0;36mSeries._cmp_method\u001b[0;34m(self, other, op)\u001b[0m\n\u001b[1;32m   6093\u001b[0m rvalues \u001b[38;5;241m=\u001b[39m extract_array(other, extract_numpy\u001b[38;5;241m=\u001b[39m\u001b[38;5;28;01mTrue\u001b[39;00m, extract_range\u001b[38;5;241m=\u001b[39m\u001b[38;5;28;01mTrue\u001b[39;00m)\n\u001b[1;32m   6095\u001b[0m \u001b[38;5;28;01mwith\u001b[39;00m np\u001b[38;5;241m.\u001b[39merrstate(\u001b[38;5;28mall\u001b[39m\u001b[38;5;241m=\u001b[39m\u001b[38;5;124m\"\u001b[39m\u001b[38;5;124mignore\u001b[39m\u001b[38;5;124m\"\u001b[39m):\n\u001b[0;32m-> 6096\u001b[0m     res_values \u001b[38;5;241m=\u001b[39m \u001b[43mops\u001b[49m\u001b[38;5;241;43m.\u001b[39;49m\u001b[43mcomparison_op\u001b[49m\u001b[43m(\u001b[49m\u001b[43mlvalues\u001b[49m\u001b[43m,\u001b[49m\u001b[43m \u001b[49m\u001b[43mrvalues\u001b[49m\u001b[43m,\u001b[49m\u001b[43m \u001b[49m\u001b[43mop\u001b[49m\u001b[43m)\u001b[49m\n\u001b[1;32m   6098\u001b[0m \u001b[38;5;28;01mreturn\u001b[39;00m \u001b[38;5;28mself\u001b[39m\u001b[38;5;241m.\u001b[39m_construct_result(res_values, name\u001b[38;5;241m=\u001b[39mres_name)\n",
      "File \u001b[0;32m~/anaconda3/envs/open_test/lib/python3.9/site-packages/pandas/core/ops/array_ops.py:293\u001b[0m, in \u001b[0;36mcomparison_op\u001b[0;34m(left, right, op)\u001b[0m\n\u001b[1;32m    290\u001b[0m     \u001b[38;5;28;01mreturn\u001b[39;00m invalid_comparison(lvalues, rvalues, op)\n\u001b[1;32m    292\u001b[0m \u001b[38;5;28;01melif\u001b[39;00m is_object_dtype(lvalues\u001b[38;5;241m.\u001b[39mdtype) \u001b[38;5;129;01mor\u001b[39;00m \u001b[38;5;28misinstance\u001b[39m(rvalues, \u001b[38;5;28mstr\u001b[39m):\n\u001b[0;32m--> 293\u001b[0m     res_values \u001b[38;5;241m=\u001b[39m \u001b[43mcomp_method_OBJECT_ARRAY\u001b[49m\u001b[43m(\u001b[49m\u001b[43mop\u001b[49m\u001b[43m,\u001b[49m\u001b[43m \u001b[49m\u001b[43mlvalues\u001b[49m\u001b[43m,\u001b[49m\u001b[43m \u001b[49m\u001b[43mrvalues\u001b[49m\u001b[43m)\u001b[49m\n\u001b[1;32m    295\u001b[0m \u001b[38;5;28;01melse\u001b[39;00m:\n\u001b[1;32m    296\u001b[0m     res_values \u001b[38;5;241m=\u001b[39m _na_arithmetic_op(lvalues, rvalues, op, is_cmp\u001b[38;5;241m=\u001b[39m\u001b[38;5;28;01mTrue\u001b[39;00m)\n",
      "File \u001b[0;32m~/anaconda3/envs/open_test/lib/python3.9/site-packages/pandas/core/ops/array_ops.py:82\u001b[0m, in \u001b[0;36mcomp_method_OBJECT_ARRAY\u001b[0;34m(op, x, y)\u001b[0m\n\u001b[1;32m     80\u001b[0m     result \u001b[38;5;241m=\u001b[39m libops\u001b[38;5;241m.\u001b[39mvec_compare(x\u001b[38;5;241m.\u001b[39mravel(), y\u001b[38;5;241m.\u001b[39mravel(), op)\n\u001b[1;32m     81\u001b[0m \u001b[38;5;28;01melse\u001b[39;00m:\n\u001b[0;32m---> 82\u001b[0m     result \u001b[38;5;241m=\u001b[39m \u001b[43mlibops\u001b[49m\u001b[38;5;241;43m.\u001b[39;49m\u001b[43mscalar_compare\u001b[49m\u001b[43m(\u001b[49m\u001b[43mx\u001b[49m\u001b[38;5;241;43m.\u001b[39;49m\u001b[43mravel\u001b[49m\u001b[43m(\u001b[49m\u001b[43m)\u001b[49m\u001b[43m,\u001b[49m\u001b[43m \u001b[49m\u001b[43my\u001b[49m\u001b[43m,\u001b[49m\u001b[43m \u001b[49m\u001b[43mop\u001b[49m\u001b[43m)\u001b[49m\n\u001b[1;32m     83\u001b[0m \u001b[38;5;28;01mreturn\u001b[39;00m result\u001b[38;5;241m.\u001b[39mreshape(x\u001b[38;5;241m.\u001b[39mshape)\n",
      "File \u001b[0;32m~/anaconda3/envs/open_test/lib/python3.9/site-packages/pandas/_libs/ops.pyx:107\u001b[0m, in \u001b[0;36mpandas._libs.ops.scalar_compare\u001b[0;34m()\u001b[0m\n",
      "\u001b[0;31mTypeError\u001b[0m: '>=' not supported between instances of 'str' and 'int'"
     ]
    }
   ],
   "source": [
    "SM = pd.DataFrame({\"smiles\" : Smiles})\n",
    "data = df_od[:]\n",
    "data = data.loc[:,(data.sum(axis=0)>=30)]\n",
    "df_od = pd.concat([SM,data],axis=1)\n",
    "print(df_od.shape)\n",
    "df_od = df_od.dropna(subset=['smiles'])\n",
    "print(df_od.shape)\n",
    "df_od.to_csv('Mol_odeur.csv')"
   ]
  },
  {
   "cell_type": "code",
   "execution_count": null,
   "metadata": {},
   "outputs": [],
   "source": [
    "TASKS = list(df_od.columns)\n",
    "n_tasks = len(TASKS)\n",
    "train_ratios = get_class_imbalance_ratio(train_dataset)"
   ]
  },
  {
   "cell_type": "code",
   "execution_count": 10,
   "metadata": {
    "scrolled": true
   },
   "outputs": [],
   "source": [
    "df_od = pd.read_csv('Mol_odeur.csv', index_col=0)\n",
    "TASKS = list(df_od.columns)\n",
    "TASKS.remove('smiles')"
   ]
  },
  {
   "cell_type": "code",
   "execution_count": 35,
   "metadata": {
    "scrolled": true
   },
   "outputs": [
    {
     "name": "stdout",
     "output_type": "stream",
     "text": [
      "(rdflib.term.Literal('Citrus', lang='en'),)\n",
      "(rdflib.term.Literal('Amine', lang='en'),)\n",
      "(rdflib.term.Literal('Animal', lang='en'),)\n",
      "(rdflib.term.Literal('Balsamic', lang='en'),)\n",
      "(rdflib.term.Literal('Balsamic', lang='en'),)\n",
      "(rdflib.term.Literal('Wood', lang='en'),)\n",
      "(rdflib.term.Literal('Wood', lang='en'),)\n",
      "(rdflib.term.Literal('Woody', lang='en'),)\n",
      "(rdflib.term.Literal('Alcoholic Beverages', lang='en'),)\n",
      "(rdflib.term.Literal('Cereal', lang='en'),)\n",
      "(rdflib.term.Literal('Chemical', lang='en'),)\n",
      "(rdflib.term.Literal('Cruciferous', lang='en'),)\n",
      "(rdflib.term.Literal('Cruciferous', lang='en'),)\n",
      "(rdflib.term.Literal('Cooked', lang='en'),)\n",
      "(rdflib.term.Literal('Sweet', lang='en'),)\n",
      "(rdflib.term.Literal('Empyreumatic', lang='en'),)\n",
      "(rdflib.term.Literal('Spicy', lang='en'),)\n",
      "(rdflib.term.Literal('Fermented', lang='en'),)\n",
      "(rdflib.term.Literal('Tree Flower', lang='en'),)\n",
      "(rdflib.term.Literal('Bush Flower', lang='en'),)\n",
      "(rdflib.term.Literal('Floral', lang='en'),)\n",
      "(rdflib.term.Literal('Fresh', lang='en'),)\n",
      "(rdflib.term.Literal('Cheese', lang='en'),)\n",
      "(rdflib.term.Literal('Cheese', lang='en'),)\n",
      "(rdflib.term.Literal('Seafood', lang='en'),)\n",
      "(rdflib.term.Literal('Tropical Fruit', lang='en'),)\n",
      "(rdflib.term.Literal('Red Berry', lang='en'),)\n",
      "(rdflib.term.Literal('Dried Fruit', lang='en'),)\n",
      "(rdflib.term.Literal('Fruit With Pip', lang='en'),)\n",
      "(rdflib.term.Literal('Fruity', lang='en'),)\n",
      "(rdflib.term.Literal('Smoked', lang='en'),)\n",
      "(rdflib.term.Literal('Smoked', lang='en'),)\n",
      "(rdflib.term.Literal('Fatty', lang='en'),)\n",
      "(rdflib.term.Literal('Dairy', lang='en'),)\n",
      "(rdflib.term.Literal('Lactone', lang='en'),)\n",
      "(rdflib.term.Literal('Vegetable', lang='en'),)\n",
      "(rdflib.term.Literal('Green Vegetable', lang='en'),)\n",
      "(rdflib.term.Literal('Malt', lang='en'),)\n",
      "(rdflib.term.Literal('Medicinal', lang='en'),)\n",
      "(rdflib.term.Literal('Medicinal', lang='en'),)\n",
      "(rdflib.term.Literal('Minty', lang='en'),)\n",
      "(rdflib.term.Literal('Minty', lang='en'),)\n",
      "(rdflib.term.Literal('Honeyed', lang='en'),)\n",
      "(rdflib.term.Literal('Mineral', lang='en'),)\n",
      "(rdflib.term.Literal('Musty', lang='en'),)\n",
      "(rdflib.term.Literal('Oleaginous', lang='en'),)\n",
      "(rdflib.term.Literal('Oleaginous', lang='en'),)\n",
      "(rdflib.term.Literal('Phenolic', lang='en'),)\n",
      "(rdflib.term.Literal('Resinous', lang='en'),)\n",
      "(rdflib.term.Literal('Sulphurous', lang='en'),)\n",
      "(rdflib.term.Literal('Cooked Sugar', lang='en'),)\n",
      "(rdflib.term.Literal('Cooked Sugar', lang='en'),)\n",
      "(rdflib.term.Literal('Earthy', lang='en'),)\n",
      "(rdflib.term.Literal('Roasted', lang='en'),)\n",
      "(rdflib.term.Literal('Vegetal', lang='en'),)\n",
      "(rdflib.term.Literal('Dry Vegetal', lang='en'),)\n",
      "(rdflib.term.Literal('Green Vegetal', lang='en'),)\n"
     ]
    }
   ],
   "source": [
    "from rdflib import Graph\n",
    "from pprint import pprint\n",
    "g = Graph()\n",
    "g.parse(\"Fichiers-Sources/graph_odor.ttl\")\n",
    "quer = \"\"\"Select ?o Where{\n",
    "    ?leaf rdfs:subClassOf ?odor .    \n",
    "    FILTER EXISTS{?sub rdfs:subClassOf ?leaf  } .\n",
    "    ?leaf rdfs:label ?o .\n",
    "    FILTER(LANG(?o) = \"en\") .\n",
    "}\"\"\"\n",
    "Leaf = []\n",
    "for result in g.query(quer):\n",
    "    Leaf.append(result[0].toPython())\n",
    "    pprint(result)"
   ]
  },
  {
   "cell_type": "code",
   "execution_count": 52,
   "metadata": {},
   "outputs": [],
   "source": [
    "gr = Graph()\n",
    "gr.parse(\"Fichiers-Sources/graph_odor.ttl\")\n",
    "q = \"\"\"\n",
    "    SELECT DISTINCT ?o WHERE {\n",
    "    FILTER NOT EXISTS{?sub rdfs:subClassOf ?s  } .\n",
    "    ?s rdfs:label ?o .\n",
    "    FILTER(LANG(?o) = \"en\")\n",
    "}\"\"\"\n",
    "M=[]\n",
    "for r in gr.query(q):\n",
    "    M.append(r[0].toPython())"
   ]
  },
  {
   "cell_type": "markdown",
   "metadata": {},
   "source": [
    "dans les labels il n'y a pas que des odeurs mais aussi d'autres éléments qui possède des odeurs"
   ]
  },
  {
   "cell_type": "markdown",
   "metadata": {},
   "source": [
    "# on va sélectionnner que les odeurs qui apparaisse au moins 30 fois"
   ]
  },
  {
   "cell_type": "markdown",
   "metadata": {},
   "source": [
    "Avant de travailler sur la Strucure hiérachique on tout d'abord donné l'ensemble des donné pour avoir un point de comparaison\n",
    "\n",
    "de façon harbitraire on va définir le nombre de couche à 3"
   ]
  },
  {
   "cell_type": "code",
   "execution_count": 123,
   "metadata": {},
   "outputs": [
    {
     "name": "stdout",
     "output_type": "stream",
     "text": [
      "i\n",
      "train_dataset:  3007\n",
      "test_dataset:  802\n"
     ]
    }
   ],
   "source": [
    "from deepchem.metrics import Metric\n",
    "from deepchem import metrics\n",
    "input_file = 'Mol_odeur.csv' # or new downloaded file path\n",
    "\n",
    "# # get dataset\n",
    "\n",
    "featurizer = GraphFeaturizer()\n",
    "smiles_field = 'smiles'\n",
    "loader = dc.data.CSVLoader(tasks=TASKS,\n",
    "                feature_field=smiles_field,\n",
    "                featurizer=featurizer)\n",
    "\n",
    "dataset = loader.create_dataset(inputs=[input_file])\n",
    "n_tasks = len(dataset.tasks)\n",
    "\n",
    "# # get train valid test splits\n",
    "splitter = IterativeStratifiedSplitter(order=2)\n",
    "train_dataset, test_dataset = splitter.train_test_split(dataset, frac_train=0.8)\n",
    "\n",
    "train_ratios = get_class_imbalance_ratio(train_dataset)\n",
    "assert len(train_ratios) == n_tasks\n",
    "\n",
    "print(\"train_dataset: \", len(train_dataset))\n",
    "print(\"test_dataset: \", len(test_dataset))"
   ]
  },
  {
   "cell_type": "code",
   "execution_count": 11,
   "metadata": {},
   "outputs": [],
   "source": [
    "n_models=5\n",
    "learning_rate = 0.001\n",
    "nb_epoch=30"
   ]
  },
  {
   "cell_type": "code",
   "execution_count": 131,
   "metadata": {
    "scrolled": true
   },
   "outputs": [
    {
     "name": "stderr",
     "output_type": "stream",
     "text": [
      "  0%|                                                     | 0/5 [00:00<?, ?it/s]"
     ]
    },
    {
     "name": "stdout",
     "output_type": "stream",
     "text": [
      "time start\n",
      "time end\n"
     ]
    },
    {
     "name": "stderr",
     "output_type": "stream",
     "text": [
      " 20%|████████▏                                | 1/5 [18:03<1:12:14, 1083.63s/it]"
     ]
    },
    {
     "name": "stdout",
     "output_type": "stream",
     "text": [
      "loss = 2.37528920173645; train_scores = {'accuracy_score': 0.9659913535084803, 'roc_auc_score': 0.9279253624898189, 'jaccard_score': 0.23724479209318855}; test_scores = {'accuracy_score': 0.9614364089775562, 'roc_auc_score': 0.902678165313144, 'jaccard_score': 0.21742296902031114}; time_taken = 0:17:40.741682\n",
      "time start\n",
      "time end\n"
     ]
    },
    {
     "name": "stderr",
     "output_type": "stream",
     "text": [
      " 40%|████████████████▍                        | 2/5 [45:52<1:11:23, 1427.87s/it]"
     ]
    },
    {
     "name": "stdout",
     "output_type": "stream",
     "text": [
      "loss = 2.459259271621704; train_scores = {'accuracy_score': 0.9651400066511474, 'roc_auc_score': 0.9205504388173293, 'jaccard_score': 0.2086777194097995}; test_scores = {'accuracy_score': 0.9607182044887783, 'roc_auc_score': 0.9006236900523389, 'jaccard_score': 0.20062233536675075}; time_taken = 0:27:27.265842\n",
      "time start\n",
      "time end\n"
     ]
    },
    {
     "name": "stderr",
     "output_type": "stream",
     "text": [
      " 60%|████████████████████████▌                | 3/5 [1:05:52<44:07, 1323.80s/it]"
     ]
    },
    {
     "name": "stdout",
     "output_type": "stream",
     "text": [
      "loss = 2.436873435974121; train_scores = {'accuracy_score': 0.9653209178583306, 'roc_auc_score': 0.9235738190645277, 'jaccard_score': 0.21431660254785334}; test_scores = {'accuracy_score': 0.9616758104738157, 'roc_auc_score': 0.9049719098406434, 'jaccard_score': 0.20965868597867088}; time_taken = 0:19:37.868554\n",
      "time start\n",
      "time end\n"
     ]
    },
    {
     "name": "stderr",
     "output_type": "stream",
     "text": [
      " 80%|████████████████████████████████▊        | 4/5 [1:24:12<20:35, 1235.48s/it]"
     ]
    },
    {
     "name": "stdout",
     "output_type": "stream",
     "text": [
      "loss = 2.45409893989563; train_scores = {'accuracy_score': 0.9656375124709012, 'roc_auc_score': 0.9208950914831016, 'jaccard_score': 0.20623501048152873}; test_scores = {'accuracy_score': 0.961187032418953, 'roc_auc_score': 0.8976848587941915, 'jaccard_score': 0.1985836943427057}; time_taken = 0:17:57.011368\n",
      "time start\n",
      "time end\n"
     ]
    },
    {
     "name": "stderr",
     "output_type": "stream",
     "text": [
      "100%|█████████████████████████████████████████| 5/5 [1:42:19<00:00, 1227.91s/it]"
     ]
    },
    {
     "name": "stdout",
     "output_type": "stream",
     "text": [
      "loss = 2.392061710357666; train_scores = {'accuracy_score': 0.9662387761888925, 'roc_auc_score': 0.9256131435025874, 'jaccard_score': 0.218307245583731}; test_scores = {'accuracy_score': 0.9614663341645887, 'roc_auc_score': 0.903484542372331, 'jaccard_score': 0.20715432320933666}; time_taken = 0:17:44.255369\n"
     ]
    },
    {
     "name": "stderr",
     "output_type": "stream",
     "text": [
      "\n"
     ]
    }
   ],
   "source": [
    "from tqdm import tqdm\n",
    "for i in tqdm(range(n_models)):\n",
    "    model_sketch = MPNNPOMModel(n_tasks = n_tasks,\n",
    "                            batch_size=128,\n",
    "                            learning_rate=learning_rate,\n",
    "                            class_imbalance_ratio = train_ratios,\n",
    "                            loss_aggr_type = 'sum',\n",
    "                            node_out_feats = 100,\n",
    "                            edge_hidden_feats = 75,\n",
    "                            edge_out_feats = 100,\n",
    "                            num_step_message_passing = 3,\n",
    "                            mpnn_residual = True,\n",
    "                            message_aggregator_type = 'sum',\n",
    "                            mode = 'classification',\n",
    "                            number_atom_features = GraphConvConstants.ATOM_FDIM,\n",
    "                            number_bond_features = GraphConvConstants.BOND_FDIM,\n",
    "                            n_classes = 1,\n",
    "                            readout_type = 'set2set',\n",
    "                            num_step_set2set = 3,\n",
    "                            num_layer_set2set = 2,\n",
    "                            ffn_hidden_list= [392, 392],\n",
    "                            ffn_embeddings = 256,\n",
    "                            ffn_activation = 'relu',\n",
    "                            ffn_dropout_p = 0.12,\n",
    "                            ffn_dropout_at_input_no_act = False,\n",
    "                            weight_decay = 1e-5,\n",
    "                            self_loop = False,\n",
    "                            optimizer_name = 'adam',\n",
    "                            log_frequency = 32,\n",
    "                            model_dir = f'./sketchOscent/model_sans_hier/model_{i}',\n",
    "                            device_name='cpu')\n",
    "\n",
    "    start_time = datetime.now()\n",
    "    print(\"time start\")\n",
    "    \n",
    "    # fit model\n",
    "    loss = model_sketch.fit(\n",
    "          train_dataset,\n",
    "          nb_epoch=nb_epoch,\n",
    "          max_checkpoints_to_keep=1,\n",
    "          deterministic=False,\n",
    "          restore=False)\n",
    "    print(\"time end\")\n",
    "    end_time = datetime.now()\n",
    "    \n",
    "    train_scores = model_sketch.evaluate(train_dataset, metrics_plu)\n",
    "    test_scores = model_sketch.evaluate(test_dataset, metrics_plu)\n",
    "    print(f\"loss = {loss}; train_scores = {train_scores}; test_scores = {test_scores}; time_taken = {str(end_time-start_time)}\")\n",
    "    model_sketch.save_checkpoint() # saves final checkpoint => `checkpoint2.pt`\n",
    "    del model_sketch\n",
    "    torch.cuda.empty_cache()"
   ]
  },
  {
   "cell_type": "code",
   "execution_count": 13,
   "metadata": {
    "scrolled": true
   },
   "outputs": [
    {
     "name": "stderr",
     "output_type": "stream",
     "text": [
      "  0%|                                                     | 0/5 [00:00<?, ?it/s]\n"
     ]
    },
    {
     "ename": "RuntimeError",
     "evalue": "Error(s) in loading state_dict for MPNNPOM:\n\tsize mismatch for ffn.linears.3.weight: copying a param with shape torch.Size([125, 256]) from checkpoint, the shape in current model is torch.Size([138, 256]).\n\tsize mismatch for ffn.linears.3.bias: copying a param with shape torch.Size([125]) from checkpoint, the shape in current model is torch.Size([138]).",
     "output_type": "error",
     "traceback": [
      "\u001b[0;31m---------------------------------------------------------------------------\u001b[0m",
      "\u001b[0;31mRuntimeError\u001b[0m                              Traceback (most recent call last)",
      "Cell \u001b[0;32mIn[13], line 35\u001b[0m\n\u001b[1;32m      5\u001b[0m \u001b[38;5;28;01mfor\u001b[39;00m j \u001b[38;5;129;01min\u001b[39;00m \u001b[38;5;28mrange\u001b[39m(n_models):\n\u001b[1;32m      6\u001b[0m     model_sketch \u001b[38;5;241m=\u001b[39m MPNNPOMModel(n_tasks \u001b[38;5;241m=\u001b[39m n_tasks,\n\u001b[1;32m      7\u001b[0m                             batch_size\u001b[38;5;241m=\u001b[39m\u001b[38;5;241m128\u001b[39m,\n\u001b[1;32m      8\u001b[0m                             learning_rate\u001b[38;5;241m=\u001b[39mlearning_rate,\n\u001b[0;32m   (...)\u001b[0m\n\u001b[1;32m     33\u001b[0m                             model_dir \u001b[38;5;241m=\u001b[39m \u001b[38;5;124mf\u001b[39m\u001b[38;5;124m'\u001b[39m\u001b[38;5;124m./sketchOscent/model_sans_hier/model_\u001b[39m\u001b[38;5;132;01m{\u001b[39;00mi\u001b[38;5;132;01m}\u001b[39;00m\u001b[38;5;124m'\u001b[39m,\n\u001b[1;32m     34\u001b[0m                             device_name\u001b[38;5;241m=\u001b[39m\u001b[38;5;124m'\u001b[39m\u001b[38;5;124mcpu\u001b[39m\u001b[38;5;124m'\u001b[39m)\n\u001b[0;32m---> 35\u001b[0m     \u001b[43mmodel_sketch\u001b[49m\u001b[38;5;241;43m.\u001b[39;49m\u001b[43mrestore\u001b[49m\u001b[43m(\u001b[49m\u001b[38;5;124;43mf\u001b[39;49m\u001b[38;5;124;43m\"\u001b[39;49m\u001b[38;5;124;43m./sketchOscent/model_sans_hier/model_\u001b[39;49m\u001b[38;5;132;43;01m{\u001b[39;49;00m\u001b[43mi\u001b[49m\u001b[38;5;132;43;01m}\u001b[39;49;00m\u001b[38;5;124;43m/checkpoint2.pt\u001b[39;49m\u001b[38;5;124;43m\"\u001b[39;49m\u001b[43m)\u001b[49m\n\u001b[1;32m     36\u001b[0m     test_scores \u001b[38;5;241m=\u001b[39m model_sketch\u001b[38;5;241m.\u001b[39mevaluate(test_dataset, metrics_plu)\u001b[38;5;66;03m#['roc_auc_score']\u001b[39;00m\n\u001b[1;32m     37\u001b[0m     models_dict[i\u001b[38;5;241m+\u001b[39m\u001b[38;5;241m1\u001b[39m]\u001b[38;5;241m.\u001b[39mappend(test_scores)\n",
      "File \u001b[0;32m~/anaconda3/envs/open_test/lib/python3.9/site-packages/deepchem/models/torch_models/torch_model.py:1064\u001b[0m, in \u001b[0;36mTorchModel.restore\u001b[0;34m(self, checkpoint, model_dir)\u001b[0m\n\u001b[1;32m   1062\u001b[0m     checkpoint \u001b[38;5;241m=\u001b[39m checkpoints[\u001b[38;5;241m0\u001b[39m]\n\u001b[1;32m   1063\u001b[0m data \u001b[38;5;241m=\u001b[39m torch\u001b[38;5;241m.\u001b[39mload(checkpoint)\n\u001b[0;32m-> 1064\u001b[0m \u001b[38;5;28;43mself\u001b[39;49m\u001b[38;5;241;43m.\u001b[39;49m\u001b[43mmodel\u001b[49m\u001b[38;5;241;43m.\u001b[39;49m\u001b[43mload_state_dict\u001b[49m\u001b[43m(\u001b[49m\u001b[43mdata\u001b[49m\u001b[43m[\u001b[49m\u001b[38;5;124;43m'\u001b[39;49m\u001b[38;5;124;43mmodel_state_dict\u001b[39;49m\u001b[38;5;124;43m'\u001b[39;49m\u001b[43m]\u001b[49m\u001b[43m)\u001b[49m\n\u001b[1;32m   1065\u001b[0m \u001b[38;5;28mself\u001b[39m\u001b[38;5;241m.\u001b[39m_pytorch_optimizer\u001b[38;5;241m.\u001b[39mload_state_dict(data[\u001b[38;5;124m'\u001b[39m\u001b[38;5;124moptimizer_state_dict\u001b[39m\u001b[38;5;124m'\u001b[39m])\n\u001b[1;32m   1066\u001b[0m \u001b[38;5;28mself\u001b[39m\u001b[38;5;241m.\u001b[39m_global_step \u001b[38;5;241m=\u001b[39m data[\u001b[38;5;124m'\u001b[39m\u001b[38;5;124mglobal_step\u001b[39m\u001b[38;5;124m'\u001b[39m]\n",
      "File \u001b[0;32m~/anaconda3/envs/open_test/lib/python3.9/site-packages/torch/nn/modules/module.py:2041\u001b[0m, in \u001b[0;36mModule.load_state_dict\u001b[0;34m(self, state_dict, strict)\u001b[0m\n\u001b[1;32m   2036\u001b[0m         error_msgs\u001b[38;5;241m.\u001b[39minsert(\n\u001b[1;32m   2037\u001b[0m             \u001b[38;5;241m0\u001b[39m, \u001b[38;5;124m'\u001b[39m\u001b[38;5;124mMissing key(s) in state_dict: \u001b[39m\u001b[38;5;132;01m{}\u001b[39;00m\u001b[38;5;124m. \u001b[39m\u001b[38;5;124m'\u001b[39m\u001b[38;5;241m.\u001b[39mformat(\n\u001b[1;32m   2038\u001b[0m                 \u001b[38;5;124m'\u001b[39m\u001b[38;5;124m, \u001b[39m\u001b[38;5;124m'\u001b[39m\u001b[38;5;241m.\u001b[39mjoin(\u001b[38;5;124m'\u001b[39m\u001b[38;5;124m\"\u001b[39m\u001b[38;5;132;01m{}\u001b[39;00m\u001b[38;5;124m\"\u001b[39m\u001b[38;5;124m'\u001b[39m\u001b[38;5;241m.\u001b[39mformat(k) \u001b[38;5;28;01mfor\u001b[39;00m k \u001b[38;5;129;01min\u001b[39;00m missing_keys)))\n\u001b[1;32m   2040\u001b[0m \u001b[38;5;28;01mif\u001b[39;00m \u001b[38;5;28mlen\u001b[39m(error_msgs) \u001b[38;5;241m>\u001b[39m \u001b[38;5;241m0\u001b[39m:\n\u001b[0;32m-> 2041\u001b[0m     \u001b[38;5;28;01mraise\u001b[39;00m \u001b[38;5;167;01mRuntimeError\u001b[39;00m(\u001b[38;5;124m'\u001b[39m\u001b[38;5;124mError(s) in loading state_dict for \u001b[39m\u001b[38;5;132;01m{}\u001b[39;00m\u001b[38;5;124m:\u001b[39m\u001b[38;5;130;01m\\n\u001b[39;00m\u001b[38;5;130;01m\\t\u001b[39;00m\u001b[38;5;132;01m{}\u001b[39;00m\u001b[38;5;124m'\u001b[39m\u001b[38;5;241m.\u001b[39mformat(\n\u001b[1;32m   2042\u001b[0m                        \u001b[38;5;28mself\u001b[39m\u001b[38;5;241m.\u001b[39m\u001b[38;5;18m__class__\u001b[39m\u001b[38;5;241m.\u001b[39m\u001b[38;5;18m__name__\u001b[39m, \u001b[38;5;124m\"\u001b[39m\u001b[38;5;130;01m\\n\u001b[39;00m\u001b[38;5;130;01m\\t\u001b[39;00m\u001b[38;5;124m\"\u001b[39m\u001b[38;5;241m.\u001b[39mjoin(error_msgs)))\n\u001b[1;32m   2043\u001b[0m \u001b[38;5;28;01mreturn\u001b[39;00m _IncompatibleKeys(missing_keys, unexpected_keys)\n",
      "\u001b[0;31mRuntimeError\u001b[0m: Error(s) in loading state_dict for MPNNPOM:\n\tsize mismatch for ffn.linears.3.weight: copying a param with shape torch.Size([125, 256]) from checkpoint, the shape in current model is torch.Size([138, 256]).\n\tsize mismatch for ffn.linears.3.bias: copying a param with shape torch.Size([125]) from checkpoint, the shape in current model is torch.Size([138])."
     ]
    }
   ],
   "source": [
    "list_preds = []\n",
    "dict_preds = {i : [] for i in range(1,n_layer+1)}\n",
    "models_dict={i : [] for i in range(1,n_layer+1)}\n",
    "for i in tqdm(range(n_layer)):\n",
    "    for j in range(n_models):\n",
    "        model_sketch = MPNNPOMModel(n_tasks = n_tasks,\n",
    "                                batch_size=128,\n",
    "                                learning_rate=learning_rate,\n",
    "                                class_imbalance_ratio = train_ratios,\n",
    "                                loss_aggr_type = 'sum',\n",
    "                                node_out_feats = 100,\n",
    "                                edge_hidden_feats = 75,\n",
    "                                edge_out_feats = 100,\n",
    "                                num_step_message_passing = i+1,\n",
    "                                mpnn_residual = True,\n",
    "                                message_aggregator_type = 'sum',\n",
    "                                mode = 'classification',\n",
    "                                number_atom_features = GraphConvConstants.ATOM_FDIM,\n",
    "                                number_bond_features = GraphConvConstants.BOND_FDIM,\n",
    "                                n_classes = 1,\n",
    "                                readout_type = 'set2set',\n",
    "                                num_step_set2set = 3,\n",
    "                                num_layer_set2set = 2,\n",
    "                                ffn_hidden_list= [392, 392],\n",
    "                                ffn_embeddings = 256,\n",
    "                                ffn_activation = 'relu',\n",
    "                                ffn_dropout_p = 0.12,\n",
    "                                ffn_dropout_at_input_no_act = False,\n",
    "                                weight_decay = 1e-5,\n",
    "                                self_loop = False,\n",
    "                                optimizer_name = 'adam',\n",
    "                                log_frequency = 32,\n",
    "                                model_dir = f'./sketchOscent/model_sans_hier/model_{i}',\n",
    "                                device_name='cpu')\n",
    "        model_sketch.restore(f\"./sketchOscent/model_sans_hier/model_{i}/checkpoint2.pt\")\n",
    "        test_scores = model_sketch.evaluate(test_dataset, metrics_plu)#['roc_auc_score']\n",
    "        models_dict[i+1].append(test_scores)\n",
    "        \n",
    "        #print(\"test_score: \", test_scores)\n",
    "        preds = model_sketch.predict(test_dataset)\n",
    "        #dict_preds[i+1].append(accuracy_score(preds,test_dataset.y))\n",
    "        list_preds.append(preds)\n"
   ]
  },
  {
   "cell_type": "code",
   "execution_count": 72,
   "metadata": {
    "scrolled": true
   },
   "outputs": [
    {
     "data": {
      "text/plain": [
       "(3809, 126)"
      ]
     },
     "execution_count": 72,
     "metadata": {},
     "output_type": "execute_result"
    }
   ],
   "source": [
    "df_od = pd.read_csv('Mol_odeur.csv', index_col=0)\n",
    "df_od.shape"
   ]
  },
  {
   "cell_type": "code",
   "execution_count": 20,
   "metadata": {},
   "outputs": [],
   "source": [
    "from rdflib import Graph\n",
    "df_od = pd.read_csv('Mol_odeur.csv')\n",
    "g = Graph()\n",
    "g.parse(\"Fichiers-Sources/graph_odor.ttl\")\n",
    "quer = \"\"\"Select s Where{\n",
    "    ?leaf rdfs:subClassOf ?odor .\n",
    "    ?leaf rdfs:label ?o .\n",
    "    FILTER NOT EXISTS{?sub rdfs:subClassOf ?leaf FILTER(?sub != ?leaf && ?sub != owl:Nothing ) } .\n",
    "    FILTER(LANG(?o) = \"en\") .\n",
    "}\"\"\"\n",
    "Leaf = []\n",
    "for result in g.query(quer):\n",
    "    Leaf.append(result[0].toPython())"
   ]
  },
  {
   "cell_type": "code",
   "execution_count": 19,
   "metadata": {},
   "outputs": [],
   "source": [
    "from rdflib import Graph\n",
    "df_od = pd.read_csv('Mol_odeur.csv', index_col=0)\n",
    "g = Graph()\n",
    "g.parse(\"Fichiers-Sources/graph_odor.ttl\")\n",
    "Individuals = []\n",
    "q = \"\"\"Select ?s Where{\n",
    "    ?s a ?o .\n",
    "    ?o rdf:type rdfs:Class\n",
    "}\"\"\"\n",
    "for res in g.query(q):\n",
    "    Individuals.append(res[0].fragment)\n",
    "\n",
    "Individuals.sort()\n",
    "Not_Individuals = [label for label in df_od.columns if label not in Individuals]\n",
    "Not_Individuals.remove('smiles')\n",
    "df_od = df_od.drop(Not_Individuals, axis=1)\n",
    "TASKS = list(df_od.columns)\n",
    "TASKS.remove('smiles')\n",
    "df_od.to_csv('Individual_label.csv')"
   ]
  },
  {
   "cell_type": "markdown",
   "metadata": {},
   "source": [
    "### On supprime les odeurs qui ne sont pas des noeuds"
   ]
  },
  {
   "cell_type": "code",
   "execution_count": 22,
   "metadata": {
    "editable": true,
    "slideshow": {
     "slide_type": ""
    },
    "tags": []
   },
   "outputs": [
    {
     "ename": "ValueError",
     "evalue": "No Metadata Found On Disk",
     "output_type": "error",
     "traceback": [
      "\u001b[0;31m---------------------------------------------------------------------------\u001b[0m",
      "\u001b[0;31mValueError\u001b[0m                                Traceback (most recent call last)",
      "Cell \u001b[0;32mIn[22], line 18\u001b[0m\n\u001b[1;32m     13\u001b[0m n_tasks \u001b[38;5;241m=\u001b[39m \u001b[38;5;28mlen\u001b[39m(dataset\u001b[38;5;241m.\u001b[39mtasks)\n\u001b[1;32m     15\u001b[0m \u001b[38;5;66;03m# # get train valid test splits\u001b[39;00m\n\u001b[1;32m     16\u001b[0m \u001b[38;5;66;03m#splitter = IterativeStratifiedSplitter(order=2)\u001b[39;00m\n\u001b[1;32m     17\u001b[0m \u001b[38;5;66;03m#train_dataset, test_dataset = splitter.train_test_split(dataset, frac_train=0.8, train_dir='./Dataset_Hier/splits/train_data', test_dir='./Dataset_Hier/splits/test_data')\u001b[39;00m\n\u001b[0;32m---> 18\u001b[0m train_dataset \u001b[38;5;241m=\u001b[39m \u001b[43mdc\u001b[49m\u001b[38;5;241;43m.\u001b[39;49m\u001b[43mdata\u001b[49m\u001b[38;5;241;43m.\u001b[39;49m\u001b[43mDiskDataset\u001b[49m\u001b[43m(\u001b[49m\u001b[38;5;124;43m'\u001b[39;49m\u001b[38;5;124;43m/Dataset_Hier/splits/train_data\u001b[39;49m\u001b[38;5;124;43m'\u001b[39;49m\u001b[43m)\u001b[49m\n\u001b[1;32m     19\u001b[0m test_dataset \u001b[38;5;241m=\u001b[39m dc\u001b[38;5;241m.\u001b[39mdata\u001b[38;5;241m.\u001b[39mDiskDataset(\u001b[38;5;124m'\u001b[39m\u001b[38;5;124m./Dataset_Hier/splits/test_data\u001b[39m\u001b[38;5;124m'\u001b[39m)\n\u001b[1;32m     20\u001b[0m train_ratios \u001b[38;5;241m=\u001b[39m get_class_imbalance_ratio(train_dataset)\n",
      "File \u001b[0;32m~/anaconda3/envs/open_test/lib/python3.9/site-packages/deepchem/data/datasets.py:1220\u001b[0m, in \u001b[0;36mDiskDataset.__init__\u001b[0;34m(self, data_dir)\u001b[0m\n\u001b[1;32m   1217\u001b[0m \u001b[38;5;28mself\u001b[39m\u001b[38;5;241m.\u001b[39mdata_dir \u001b[38;5;241m=\u001b[39m data_dir\n\u001b[1;32m   1219\u001b[0m logger\u001b[38;5;241m.\u001b[39minfo(\u001b[38;5;124m\"\u001b[39m\u001b[38;5;124mLoading dataset from disk.\u001b[39m\u001b[38;5;124m\"\u001b[39m)\n\u001b[0;32m-> 1220\u001b[0m tasks, \u001b[38;5;28mself\u001b[39m\u001b[38;5;241m.\u001b[39mmetadata_df \u001b[38;5;241m=\u001b[39m \u001b[38;5;28;43mself\u001b[39;49m\u001b[38;5;241;43m.\u001b[39;49m\u001b[43mload_metadata\u001b[49m\u001b[43m(\u001b[49m\u001b[43m)\u001b[49m\n\u001b[1;32m   1221\u001b[0m \u001b[38;5;28mself\u001b[39m\u001b[38;5;241m.\u001b[39mtasks \u001b[38;5;241m=\u001b[39m np\u001b[38;5;241m.\u001b[39marray(tasks)\n\u001b[1;32m   1222\u001b[0m \u001b[38;5;28;01mif\u001b[39;00m \u001b[38;5;28mlen\u001b[39m(\u001b[38;5;28mself\u001b[39m\u001b[38;5;241m.\u001b[39mmetadata_df\u001b[38;5;241m.\u001b[39mcolumns) \u001b[38;5;241m==\u001b[39m \u001b[38;5;241m4\u001b[39m \u001b[38;5;129;01mand\u001b[39;00m \u001b[38;5;28mlist\u001b[39m(\n\u001b[1;32m   1223\u001b[0m         \u001b[38;5;28mself\u001b[39m\u001b[38;5;241m.\u001b[39mmetadata_df\u001b[38;5;241m.\u001b[39mcolumns) \u001b[38;5;241m==\u001b[39m [\u001b[38;5;124m'\u001b[39m\u001b[38;5;124mids\u001b[39m\u001b[38;5;124m'\u001b[39m, \u001b[38;5;124m'\u001b[39m\u001b[38;5;124mX\u001b[39m\u001b[38;5;124m'\u001b[39m, \u001b[38;5;124m'\u001b[39m\u001b[38;5;124my\u001b[39m\u001b[38;5;124m'\u001b[39m, \u001b[38;5;124m'\u001b[39m\u001b[38;5;124mw\u001b[39m\u001b[38;5;124m'\u001b[39m]:\n",
      "File \u001b[0;32m~/anaconda3/envs/open_test/lib/python3.9/site-packages/deepchem/data/datasets.py:1311\u001b[0m, in \u001b[0;36mDiskDataset.load_metadata\u001b[0;34m(self)\u001b[0m\n\u001b[1;32m   1309\u001b[0m     DiskDataset\u001b[38;5;241m.\u001b[39m_save_metadata(metadata_df, \u001b[38;5;28mself\u001b[39m\u001b[38;5;241m.\u001b[39mdata_dir, tasks)\n\u001b[1;32m   1310\u001b[0m     \u001b[38;5;28;01mreturn\u001b[39;00m tasks, metadata_df\n\u001b[0;32m-> 1311\u001b[0m \u001b[38;5;28;01mraise\u001b[39;00m \u001b[38;5;167;01mValueError\u001b[39;00m(\u001b[38;5;124m\"\u001b[39m\u001b[38;5;124mNo Metadata Found On Disk\u001b[39m\u001b[38;5;124m\"\u001b[39m)\n",
      "\u001b[0;31mValueError\u001b[0m: No Metadata Found On Disk"
     ]
    }
   ],
   "source": [
    "from deepchem.metrics import Metric\n",
    "from deepchem import metrics\n",
    "input_file = 'Individual_label.csv' # or new downloaded file path\n",
    "\n",
    "# # get dataset\n",
    "\n",
    "featurizer = GraphFeaturizer()\n",
    "smiles_field = 'smiles'\n",
    "loader = dc.data.CSVLoader(tasks=TASKS,\n",
    "                feature_field=smiles_field,\n",
    "                featurizer=featurizer)\n",
    "dataset = loader.create_dataset(inputs=[input_file])\n",
    "n_tasks = len(dataset.tasks)\n",
    "\n",
    "# # get train valid test splits\n",
    "#splitter = IterativeStratifiedSplitter(order=2)\n",
    "#train_dataset, test_dataset = splitter.train_test_split(dataset, frac_train=0.8, train_dir='./Dataset_Hier/splits/train_data', test_dir='./Dataset_Hier/splits/test_data')\n",
    "train_dataset = dc.data.DiskDataset('/Dataset_Hier/splits/train_data')\n",
    "test_dataset = dc.data.DiskDataset('./Dataset_Hier/splits/test_data')\n",
    "train_ratios = get_class_imbalance_ratio(train_dataset)\n",
    "assert len(train_ratios) == n_tasks\n",
    "\n",
    "print(\"train_dataset: \", len(train_dataset))\n",
    "print(\"test_dataset: \", len(test_dataset))"
   ]
  },
  {
   "cell_type": "code",
   "execution_count": 25,
   "metadata": {},
   "outputs": [
    {
     "name": "stdout",
     "output_type": "stream",
     "text": [
      "train_dataset:  3047\n",
      "test_dataset:  762\n"
     ]
    }
   ],
   "source": [
    "n_tasks = len(dataset.tasks)\n",
    "\n",
    "# # get train valid test splits\n",
    "#splitter = IterativeStratifiedSplitter(order=2)\n",
    "#train_dataset, test_dataset = splitter.train_test_split(dataset, frac_train=0.8, train_dir='./Dataset_Hier/splits/train_data', test_dir='./Dataset_Hier/splits/test_data')\n",
    "train_dataset = dc.data.DiskDataset('./Dataset_Hier/splits/train_data')\n",
    "test_dataset = dc.data.DiskDataset('./Dataset_Hier/splits/test_data')\n",
    "train_ratios = get_class_imbalance_ratio(train_dataset)\n",
    "assert len(train_ratios) == n_tasks\n",
    "\n",
    "print(\"train_dataset: \", len(train_dataset))\n",
    "print(\"test_dataset: \", len(test_dataset))"
   ]
  },
  {
   "cell_type": "code",
   "execution_count": 33,
   "metadata": {
    "scrolled": true
   },
   "outputs": [
    {
     "name": "stderr",
     "output_type": "stream",
     "text": [
      "  0%|                                                     | 0/5 [00:00<?, ?it/s]"
     ]
    },
    {
     "name": "stdout",
     "output_type": "stream",
     "text": [
      "time start\n",
      "time end\n"
     ]
    },
    {
     "name": "stderr",
     "output_type": "stream",
     "text": [
      " 20%|████████▏                                | 1/5 [19:54<1:19:38, 1194.51s/it]"
     ]
    },
    {
     "name": "stdout",
     "output_type": "stream",
     "text": [
      "loss = 1.015133023262024; train_scores = {'accuracy_score': 0.9716756324824132, 'roc_auc_score': 0.8705340510302315, 'jaccard_score': 0.05947136819810077}; test_scores = {'accuracy_score': 0.9685800144547149, 'roc_auc_score': 0.8554322272278547, 'jaccard_score': 0.050516642728076204}; time_taken = 0:19:36.072867\n",
      "time start\n",
      "time end\n"
     ]
    },
    {
     "name": "stderr",
     "output_type": "stream",
     "text": [
      " 40%|█████████████████▏                         | 2/5 [39:42<59:31, 1190.62s/it]"
     ]
    },
    {
     "name": "stdout",
     "output_type": "stream",
     "text": [
      "loss = 0.9671229124069214; train_scores = {'accuracy_score': 0.9731073091613041, 'roc_auc_score': 0.8693285619576752, 'jaccard_score': 0.06371677762581555}; test_scores = {'accuracy_score': 0.9695119631785156, 'roc_auc_score': 0.8663299539597509, 'jaccard_score': 0.05638870215347384}; time_taken = 0:19:29.732509\n",
      "time start\n",
      "time end\n"
     ]
    },
    {
     "name": "stderr",
     "output_type": "stream",
     "text": [
      " 60%|█████████████████████████▊                 | 3/5 [59:47<39:54, 1197.11s/it]"
     ]
    },
    {
     "name": "stdout",
     "output_type": "stream",
     "text": [
      "loss = 1.0617328882217407; train_scores = {'accuracy_score': 0.9725508102528977, 'roc_auc_score': 0.8370407603330768, 'jaccard_score': 0.03229093453981426}; test_scores = {'accuracy_score': 0.9683137433907718, 'roc_auc_score': 0.8238749007445632, 'jaccard_score': 0.028190935883904495}; time_taken = 0:19:45.647788\n",
      "time start\n",
      "time end\n"
     ]
    },
    {
     "name": "stderr",
     "output_type": "stream",
     "text": [
      " 80%|████████████████████████████████▊        | 4/5 [1:20:31<20:15, 1215.73s/it]"
     ]
    },
    {
     "name": "stdout",
     "output_type": "stream",
     "text": [
      "loss = 0.9717450141906738; train_scores = {'accuracy_score': 0.9732928087974391, 'roc_auc_score': 0.8831788758838014, 'jaccard_score': 0.08013108531122522}; test_scores = {'accuracy_score': 0.9698923504127202, 'roc_auc_score': 0.8777736581163909, 'jaccard_score': 0.07141136118739774}; time_taken = 0:20:23.388142\n",
      "time start\n",
      "time end\n"
     ]
    },
    {
     "name": "stderr",
     "output_type": "stream",
     "text": [
      "100%|█████████████████████████████████████████| 5/5 [1:40:57<00:00, 1211.52s/it]"
     ]
    },
    {
     "name": "stdout",
     "output_type": "stream",
     "text": [
      "loss = 0.9631438851356506; train_scores = {'accuracy_score': 0.9736923464752689, 'roc_auc_score': 0.88785810691784, 'jaccard_score': 0.08290319998464701}; test_scores = {'accuracy_score': 0.970405873178896, 'roc_auc_score': 0.8768105425020083, 'jaccard_score': 0.07099183080793071}; time_taken = 0:20:06.226524\n"
     ]
    },
    {
     "name": "stderr",
     "output_type": "stream",
     "text": [
      "\n"
     ]
    }
   ],
   "source": [
    "from tqdm import tqdm\n",
    "Models_list = []\n",
    "for i in tqdm(range(n_models)):\n",
    "    model_sketch = MPNNPOMModel(n_tasks = n_tasks,\n",
    "                            batch_size=128,\n",
    "                            learning_rate=learning_rate,\n",
    "                            class_imbalance_ratio = train_ratios,\n",
    "                            loss_aggr_type = 'sum',\n",
    "                            node_out_feats = 100,\n",
    "                            edge_hidden_feats = 75,\n",
    "                            edge_out_feats = 100,\n",
    "                            num_step_message_passing = 3,\n",
    "                            mpnn_residual = True,\n",
    "                            message_aggregator_type = 'sum',\n",
    "                            mode = 'classification',\n",
    "                            number_atom_features = GraphConvConstants.ATOM_FDIM,\n",
    "                            number_bond_features = GraphConvConstants.BOND_FDIM,\n",
    "                            n_classes = 1,\n",
    "                            readout_type = 'global_sum_pooling',\n",
    "                            ffn_hidden_list= [392, 392],\n",
    "                            ffn_embeddings = 256,\n",
    "                            ffn_activation = 'relu',\n",
    "                            ffn_dropout_p = 0.12,\n",
    "                            ffn_dropout_at_input_no_act = False,\n",
    "                            weight_decay = 1e-5,\n",
    "                            self_loop = False,\n",
    "                            optimizer_name = 'adam',\n",
    "                            log_frequency = 32,\n",
    "                            model_dir = f'./sketchOscent/model_avec_hier/model_{i}',\n",
    "                            device_name='cpu')\n",
    "\n",
    "    start_time = datetime.now()\n",
    "    print(\"time start\")\n",
    "    \n",
    "    # fit model\n",
    "    loss = model_sketch.fit(\n",
    "          train_dataset,\n",
    "          nb_epoch=nb_epoch,\n",
    "          max_checkpoints_to_keep=1,\n",
    "          deterministic=False,\n",
    "          restore=False)\n",
    "    print(\"time end\")\n",
    "    end_time = datetime.now()\n",
    "    \n",
    "    train_scores = model_sketch.evaluate(train_dataset, metrics_plu)\n",
    "    test_scores = model_sketch.evaluate(test_dataset, metrics_plu)\n",
    "    print(f\"loss = {loss}; train_scores = {train_scores}; test_scores = {test_scores}; time_taken = {str(end_time-start_time)}\")\n",
    "    model_sketch.save_checkpoint() # saves final checkpoint => `checkpoint2.pt`\n",
    "    Models_list.append(model_sketch)\n",
    "    del model_sketch\n",
    "    torch.cuda.empty_cache()"
   ]
  },
  {
   "cell_type": "markdown",
   "metadata": {},
   "source": [
    "Pour chaque label, qui n'est pas une feuille on va chercher si la feuille est présente dans ce cas on met à 1 sinon 0"
   ]
  },
  {
   "cell_type": "code",
   "execution_count": 150,
   "metadata": {},
   "outputs": [],
   "source": [
    "df_test = pd.read_csv('Mol_odeur.csv')"
   ]
  },
  {
   "cell_type": "code",
   "execution_count": 27,
   "metadata": {},
   "outputs": [],
   "source": [
    "def guess(Dataset, Predictions, Not_individuals, graph_ttl=g):\n",
    "    Predictions = (Predictions > 0.5).astype(int)\n",
    "    nb_ligne, nb_columns = Predictions.shape\n",
    "    New_Prediction = np.concatenate( (Predictions, np.zeros((nb_ligne, len(Not_individuals) ))), axis=1 )\n",
    "    df_pred = pd.DataFrame(New_Prediction, columns=list(Dataset.tasks) + Not_individuals)\n",
    "    for col in Dataset.tasks:\n",
    "        quer = f\"\"\" \n",
    "        Select ?od_parent WHERE {{ \n",
    "            :{col} a ?od_parent . \n",
    "        }} \"\"\"\n",
    "        for res in g.query(quer):\n",
    "            q = f\"\"\"\n",
    "                Select ?parent WHERE{{ \n",
    "                    :{res[0].fragment} rdfs:subClassOf ?parent\n",
    "                    }}\n",
    "            \"\"\"\n",
    "            for res2 in g.query(q):\n",
    "                if res2[0].fragment in Not_individuals:\n",
    "                    df_pred[res2[0].fragment] = df_pred[res2[0].fragment] + df_pred[col]\n",
    "    df_pred.applymap(lambda x: 1 if isinstance(x,int) and x>=1 else x )\n",
    "    Smiles = pd.DataFrame({\"smiles\" : Dataset.ids}) \n",
    "    return pd.concat([Smiles,df_pred.reindex(sorted(df_pred.columns), axis=1)], axis=1)\n",
    "                \n",
    "    "
   ]
  },
  {
   "cell_type": "code",
   "execution_count": 28,
   "metadata": {},
   "outputs": [],
   "source": [
    "model_sketch = MPNNPOMModel(n_tasks = n_tasks,\n",
    "                        batch_size=128,\n",
    "                        learning_rate=learning_rate,\n",
    "                        class_imbalance_ratio = train_ratios,\n",
    "                        loss_aggr_type = 'sum',\n",
    "                        node_out_feats = 100,\n",
    "                        edge_hidden_feats = 75,\n",
    "                        edge_out_feats = 100,\n",
    "                        num_step_message_passing = 3,\n",
    "                        mpnn_residual = True,\n",
    "                        message_aggregator_type = 'sum',\n",
    "                        mode = 'classification',\n",
    "                        number_atom_features = GraphConvConstants.ATOM_FDIM,\n",
    "                        number_bond_features = GraphConvConstants.BOND_FDIM,\n",
    "                        n_classes = 1,\n",
    "                        readout_type = 'global_sum_pooling',\n",
    "                        ffn_hidden_list= [392, 392],\n",
    "                        ffn_embeddings = 256,\n",
    "                        ffn_activation = 'relu',\n",
    "                        ffn_dropout_p = 0.12,\n",
    "                        ffn_dropout_at_input_no_act = False,\n",
    "                        weight_decay = 1e-5,\n",
    "                        self_loop = False,\n",
    "                        optimizer_name = 'adam',\n",
    "                        log_frequency = 32,\n",
    "                        model_dir = f'./sketchOscent/model_avec_hier/model_4',\n",
    "                        device_name='cpu')\n",
    "model_sketch.restore(\"./sketchOscent/model_avec_hier/model_4/checkpoint2.pt\")"
   ]
  },
  {
   "cell_type": "code",
   "execution_count": 29,
   "metadata": {},
   "outputs": [],
   "source": [
    "pred=model_sketch.predict(test_dataset)"
   ]
  },
  {
   "cell_type": "code",
   "execution_count": 30,
   "metadata": {},
   "outputs": [],
   "source": [
    "n_pred = guess(test_dataset, pred, Not_Individuals, g)"
   ]
  },
  {
   "cell_type": "code",
   "execution_count": 31,
   "metadata": {},
   "outputs": [
    {
     "data": {
      "text/html": [
       "<div>\n",
       "<style scoped>\n",
       "    .dataframe tbody tr th:only-of-type {\n",
       "        vertical-align: middle;\n",
       "    }\n",
       "\n",
       "    .dataframe tbody tr th {\n",
       "        vertical-align: top;\n",
       "    }\n",
       "\n",
       "    .dataframe thead th {\n",
       "        text-align: right;\n",
       "    }\n",
       "</style>\n",
       "<table border=\"1\" class=\"dataframe\">\n",
       "  <thead>\n",
       "    <tr style=\"text-align: right;\">\n",
       "      <th></th>\n",
       "      <th>smiles</th>\n",
       "      <th>Agrume</th>\n",
       "      <th>Aldehyde</th>\n",
       "      <th>Alliace</th>\n",
       "      <th>Animal</th>\n",
       "      <th>Anise</th>\n",
       "      <th>Baie</th>\n",
       "      <th>Balsamique</th>\n",
       "      <th>Banane</th>\n",
       "      <th>Beurre</th>\n",
       "      <th>...</th>\n",
       "      <th>santal</th>\n",
       "      <th>savon</th>\n",
       "      <th>tabac</th>\n",
       "      <th>the</th>\n",
       "      <th>tomate</th>\n",
       "      <th>vanille</th>\n",
       "      <th>vert</th>\n",
       "      <th>vetiver</th>\n",
       "      <th>vin</th>\n",
       "      <th>violette</th>\n",
       "    </tr>\n",
       "  </thead>\n",
       "  <tbody>\n",
       "    <tr>\n",
       "      <th>0</th>\n",
       "      <td>C([C@H]([C@H]([C@@H]([C@H](CO)O)O)O)O)O</td>\n",
       "      <td>0.0</td>\n",
       "      <td>0.0</td>\n",
       "      <td>0.0</td>\n",
       "      <td>0.0</td>\n",
       "      <td>0.0</td>\n",
       "      <td>0.0</td>\n",
       "      <td>0.0</td>\n",
       "      <td>0.0</td>\n",
       "      <td>0.0</td>\n",
       "      <td>...</td>\n",
       "      <td>0.0</td>\n",
       "      <td>0.0</td>\n",
       "      <td>0.0</td>\n",
       "      <td>0.0</td>\n",
       "      <td>0.0</td>\n",
       "      <td>0.0</td>\n",
       "      <td>0.0</td>\n",
       "      <td>0.0</td>\n",
       "      <td>0.0</td>\n",
       "      <td>0.0</td>\n",
       "    </tr>\n",
       "    <tr>\n",
       "      <th>1</th>\n",
       "      <td>C1=CC(=CC=C1CCN)O</td>\n",
       "      <td>0.0</td>\n",
       "      <td>0.0</td>\n",
       "      <td>0.0</td>\n",
       "      <td>0.0</td>\n",
       "      <td>0.0</td>\n",
       "      <td>0.0</td>\n",
       "      <td>0.0</td>\n",
       "      <td>0.0</td>\n",
       "      <td>0.0</td>\n",
       "      <td>...</td>\n",
       "      <td>0.0</td>\n",
       "      <td>0.0</td>\n",
       "      <td>0.0</td>\n",
       "      <td>0.0</td>\n",
       "      <td>0.0</td>\n",
       "      <td>0.0</td>\n",
       "      <td>0.0</td>\n",
       "      <td>0.0</td>\n",
       "      <td>0.0</td>\n",
       "      <td>0.0</td>\n",
       "    </tr>\n",
       "    <tr>\n",
       "      <th>2</th>\n",
       "      <td>C(CC(=O)O)CN</td>\n",
       "      <td>0.0</td>\n",
       "      <td>0.0</td>\n",
       "      <td>0.0</td>\n",
       "      <td>0.0</td>\n",
       "      <td>0.0</td>\n",
       "      <td>0.0</td>\n",
       "      <td>0.0</td>\n",
       "      <td>0.0</td>\n",
       "      <td>0.0</td>\n",
       "      <td>...</td>\n",
       "      <td>0.0</td>\n",
       "      <td>0.0</td>\n",
       "      <td>0.0</td>\n",
       "      <td>0.0</td>\n",
       "      <td>0.0</td>\n",
       "      <td>0.0</td>\n",
       "      <td>0.0</td>\n",
       "      <td>0.0</td>\n",
       "      <td>0.0</td>\n",
       "      <td>0.0</td>\n",
       "    </tr>\n",
       "    <tr>\n",
       "      <th>3</th>\n",
       "      <td>C(C(=O)O)N</td>\n",
       "      <td>0.0</td>\n",
       "      <td>0.0</td>\n",
       "      <td>0.0</td>\n",
       "      <td>0.0</td>\n",
       "      <td>0.0</td>\n",
       "      <td>0.0</td>\n",
       "      <td>0.0</td>\n",
       "      <td>0.0</td>\n",
       "      <td>0.0</td>\n",
       "      <td>...</td>\n",
       "      <td>0.0</td>\n",
       "      <td>0.0</td>\n",
       "      <td>0.0</td>\n",
       "      <td>0.0</td>\n",
       "      <td>0.0</td>\n",
       "      <td>0.0</td>\n",
       "      <td>0.0</td>\n",
       "      <td>0.0</td>\n",
       "      <td>0.0</td>\n",
       "      <td>0.0</td>\n",
       "    </tr>\n",
       "    <tr>\n",
       "      <th>4</th>\n",
       "      <td>C[C@@H](C(=O)O)N</td>\n",
       "      <td>0.0</td>\n",
       "      <td>0.0</td>\n",
       "      <td>0.0</td>\n",
       "      <td>0.0</td>\n",
       "      <td>0.0</td>\n",
       "      <td>0.0</td>\n",
       "      <td>0.0</td>\n",
       "      <td>0.0</td>\n",
       "      <td>0.0</td>\n",
       "      <td>...</td>\n",
       "      <td>0.0</td>\n",
       "      <td>0.0</td>\n",
       "      <td>0.0</td>\n",
       "      <td>0.0</td>\n",
       "      <td>0.0</td>\n",
       "      <td>0.0</td>\n",
       "      <td>0.0</td>\n",
       "      <td>0.0</td>\n",
       "      <td>0.0</td>\n",
       "      <td>0.0</td>\n",
       "    </tr>\n",
       "    <tr>\n",
       "      <th>...</th>\n",
       "      <td>...</td>\n",
       "      <td>...</td>\n",
       "      <td>...</td>\n",
       "      <td>...</td>\n",
       "      <td>...</td>\n",
       "      <td>...</td>\n",
       "      <td>...</td>\n",
       "      <td>...</td>\n",
       "      <td>...</td>\n",
       "      <td>...</td>\n",
       "      <td>...</td>\n",
       "      <td>...</td>\n",
       "      <td>...</td>\n",
       "      <td>...</td>\n",
       "      <td>...</td>\n",
       "      <td>...</td>\n",
       "      <td>...</td>\n",
       "      <td>...</td>\n",
       "      <td>...</td>\n",
       "      <td>...</td>\n",
       "      <td>...</td>\n",
       "    </tr>\n",
       "    <tr>\n",
       "      <th>757</th>\n",
       "      <td>CCCCOC(=O)/C=C/C1=CC=CC=C1</td>\n",
       "      <td>0.0</td>\n",
       "      <td>0.0</td>\n",
       "      <td>0.0</td>\n",
       "      <td>0.0</td>\n",
       "      <td>0.0</td>\n",
       "      <td>0.0</td>\n",
       "      <td>0.0</td>\n",
       "      <td>0.0</td>\n",
       "      <td>0.0</td>\n",
       "      <td>...</td>\n",
       "      <td>0.0</td>\n",
       "      <td>0.0</td>\n",
       "      <td>0.0</td>\n",
       "      <td>0.0</td>\n",
       "      <td>0.0</td>\n",
       "      <td>0.0</td>\n",
       "      <td>1.0</td>\n",
       "      <td>0.0</td>\n",
       "      <td>0.0</td>\n",
       "      <td>0.0</td>\n",
       "    </tr>\n",
       "    <tr>\n",
       "      <th>758</th>\n",
       "      <td>C1=CC=C(C=C1)CSCC2=CC=CC=C2</td>\n",
       "      <td>0.0</td>\n",
       "      <td>0.0</td>\n",
       "      <td>0.0</td>\n",
       "      <td>0.0</td>\n",
       "      <td>0.0</td>\n",
       "      <td>0.0</td>\n",
       "      <td>0.0</td>\n",
       "      <td>0.0</td>\n",
       "      <td>0.0</td>\n",
       "      <td>...</td>\n",
       "      <td>0.0</td>\n",
       "      <td>0.0</td>\n",
       "      <td>0.0</td>\n",
       "      <td>0.0</td>\n",
       "      <td>0.0</td>\n",
       "      <td>0.0</td>\n",
       "      <td>0.0</td>\n",
       "      <td>0.0</td>\n",
       "      <td>0.0</td>\n",
       "      <td>0.0</td>\n",
       "    </tr>\n",
       "    <tr>\n",
       "      <th>759</th>\n",
       "      <td>COCC1=CC=CC=C1</td>\n",
       "      <td>0.0</td>\n",
       "      <td>0.0</td>\n",
       "      <td>0.0</td>\n",
       "      <td>0.0</td>\n",
       "      <td>0.0</td>\n",
       "      <td>0.0</td>\n",
       "      <td>0.0</td>\n",
       "      <td>0.0</td>\n",
       "      <td>0.0</td>\n",
       "      <td>...</td>\n",
       "      <td>0.0</td>\n",
       "      <td>0.0</td>\n",
       "      <td>0.0</td>\n",
       "      <td>0.0</td>\n",
       "      <td>0.0</td>\n",
       "      <td>0.0</td>\n",
       "      <td>1.0</td>\n",
       "      <td>0.0</td>\n",
       "      <td>0.0</td>\n",
       "      <td>0.0</td>\n",
       "    </tr>\n",
       "    <tr>\n",
       "      <th>760</th>\n",
       "      <td>CCOCC1=CC=CC=C1</td>\n",
       "      <td>0.0</td>\n",
       "      <td>0.0</td>\n",
       "      <td>0.0</td>\n",
       "      <td>0.0</td>\n",
       "      <td>0.0</td>\n",
       "      <td>0.0</td>\n",
       "      <td>0.0</td>\n",
       "      <td>0.0</td>\n",
       "      <td>0.0</td>\n",
       "      <td>...</td>\n",
       "      <td>0.0</td>\n",
       "      <td>0.0</td>\n",
       "      <td>0.0</td>\n",
       "      <td>0.0</td>\n",
       "      <td>0.0</td>\n",
       "      <td>0.0</td>\n",
       "      <td>1.0</td>\n",
       "      <td>0.0</td>\n",
       "      <td>0.0</td>\n",
       "      <td>0.0</td>\n",
       "    </tr>\n",
       "    <tr>\n",
       "      <th>761</th>\n",
       "      <td>CCCCC(=O)OCC</td>\n",
       "      <td>0.0</td>\n",
       "      <td>0.0</td>\n",
       "      <td>0.0</td>\n",
       "      <td>0.0</td>\n",
       "      <td>0.0</td>\n",
       "      <td>0.0</td>\n",
       "      <td>0.0</td>\n",
       "      <td>0.0</td>\n",
       "      <td>0.0</td>\n",
       "      <td>...</td>\n",
       "      <td>0.0</td>\n",
       "      <td>0.0</td>\n",
       "      <td>0.0</td>\n",
       "      <td>0.0</td>\n",
       "      <td>0.0</td>\n",
       "      <td>0.0</td>\n",
       "      <td>1.0</td>\n",
       "      <td>0.0</td>\n",
       "      <td>0.0</td>\n",
       "      <td>0.0</td>\n",
       "    </tr>\n",
       "  </tbody>\n",
       "</table>\n",
       "<p>762 rows × 126 columns</p>\n",
       "</div>"
      ],
      "text/plain": [
       "                                      smiles  Agrume  Aldehyde  Alliace  \\\n",
       "0    C([C@H]([C@H]([C@@H]([C@H](CO)O)O)O)O)O     0.0       0.0      0.0   \n",
       "1                          C1=CC(=CC=C1CCN)O     0.0       0.0      0.0   \n",
       "2                               C(CC(=O)O)CN     0.0       0.0      0.0   \n",
       "3                                 C(C(=O)O)N     0.0       0.0      0.0   \n",
       "4                           C[C@@H](C(=O)O)N     0.0       0.0      0.0   \n",
       "..                                       ...     ...       ...      ...   \n",
       "757               CCCCOC(=O)/C=C/C1=CC=CC=C1     0.0       0.0      0.0   \n",
       "758              C1=CC=C(C=C1)CSCC2=CC=CC=C2     0.0       0.0      0.0   \n",
       "759                           COCC1=CC=CC=C1     0.0       0.0      0.0   \n",
       "760                          CCOCC1=CC=CC=C1     0.0       0.0      0.0   \n",
       "761                             CCCCC(=O)OCC     0.0       0.0      0.0   \n",
       "\n",
       "     Animal  Anise  Baie  Balsamique  Banane  Beurre  ...  santal  savon  \\\n",
       "0       0.0    0.0   0.0         0.0     0.0     0.0  ...     0.0    0.0   \n",
       "1       0.0    0.0   0.0         0.0     0.0     0.0  ...     0.0    0.0   \n",
       "2       0.0    0.0   0.0         0.0     0.0     0.0  ...     0.0    0.0   \n",
       "3       0.0    0.0   0.0         0.0     0.0     0.0  ...     0.0    0.0   \n",
       "4       0.0    0.0   0.0         0.0     0.0     0.0  ...     0.0    0.0   \n",
       "..      ...    ...   ...         ...     ...     ...  ...     ...    ...   \n",
       "757     0.0    0.0   0.0         0.0     0.0     0.0  ...     0.0    0.0   \n",
       "758     0.0    0.0   0.0         0.0     0.0     0.0  ...     0.0    0.0   \n",
       "759     0.0    0.0   0.0         0.0     0.0     0.0  ...     0.0    0.0   \n",
       "760     0.0    0.0   0.0         0.0     0.0     0.0  ...     0.0    0.0   \n",
       "761     0.0    0.0   0.0         0.0     0.0     0.0  ...     0.0    0.0   \n",
       "\n",
       "     tabac  the  tomate  vanille  vert  vetiver  vin  violette  \n",
       "0      0.0  0.0     0.0      0.0   0.0      0.0  0.0       0.0  \n",
       "1      0.0  0.0     0.0      0.0   0.0      0.0  0.0       0.0  \n",
       "2      0.0  0.0     0.0      0.0   0.0      0.0  0.0       0.0  \n",
       "3      0.0  0.0     0.0      0.0   0.0      0.0  0.0       0.0  \n",
       "4      0.0  0.0     0.0      0.0   0.0      0.0  0.0       0.0  \n",
       "..     ...  ...     ...      ...   ...      ...  ...       ...  \n",
       "757    0.0  0.0     0.0      0.0   1.0      0.0  0.0       0.0  \n",
       "758    0.0  0.0     0.0      0.0   0.0      0.0  0.0       0.0  \n",
       "759    0.0  0.0     0.0      0.0   1.0      0.0  0.0       0.0  \n",
       "760    0.0  0.0     0.0      0.0   1.0      0.0  0.0       0.0  \n",
       "761    0.0  0.0     0.0      0.0   1.0      0.0  0.0       0.0  \n",
       "\n",
       "[762 rows x 126 columns]"
      ]
     },
     "execution_count": 31,
     "metadata": {},
     "output_type": "execute_result"
    }
   ],
   "source": [
    "n_pred"
   ]
  },
  {
   "cell_type": "code",
   "execution_count": 45,
   "metadata": {},
   "outputs": [],
   "source": [
    "def get_file(data_frame, file_name ='Mol_odeur.csv'):\n",
    "    Labels = list(data_frame.columns)\n",
    "    df = pd.read_csv(file_name, usecols=Labels)\n",
    "    print(len(df.index) - len(df['smiles'].unique()))\n",
    "    return df.filter(items=data_frame['smiles'], axis=0)\n",
    "    "
   ]
  },
  {
   "cell_type": "code",
   "execution_count": 46,
   "metadata": {},
   "outputs": [
    {
     "name": "stdout",
     "output_type": "stream",
     "text": [
      "185\n"
     ]
    },
    {
     "data": {
      "text/html": [
       "<div>\n",
       "<style scoped>\n",
       "    .dataframe tbody tr th:only-of-type {\n",
       "        vertical-align: middle;\n",
       "    }\n",
       "\n",
       "    .dataframe tbody tr th {\n",
       "        vertical-align: top;\n",
       "    }\n",
       "\n",
       "    .dataframe thead th {\n",
       "        text-align: right;\n",
       "    }\n",
       "</style>\n",
       "<table border=\"1\" class=\"dataframe\">\n",
       "  <thead>\n",
       "    <tr style=\"text-align: right;\">\n",
       "      <th></th>\n",
       "      <th>smiles</th>\n",
       "      <th>Agrume</th>\n",
       "      <th>Aldehyde</th>\n",
       "      <th>Alliace</th>\n",
       "      <th>Animal</th>\n",
       "      <th>Anise</th>\n",
       "      <th>Baie</th>\n",
       "      <th>Balsamique</th>\n",
       "      <th>Banane</th>\n",
       "      <th>Beurre</th>\n",
       "      <th>...</th>\n",
       "      <th>santal</th>\n",
       "      <th>savon</th>\n",
       "      <th>tabac</th>\n",
       "      <th>the</th>\n",
       "      <th>tomate</th>\n",
       "      <th>vanille</th>\n",
       "      <th>vert</th>\n",
       "      <th>vetiver</th>\n",
       "      <th>vin</th>\n",
       "      <th>violette</th>\n",
       "    </tr>\n",
       "  </thead>\n",
       "  <tbody>\n",
       "  </tbody>\n",
       "</table>\n",
       "<p>0 rows × 126 columns</p>\n",
       "</div>"
      ],
      "text/plain": [
       "Empty DataFrame\n",
       "Columns: [smiles, Agrume, Aldehyde, Alliace, Animal, Anise, Baie, Balsamique, Banane, Beurre, Boise, Bouillon, Brule, Cacao, Camphre, Caramel, Champignon, Chimique, Chou, Coumarine, Creme, Cuir, Cuit, Doux, Epice, Fermentaire, Fleur_d_oranger, Floral, Frais, Fromage, Fruit_Exotique, Fruit_a_Coque, Fruite, Gras, Lacte, Lactique, Lactone, Lavande, Legume, Marin, Medicinal, Menthe, Moisi, Orange, Pain, Phenole, Pin, Poisson, Poivre, Pomme, Pomme_De_Terre, Racine, Soufre, Terreux, Torrefie, Viande_Cuite, abricot, ail, amande, ambre, ambre_gris, ananas, anis, aubepine, bergamote, cafe, cannelle, capucine, cedre, celeri, cerise, chocolat, citron, citron_vert, clou_de_girofle, cognac, concombre, confiture, coriandre, ester, ether, feuille, foin, fraise, framboise, fumee, geranium, herbe, huile, iris, jacinthe, jasmin, lys, melon, menthol, metallique, miel, muguet, musc, narcisse, ...]\n",
       "Index: []\n",
       "\n",
       "[0 rows x 126 columns]"
      ]
     },
     "execution_count": 46,
     "metadata": {},
     "output_type": "execute_result"
    }
   ],
   "source": [
    "df = get_file(n_pred)\n",
    "df"
   ]
  },
  {
   "cell_type": "code",
   "execution_count": 89,
   "metadata": {},
   "outputs": [
    {
     "ename": "ValueError",
     "evalue": "Found input variables with inconsistent numbers of samples: [125, 69]",
     "output_type": "error",
     "traceback": [
      "\u001b[0;31m---------------------------------------------------------------------------\u001b[0m",
      "\u001b[0;31mValueError\u001b[0m                                Traceback (most recent call last)",
      "Cell \u001b[0;32mIn[89], line 2\u001b[0m\n\u001b[1;32m      1\u001b[0m \u001b[38;5;28;01mimport\u001b[39;00m \u001b[38;5;21;01msklearn\u001b[39;00m\n\u001b[0;32m----> 2\u001b[0m \u001b[43msklearn\u001b[49m\u001b[38;5;241;43m.\u001b[39;49m\u001b[43mmetrics\u001b[49m\u001b[38;5;241;43m.\u001b[39;49m\u001b[43maccuracy_score\u001b[49m\u001b[43m(\u001b[49m\u001b[43mn_pred\u001b[49m\u001b[38;5;241;43m.\u001b[39;49m\u001b[43mvalues\u001b[49m\u001b[43m[\u001b[49m\u001b[38;5;241;43m1\u001b[39;49m\u001b[43m]\u001b[49m\u001b[43m,\u001b[49m\u001b[43m \u001b[49m\u001b[43mtest_dataset\u001b[49m\u001b[38;5;241;43m.\u001b[39;49m\u001b[43my\u001b[49m\u001b[43m[\u001b[49m\u001b[38;5;241;43m1\u001b[39;49m\u001b[43m]\u001b[49m\u001b[43m)\u001b[49m\n",
      "File \u001b[0;32m~/anaconda3/envs/open_test/lib/python3.9/site-packages/sklearn/utils/_param_validation.py:216\u001b[0m, in \u001b[0;36mvalidate_params.<locals>.decorator.<locals>.wrapper\u001b[0;34m(*args, **kwargs)\u001b[0m\n\u001b[1;32m    210\u001b[0m \u001b[38;5;28;01mtry\u001b[39;00m:\n\u001b[1;32m    211\u001b[0m     \u001b[38;5;28;01mwith\u001b[39;00m config_context(\n\u001b[1;32m    212\u001b[0m         skip_parameter_validation\u001b[38;5;241m=\u001b[39m(\n\u001b[1;32m    213\u001b[0m             prefer_skip_nested_validation \u001b[38;5;129;01mor\u001b[39;00m global_skip_validation\n\u001b[1;32m    214\u001b[0m         )\n\u001b[1;32m    215\u001b[0m     ):\n\u001b[0;32m--> 216\u001b[0m         \u001b[38;5;28;01mreturn\u001b[39;00m \u001b[43mfunc\u001b[49m\u001b[43m(\u001b[49m\u001b[38;5;241;43m*\u001b[39;49m\u001b[43margs\u001b[49m\u001b[43m,\u001b[49m\u001b[43m \u001b[49m\u001b[38;5;241;43m*\u001b[39;49m\u001b[38;5;241;43m*\u001b[39;49m\u001b[43mkwargs\u001b[49m\u001b[43m)\u001b[49m\n\u001b[1;32m    217\u001b[0m \u001b[38;5;28;01mexcept\u001b[39;00m InvalidParameterError \u001b[38;5;28;01mas\u001b[39;00m e:\n\u001b[1;32m    218\u001b[0m     \u001b[38;5;66;03m# When the function is just a wrapper around an estimator, we allow\u001b[39;00m\n\u001b[1;32m    219\u001b[0m     \u001b[38;5;66;03m# the function to delegate validation to the estimator, but we replace\u001b[39;00m\n\u001b[1;32m    220\u001b[0m     \u001b[38;5;66;03m# the name of the estimator by the name of the function in the error\u001b[39;00m\n\u001b[1;32m    221\u001b[0m     \u001b[38;5;66;03m# message to avoid confusion.\u001b[39;00m\n\u001b[1;32m    222\u001b[0m     msg \u001b[38;5;241m=\u001b[39m re\u001b[38;5;241m.\u001b[39msub(\n\u001b[1;32m    223\u001b[0m         \u001b[38;5;124mr\u001b[39m\u001b[38;5;124m\"\u001b[39m\u001b[38;5;124mparameter of \u001b[39m\u001b[38;5;124m\\\u001b[39m\u001b[38;5;124mw+ must be\u001b[39m\u001b[38;5;124m\"\u001b[39m,\n\u001b[1;32m    224\u001b[0m         \u001b[38;5;124mf\u001b[39m\u001b[38;5;124m\"\u001b[39m\u001b[38;5;124mparameter of \u001b[39m\u001b[38;5;132;01m{\u001b[39;00mfunc\u001b[38;5;241m.\u001b[39m\u001b[38;5;18m__qualname__\u001b[39m\u001b[38;5;132;01m}\u001b[39;00m\u001b[38;5;124m must be\u001b[39m\u001b[38;5;124m\"\u001b[39m,\n\u001b[1;32m    225\u001b[0m         \u001b[38;5;28mstr\u001b[39m(e),\n\u001b[1;32m    226\u001b[0m     )\n",
      "File \u001b[0;32m~/anaconda3/envs/open_test/lib/python3.9/site-packages/sklearn/metrics/_classification.py:227\u001b[0m, in \u001b[0;36maccuracy_score\u001b[0;34m(y_true, y_pred, normalize, sample_weight)\u001b[0m\n\u001b[1;32m    225\u001b[0m \u001b[38;5;66;03m# Compute accuracy for each possible representation\u001b[39;00m\n\u001b[1;32m    226\u001b[0m y_true, y_pred \u001b[38;5;241m=\u001b[39m attach_unique(y_true, y_pred)\n\u001b[0;32m--> 227\u001b[0m y_type, y_true, y_pred \u001b[38;5;241m=\u001b[39m \u001b[43m_check_targets\u001b[49m\u001b[43m(\u001b[49m\u001b[43my_true\u001b[49m\u001b[43m,\u001b[49m\u001b[43m \u001b[49m\u001b[43my_pred\u001b[49m\u001b[43m)\u001b[49m\n\u001b[1;32m    228\u001b[0m check_consistent_length(y_true, y_pred, sample_weight)\n\u001b[1;32m    230\u001b[0m \u001b[38;5;28;01mif\u001b[39;00m y_type\u001b[38;5;241m.\u001b[39mstartswith(\u001b[38;5;124m\"\u001b[39m\u001b[38;5;124mmultilabel\u001b[39m\u001b[38;5;124m\"\u001b[39m):\n",
      "File \u001b[0;32m~/anaconda3/envs/open_test/lib/python3.9/site-packages/sklearn/metrics/_classification.py:98\u001b[0m, in \u001b[0;36m_check_targets\u001b[0;34m(y_true, y_pred)\u001b[0m\n\u001b[1;32m     71\u001b[0m \u001b[38;5;250m\u001b[39m\u001b[38;5;124;03m\"\"\"Check that y_true and y_pred belong to the same classification task.\u001b[39;00m\n\u001b[1;32m     72\u001b[0m \n\u001b[1;32m     73\u001b[0m \u001b[38;5;124;03mThis converts multiclass or binary types to a common shape, and raises a\u001b[39;00m\n\u001b[0;32m   (...)\u001b[0m\n\u001b[1;32m     95\u001b[0m \u001b[38;5;124;03my_pred : array or indicator matrix\u001b[39;00m\n\u001b[1;32m     96\u001b[0m \u001b[38;5;124;03m\"\"\"\u001b[39;00m\n\u001b[1;32m     97\u001b[0m xp, _ \u001b[38;5;241m=\u001b[39m get_namespace(y_true, y_pred)\n\u001b[0;32m---> 98\u001b[0m \u001b[43mcheck_consistent_length\u001b[49m\u001b[43m(\u001b[49m\u001b[43my_true\u001b[49m\u001b[43m,\u001b[49m\u001b[43m \u001b[49m\u001b[43my_pred\u001b[49m\u001b[43m)\u001b[49m\n\u001b[1;32m     99\u001b[0m type_true \u001b[38;5;241m=\u001b[39m type_of_target(y_true, input_name\u001b[38;5;241m=\u001b[39m\u001b[38;5;124m\"\u001b[39m\u001b[38;5;124my_true\u001b[39m\u001b[38;5;124m\"\u001b[39m)\n\u001b[1;32m    100\u001b[0m type_pred \u001b[38;5;241m=\u001b[39m type_of_target(y_pred, input_name\u001b[38;5;241m=\u001b[39m\u001b[38;5;124m\"\u001b[39m\u001b[38;5;124my_pred\u001b[39m\u001b[38;5;124m\"\u001b[39m)\n",
      "File \u001b[0;32m~/anaconda3/envs/open_test/lib/python3.9/site-packages/sklearn/utils/validation.py:475\u001b[0m, in \u001b[0;36mcheck_consistent_length\u001b[0;34m(*arrays)\u001b[0m\n\u001b[1;32m    473\u001b[0m uniques \u001b[38;5;241m=\u001b[39m np\u001b[38;5;241m.\u001b[39munique(lengths)\n\u001b[1;32m    474\u001b[0m \u001b[38;5;28;01mif\u001b[39;00m \u001b[38;5;28mlen\u001b[39m(uniques) \u001b[38;5;241m>\u001b[39m \u001b[38;5;241m1\u001b[39m:\n\u001b[0;32m--> 475\u001b[0m     \u001b[38;5;28;01mraise\u001b[39;00m \u001b[38;5;167;01mValueError\u001b[39;00m(\n\u001b[1;32m    476\u001b[0m         \u001b[38;5;124m\"\u001b[39m\u001b[38;5;124mFound input variables with inconsistent numbers of samples: \u001b[39m\u001b[38;5;132;01m%r\u001b[39;00m\u001b[38;5;124m\"\u001b[39m\n\u001b[1;32m    477\u001b[0m         \u001b[38;5;241m%\u001b[39m [\u001b[38;5;28mint\u001b[39m(l) \u001b[38;5;28;01mfor\u001b[39;00m l \u001b[38;5;129;01min\u001b[39;00m lengths]\n\u001b[1;32m    478\u001b[0m     )\n",
      "\u001b[0;31mValueError\u001b[0m: Found input variables with inconsistent numbers of samples: [125, 69]"
     ]
    }
   ],
   "source": [
    "import sklearn\n",
    "sklearn.metrics.accuracy_score(n_pred.values, test_dataset.y[1])"
   ]
  },
  {
   "cell_type": "code",
   "execution_count": 90,
   "metadata": {
    "editable": true,
    "slideshow": {
     "slide_type": ""
    },
    "tags": []
   },
   "outputs": [
    {
     "data": {
      "text/plain": [
       "(762, 69)"
      ]
     },
     "execution_count": 90,
     "metadata": {},
     "output_type": "execute_result"
    }
   ],
   "source": [
    "test_dataset.y.shape"
   ]
  },
  {
   "cell_type": "code",
   "execution_count": 47,
   "metadata": {
    "editable": true,
    "slideshow": {
     "slide_type": ""
    },
    "tags": []
   },
   "outputs": [
    {
     "data": {
      "text/plain": [
       "RangeIndex(start=0, stop=762, step=1)"
      ]
     },
     "execution_count": 47,
     "metadata": {},
     "output_type": "execute_result"
    }
   ],
   "source": [
    "n_pred.index"
   ]
  },
  {
   "cell_type": "code",
   "execution_count": 58,
   "metadata": {},
   "outputs": [
    {
     "data": {
      "text/html": [
       "<div>\n",
       "<style scoped>\n",
       "    .dataframe tbody tr th:only-of-type {\n",
       "        vertical-align: middle;\n",
       "    }\n",
       "\n",
       "    .dataframe tbody tr th {\n",
       "        vertical-align: top;\n",
       "    }\n",
       "\n",
       "    .dataframe thead th {\n",
       "        text-align: right;\n",
       "    }\n",
       "</style>\n",
       "<table border=\"1\" class=\"dataframe\">\n",
       "  <thead>\n",
       "    <tr style=\"text-align: right;\">\n",
       "      <th></th>\n",
       "      <th>Unnamed: 0</th>\n",
       "      <th>Acetique</th>\n",
       "      <th>Agrume</th>\n",
       "      <th>Aldehyde</th>\n",
       "      <th>Alliace</th>\n",
       "      <th>Amande_Amere</th>\n",
       "      <th>Animal</th>\n",
       "      <th>Anise</th>\n",
       "      <th>Baie</th>\n",
       "      <th>Balsamique</th>\n",
       "      <th>...</th>\n",
       "      <th>verveine</th>\n",
       "      <th>vetiver</th>\n",
       "      <th>vin</th>\n",
       "      <th>vinaigre</th>\n",
       "      <th>violette</th>\n",
       "      <th>wasabi</th>\n",
       "      <th>whisky</th>\n",
       "      <th>yaourt</th>\n",
       "      <th>ylang_ylang</th>\n",
       "      <th>zeste_citron</th>\n",
       "    </tr>\n",
       "  </thead>\n",
       "  <tbody>\n",
       "    <tr>\n",
       "      <th>1450</th>\n",
       "      <td>491-01-0</td>\n",
       "      <td>0</td>\n",
       "      <td>0</td>\n",
       "      <td>0</td>\n",
       "      <td>0</td>\n",
       "      <td>0</td>\n",
       "      <td>0</td>\n",
       "      <td>0</td>\n",
       "      <td>0</td>\n",
       "      <td>0</td>\n",
       "      <td>...</td>\n",
       "      <td>0</td>\n",
       "      <td>0</td>\n",
       "      <td>0</td>\n",
       "      <td>0</td>\n",
       "      <td>0</td>\n",
       "      <td>0</td>\n",
       "      <td>0</td>\n",
       "      <td>0</td>\n",
       "      <td>0</td>\n",
       "      <td>0</td>\n",
       "    </tr>\n",
       "    <tr>\n",
       "      <th>2099</th>\n",
       "      <td>87-91-2</td>\n",
       "      <td>0</td>\n",
       "      <td>0</td>\n",
       "      <td>0</td>\n",
       "      <td>0</td>\n",
       "      <td>0</td>\n",
       "      <td>0</td>\n",
       "      <td>0</td>\n",
       "      <td>0</td>\n",
       "      <td>0</td>\n",
       "      <td>...</td>\n",
       "      <td>0</td>\n",
       "      <td>0</td>\n",
       "      <td>1</td>\n",
       "      <td>0</td>\n",
       "      <td>0</td>\n",
       "      <td>0</td>\n",
       "      <td>0</td>\n",
       "      <td>0</td>\n",
       "      <td>0</td>\n",
       "      <td>0</td>\n",
       "    </tr>\n",
       "    <tr>\n",
       "      <th>2164</th>\n",
       "      <td>97-41-6</td>\n",
       "      <td>0</td>\n",
       "      <td>0</td>\n",
       "      <td>0</td>\n",
       "      <td>0</td>\n",
       "      <td>0</td>\n",
       "      <td>0</td>\n",
       "      <td>0</td>\n",
       "      <td>0</td>\n",
       "      <td>0</td>\n",
       "      <td>...</td>\n",
       "      <td>0</td>\n",
       "      <td>0</td>\n",
       "      <td>1</td>\n",
       "      <td>0</td>\n",
       "      <td>0</td>\n",
       "      <td>0</td>\n",
       "      <td>0</td>\n",
       "      <td>0</td>\n",
       "      <td>0</td>\n",
       "      <td>0</td>\n",
       "    </tr>\n",
       "    <tr>\n",
       "      <th>2216</th>\n",
       "      <td>17369-59-4</td>\n",
       "      <td>0</td>\n",
       "      <td>0</td>\n",
       "      <td>0</td>\n",
       "      <td>0</td>\n",
       "      <td>0</td>\n",
       "      <td>0</td>\n",
       "      <td>0</td>\n",
       "      <td>0</td>\n",
       "      <td>0</td>\n",
       "      <td>...</td>\n",
       "      <td>0</td>\n",
       "      <td>0</td>\n",
       "      <td>0</td>\n",
       "      <td>0</td>\n",
       "      <td>0</td>\n",
       "      <td>0</td>\n",
       "      <td>0</td>\n",
       "      <td>0</td>\n",
       "      <td>0</td>\n",
       "      <td>0</td>\n",
       "    </tr>\n",
       "    <tr>\n",
       "      <th>2253</th>\n",
       "      <td>10519-33-2</td>\n",
       "      <td>0</td>\n",
       "      <td>0</td>\n",
       "      <td>0</td>\n",
       "      <td>0</td>\n",
       "      <td>0</td>\n",
       "      <td>0</td>\n",
       "      <td>0</td>\n",
       "      <td>0</td>\n",
       "      <td>0</td>\n",
       "      <td>...</td>\n",
       "      <td>0</td>\n",
       "      <td>0</td>\n",
       "      <td>0</td>\n",
       "      <td>0</td>\n",
       "      <td>0</td>\n",
       "      <td>0</td>\n",
       "      <td>0</td>\n",
       "      <td>0</td>\n",
       "      <td>0</td>\n",
       "      <td>0</td>\n",
       "    </tr>\n",
       "    <tr>\n",
       "      <th>...</th>\n",
       "      <td>...</td>\n",
       "      <td>...</td>\n",
       "      <td>...</td>\n",
       "      <td>...</td>\n",
       "      <td>...</td>\n",
       "      <td>...</td>\n",
       "      <td>...</td>\n",
       "      <td>...</td>\n",
       "      <td>...</td>\n",
       "      <td>...</td>\n",
       "      <td>...</td>\n",
       "      <td>...</td>\n",
       "      <td>...</td>\n",
       "      <td>...</td>\n",
       "      <td>...</td>\n",
       "      <td>...</td>\n",
       "      <td>...</td>\n",
       "      <td>...</td>\n",
       "      <td>...</td>\n",
       "      <td>...</td>\n",
       "      <td>...</td>\n",
       "    </tr>\n",
       "    <tr>\n",
       "      <th>3884</th>\n",
       "      <td>770-27-4</td>\n",
       "      <td>0</td>\n",
       "      <td>0</td>\n",
       "      <td>0</td>\n",
       "      <td>0</td>\n",
       "      <td>0</td>\n",
       "      <td>0</td>\n",
       "      <td>0</td>\n",
       "      <td>0</td>\n",
       "      <td>0</td>\n",
       "      <td>...</td>\n",
       "      <td>0</td>\n",
       "      <td>0</td>\n",
       "      <td>0</td>\n",
       "      <td>0</td>\n",
       "      <td>0</td>\n",
       "      <td>0</td>\n",
       "      <td>0</td>\n",
       "      <td>0</td>\n",
       "      <td>0</td>\n",
       "      <td>0</td>\n",
       "    </tr>\n",
       "    <tr>\n",
       "      <th>3885</th>\n",
       "      <td>97231-35-1</td>\n",
       "      <td>0</td>\n",
       "      <td>1</td>\n",
       "      <td>0</td>\n",
       "      <td>0</td>\n",
       "      <td>0</td>\n",
       "      <td>0</td>\n",
       "      <td>0</td>\n",
       "      <td>0</td>\n",
       "      <td>0</td>\n",
       "      <td>...</td>\n",
       "      <td>0</td>\n",
       "      <td>0</td>\n",
       "      <td>0</td>\n",
       "      <td>0</td>\n",
       "      <td>0</td>\n",
       "      <td>0</td>\n",
       "      <td>0</td>\n",
       "      <td>0</td>\n",
       "      <td>0</td>\n",
       "      <td>0</td>\n",
       "    </tr>\n",
       "    <tr>\n",
       "      <th>3899</th>\n",
       "      <td>1094004-39-3</td>\n",
       "      <td>0</td>\n",
       "      <td>0</td>\n",
       "      <td>0</td>\n",
       "      <td>0</td>\n",
       "      <td>0</td>\n",
       "      <td>0</td>\n",
       "      <td>0</td>\n",
       "      <td>0</td>\n",
       "      <td>0</td>\n",
       "      <td>...</td>\n",
       "      <td>0</td>\n",
       "      <td>0</td>\n",
       "      <td>0</td>\n",
       "      <td>0</td>\n",
       "      <td>0</td>\n",
       "      <td>0</td>\n",
       "      <td>0</td>\n",
       "      <td>0</td>\n",
       "      <td>0</td>\n",
       "      <td>0</td>\n",
       "    </tr>\n",
       "    <tr>\n",
       "      <th>3901</th>\n",
       "      <td>1009814-14-5</td>\n",
       "      <td>0</td>\n",
       "      <td>0</td>\n",
       "      <td>0</td>\n",
       "      <td>0</td>\n",
       "      <td>0</td>\n",
       "      <td>0</td>\n",
       "      <td>0</td>\n",
       "      <td>0</td>\n",
       "      <td>1</td>\n",
       "      <td>...</td>\n",
       "      <td>0</td>\n",
       "      <td>0</td>\n",
       "      <td>0</td>\n",
       "      <td>0</td>\n",
       "      <td>0</td>\n",
       "      <td>0</td>\n",
       "      <td>0</td>\n",
       "      <td>0</td>\n",
       "      <td>0</td>\n",
       "      <td>0</td>\n",
       "    </tr>\n",
       "    <tr>\n",
       "      <th>3916</th>\n",
       "      <td>65887-08-3</td>\n",
       "      <td>0</td>\n",
       "      <td>0</td>\n",
       "      <td>0</td>\n",
       "      <td>0</td>\n",
       "      <td>0</td>\n",
       "      <td>0</td>\n",
       "      <td>0</td>\n",
       "      <td>0</td>\n",
       "      <td>0</td>\n",
       "      <td>...</td>\n",
       "      <td>0</td>\n",
       "      <td>0</td>\n",
       "      <td>0</td>\n",
       "      <td>0</td>\n",
       "      <td>0</td>\n",
       "      <td>0</td>\n",
       "      <td>0</td>\n",
       "      <td>0</td>\n",
       "      <td>0</td>\n",
       "      <td>0</td>\n",
       "    </tr>\n",
       "  </tbody>\n",
       "</table>\n",
       "<p>79 rows × 395 columns</p>\n",
       "</div>"
      ],
      "text/plain": [
       "        Unnamed: 0  Acetique  Agrume  Aldehyde  Alliace  Amande_Amere  Animal  \\\n",
       "1450      491-01-0         0       0         0        0             0       0   \n",
       "2099       87-91-2         0       0         0        0             0       0   \n",
       "2164       97-41-6         0       0         0        0             0       0   \n",
       "2216    17369-59-4         0       0         0        0             0       0   \n",
       "2253    10519-33-2         0       0         0        0             0       0   \n",
       "...            ...       ...     ...       ...      ...           ...     ...   \n",
       "3884      770-27-4         0       0         0        0             0       0   \n",
       "3885    97231-35-1         0       1         0        0             0       0   \n",
       "3899  1094004-39-3         0       0         0        0             0       0   \n",
       "3901  1009814-14-5         0       0         0        0             0       0   \n",
       "3916    65887-08-3         0       0         0        0             0       0   \n",
       "\n",
       "      Anise  Baie  Balsamique  ...  verveine  vetiver  vin  vinaigre  \\\n",
       "1450      0     0           0  ...         0        0    0         0   \n",
       "2099      0     0           0  ...         0        0    1         0   \n",
       "2164      0     0           0  ...         0        0    1         0   \n",
       "2216      0     0           0  ...         0        0    0         0   \n",
       "2253      0     0           0  ...         0        0    0         0   \n",
       "...     ...   ...         ...  ...       ...      ...  ...       ...   \n",
       "3884      0     0           0  ...         0        0    0         0   \n",
       "3885      0     0           0  ...         0        0    0         0   \n",
       "3899      0     0           0  ...         0        0    0         0   \n",
       "3901      0     0           1  ...         0        0    0         0   \n",
       "3916      0     0           0  ...         0        0    0         0   \n",
       "\n",
       "      violette  wasabi  whisky  yaourt  ylang_ylang  zeste_citron  \n",
       "1450         0       0       0       0            0             0  \n",
       "2099         0       0       0       0            0             0  \n",
       "2164         0       0       0       0            0             0  \n",
       "2216         0       0       0       0            0             0  \n",
       "2253         0       0       0       0            0             0  \n",
       "...        ...     ...     ...     ...          ...           ...  \n",
       "3884         0       0       0       0            0             0  \n",
       "3885         0       0       0       0            0             0  \n",
       "3899         0       0       0       0            0             0  \n",
       "3901         0       0       0       0            0             0  \n",
       "3916         0       0       0       0            0             0  \n",
       "\n",
       "[79 rows x 395 columns]"
      ]
     },
     "execution_count": 58,
     "metadata": {},
     "output_type": "execute_result"
    }
   ],
   "source": [
    "df_test = pd.read_csv(\"Fichiers-Sources/OdorCAS.csv\", delimiter=\"\\t\")\n",
    "df_test[df_test.duplicated()]"
   ]
  }
 ],
 "metadata": {
  "kernelspec": {
   "display_name": "Python 3 (ipykernel)",
   "language": "python",
   "name": "python3"
  },
  "language_info": {
   "codemirror_mode": {
    "name": "ipython",
    "version": 3
   },
   "file_extension": ".py",
   "mimetype": "text/x-python",
   "name": "python",
   "nbconvert_exporter": "python",
   "pygments_lexer": "ipython3",
   "version": "3.9.21"
  }
 },
 "nbformat": 4,
 "nbformat_minor": 4
}
