{
 "cells": [
  {
   "cell_type": "code",
   "execution_count": 6,
   "id": "c9808e10-d006-45d2-bf93-7eab109ac41b",
   "metadata": {},
   "outputs": [],
   "source": [
    "import pandas as pd\n",
    "import pubchempy as pcp\n",
    "from tqdm import tqdm\n",
    "import numpy as np"
   ]
  },
  {
   "cell_type": "code",
   "execution_count": 132,
   "id": "f8d3e777-40c6-4699-a59f-80623c349228",
   "metadata": {},
   "outputs": [],
   "source": [
    "df = pd.read_csv(\"Fichiers-Sources/OdorCAS.csv\", delimiter=\"\\t\")"
   ]
  },
  {
   "cell_type": "code",
   "execution_count": 105,
   "id": "92389ab8-fe91-40eb-9e59-9e767882a113",
   "metadata": {},
   "outputs": [
    {
     "name": "stdout",
     "output_type": "stream",
     "text": [
      "(3841, 395)\n",
      "(3841, 396)\n"
     ]
    }
   ],
   "source": [
    "print(df.shape)\n",
    "df = df.drop_duplicates()\n",
    "df.reset_index( inplace=True)\n",
    "print(df.shape)"
   ]
  },
  {
   "cell_type": "markdown",
   "id": "7abf0752-207e-4073-82db-138ec0062d3d",
   "metadata": {},
   "source": [
    "## Transformer les CAS en SMILES"
   ]
  },
  {
   "cell_type": "code",
   "execution_count": 9,
   "id": "1764d813-e2e3-4054-93f0-098e0110c81c",
   "metadata": {
    "scrolled": true
   },
   "outputs": [
    {
     "name": "stderr",
     "output_type": "stream",
     "text": [
      " 24%|█████████                             | 910/3841 [57:17<1:55:29,  2.36s/it]"
     ]
    },
    {
     "name": "stdout",
     "output_type": "stream",
     "text": [
      "623-43-8\n"
     ]
    },
    {
     "name": "stderr",
     "output_type": "stream",
     "text": [
      " 30%|███████████▌                           | 1134/3841 [59:59<21:48,  2.07it/s]"
     ]
    },
    {
     "name": "stdout",
     "output_type": "stream",
     "text": [
      "1334-78-7\n"
     ]
    },
    {
     "name": "stderr",
     "output_type": "stream",
     "text": [
      " 30%|██████████▉                          | 1136/3841 [1:00:00<21:21,  2.11it/s]"
     ]
    },
    {
     "name": "stdout",
     "output_type": "stream",
     "text": [
      "1335-44-0\n"
     ]
    },
    {
     "name": "stderr",
     "output_type": "stream",
     "text": [
      " 30%|███████████                          | 1154/3841 [1:00:12<20:57,  2.14it/s]"
     ]
    },
    {
     "name": "stdout",
     "output_type": "stream",
     "text": [
      "1500-94-3\n"
     ]
    },
    {
     "name": "stderr",
     "output_type": "stream",
     "text": [
      " 32%|███████████                        | 1217/3841 [1:01:05<2:25:32,  3.33s/it]"
     ]
    },
    {
     "name": "stdout",
     "output_type": "stream",
     "text": [
      "1866-31-5 (N)\n"
     ]
    },
    {
     "name": "stderr",
     "output_type": "stream",
     "text": [
      " 32%|███████████                        | 1218/3841 [1:01:06<1:47:36,  2.46s/it]"
     ]
    },
    {
     "name": "stdout",
     "output_type": "stream",
     "text": [
      "1866-31-5 (Z)\n"
     ]
    },
    {
     "name": "stderr",
     "output_type": "stream",
     "text": [
      " 32%|███████████▊                         | 1225/3841 [1:01:13<42:23,  1.03it/s]"
     ]
    },
    {
     "name": "stdout",
     "output_type": "stream",
     "text": [
      "1888-80-8\n"
     ]
    },
    {
     "name": "stderr",
     "output_type": "stream",
     "text": [
      " 34%|███████████▊                       | 1290/3841 [1:02:20<1:36:47,  2.28s/it]"
     ]
    },
    {
     "name": "stdout",
     "output_type": "stream",
     "text": [
      "2305-05-7\n"
     ]
    },
    {
     "name": "stderr",
     "output_type": "stream",
     "text": [
      " 37%|█████████████▊                       | 1436/3841 [1:04:22<22:15,  1.80it/s]"
     ]
    },
    {
     "name": "stdout",
     "output_type": "stream",
     "text": [
      "3508-83-6\n"
     ]
    },
    {
     "name": "stderr",
     "output_type": "stream",
     "text": [
      " 38%|█████████████▉                       | 1441/3841 [1:04:25<19:40,  2.03it/s]"
     ]
    },
    {
     "name": "stdout",
     "output_type": "stream",
     "text": [
      "3569-36-6\n"
     ]
    },
    {
     "name": "stderr",
     "output_type": "stream",
     "text": [
      " 41%|███████████████                      | 1563/3841 [1:05:52<19:17,  1.97it/s]"
     ]
    },
    {
     "name": "stdout",
     "output_type": "stream",
     "text": [
      "4798-44-1 (S)\n"
     ]
    },
    {
     "name": "stderr",
     "output_type": "stream",
     "text": [
      " 50%|██████████████████▌                  | 1930/3841 [1:11:34<15:37,  2.04it/s]"
     ]
    },
    {
     "name": "stdout",
     "output_type": "stream",
     "text": [
      "8013-90-9\n"
     ]
    },
    {
     "name": "stderr",
     "output_type": "stream",
     "text": [
      " 50%|██████████████████▌                  | 1931/3841 [1:11:35<15:10,  2.10it/s]"
     ]
    },
    {
     "name": "stdout",
     "output_type": "stream",
     "text": [
      "8024-27-9\n"
     ]
    },
    {
     "name": "stderr",
     "output_type": "stream",
     "text": [
      " 50%|██████████████████▌                  | 1932/3841 [1:11:35<14:23,  2.21it/s]"
     ]
    },
    {
     "name": "stdout",
     "output_type": "stream",
     "text": [
      "8030-89-5\n"
     ]
    },
    {
     "name": "stderr",
     "output_type": "stream",
     "text": [
      " 50%|██████████████████▌                  | 1933/3841 [1:11:36<14:05,  2.26it/s]"
     ]
    },
    {
     "name": "stdout",
     "output_type": "stream",
     "text": [
      "9003-73-0\n"
     ]
    },
    {
     "name": "stderr",
     "output_type": "stream",
     "text": [
      " 50%|██████████████████▋                  | 1934/3841 [1:11:36<13:34,  2.34it/s]"
     ]
    },
    {
     "name": "stdout",
     "output_type": "stream",
     "text": [
      "9005-80-5\n"
     ]
    },
    {
     "name": "stderr",
     "output_type": "stream",
     "text": [
      " 52%|███████████████████▏                 | 1990/3841 [1:12:19<19:01,  1.62it/s]"
     ]
    },
    {
     "name": "stdout",
     "output_type": "stream",
     "text": [
      "10448-24-5\n"
     ]
    },
    {
     "name": "stderr",
     "output_type": "stream",
     "text": [
      " 53%|███████████████████▍                 | 2021/3841 [1:12:44<15:21,  1.98it/s]"
     ]
    },
    {
     "name": "stdout",
     "output_type": "stream",
     "text": [
      "11028-42-5\n"
     ]
    },
    {
     "name": "stderr",
     "output_type": "stream",
     "text": [
      " 54%|███████████████████▉                 | 2065/3841 [1:13:23<42:49,  1.45s/it]"
     ]
    },
    {
     "name": "stdout",
     "output_type": "stream",
     "text": [
      "13678-56-3\n"
     ]
    },
    {
     "name": "stderr",
     "output_type": "stream",
     "text": [
      " 54%|██████████████████▊                | 2069/3841 [1:13:33<1:01:04,  2.07s/it]"
     ]
    },
    {
     "name": "stdout",
     "output_type": "stream",
     "text": [
      "13678-63-2\n"
     ]
    },
    {
     "name": "stderr",
     "output_type": "stream",
     "text": [
      " 56%|████████████████████▊                | 2162/3841 [1:15:16<37:16,  1.33s/it]"
     ]
    },
    {
     "name": "stdout",
     "output_type": "stream",
     "text": [
      "15514-30-0\n"
     ]
    },
    {
     "name": "stderr",
     "output_type": "stream",
     "text": [
      " 58%|█████████████████████▍               | 2221/3841 [1:15:54<13:34,  1.99it/s]"
     ]
    },
    {
     "name": "stdout",
     "output_type": "stream",
     "text": [
      "17618-94-9\n"
     ]
    },
    {
     "name": "stderr",
     "output_type": "stream",
     "text": [
      " 61%|██████████████████████▌              | 2344/3841 [1:17:26<52:06,  2.09s/it]"
     ]
    },
    {
     "name": "stdout",
     "output_type": "stream",
     "text": [
      "20992-69-2\n"
     ]
    },
    {
     "name": "stderr",
     "output_type": "stream",
     "text": [
      " 62%|██████████████████████▉              | 2375/3841 [1:17:47<15:47,  1.55it/s]"
     ]
    },
    {
     "name": "stdout",
     "output_type": "stream",
     "text": [
      "22074-43-7\n"
     ]
    },
    {
     "name": "stderr",
     "output_type": "stream",
     "text": [
      " 65%|███████████████████████▉             | 2487/3841 [1:19:20<37:13,  1.65s/it]"
     ]
    },
    {
     "name": "stdout",
     "output_type": "stream",
     "text": [
      "26896-48-0\n"
     ]
    },
    {
     "name": "stderr",
     "output_type": "stream",
     "text": [
      " 66%|████████████████████████▏            | 2517/3841 [1:19:41<12:58,  1.70it/s]"
     ]
    },
    {
     "name": "stdout",
     "output_type": "stream",
     "text": [
      "28631-86-9\n"
     ]
    },
    {
     "name": "stderr",
     "output_type": "stream",
     "text": [
      " 69%|█████████████████████████▍           | 2645/3841 [1:21:21<17:19,  1.15it/s]"
     ]
    },
    {
     "name": "stdout",
     "output_type": "stream",
     "text": [
      "35117-86-3\n"
     ]
    },
    {
     "name": "stderr",
     "output_type": "stream",
     "text": [
      " 69%|█████████████████████████▌           | 2658/3841 [1:21:30<10:13,  1.93it/s]"
     ]
    },
    {
     "name": "stdout",
     "output_type": "stream",
     "text": [
      "35250-78-3\n"
     ]
    },
    {
     "name": "stderr",
     "output_type": "stream",
     "text": [
      " 70%|█████████████████████████▉           | 2698/3841 [1:22:06<13:33,  1.40it/s]"
     ]
    },
    {
     "name": "stdout",
     "output_type": "stream",
     "text": [
      "37837-44-8\n"
     ]
    },
    {
     "name": "stderr",
     "output_type": "stream",
     "text": [
      " 71%|██████████████████████████▏          | 2722/3841 [1:22:22<09:51,  1.89it/s]"
     ]
    },
    {
     "name": "stdout",
     "output_type": "stream",
     "text": [
      "38888-81-2\n"
     ]
    },
    {
     "name": "stderr",
     "output_type": "stream",
     "text": [
      " 73%|██████████████████████████▉          | 2797/3841 [1:23:24<09:07,  1.91it/s]"
     ]
    },
    {
     "name": "stdout",
     "output_type": "stream",
     "text": [
      "41892-32-4\n"
     ]
    },
    {
     "name": "stderr",
     "output_type": "stream",
     "text": [
      " 74%|███████████████████████████▎         | 2838/3841 [1:23:48<08:19,  2.01it/s]"
     ]
    },
    {
     "name": "stdout",
     "output_type": "stream",
     "text": [
      "51371-47-2\n"
     ]
    },
    {
     "name": "stderr",
     "output_type": "stream",
     "text": [
      " 74%|███████████████████████████▌         | 2857/3841 [1:23:59<07:34,  2.16it/s]"
     ]
    },
    {
     "name": "stdout",
     "output_type": "stream",
     "text": [
      "52435-37-7\n"
     ]
    },
    {
     "name": "stderr",
     "output_type": "stream",
     "text": [
      " 75%|███████████████████████████▌         | 2865/3841 [1:24:03<08:55,  1.82it/s]"
     ]
    },
    {
     "name": "stdout",
     "output_type": "stream",
     "text": [
      "52704-36-6\n"
     ]
    },
    {
     "name": "stderr",
     "output_type": "stream",
     "text": [
      " 76%|████████████████████████████▏        | 2922/3841 [1:24:44<07:33,  2.03it/s]"
     ]
    },
    {
     "name": "stdout",
     "output_type": "stream",
     "text": [
      "54830-99-8\n"
     ]
    },
    {
     "name": "stderr",
     "output_type": "stream",
     "text": [
      " 77%|████████████████████████████▍        | 2956/3841 [1:25:04<08:51,  1.67it/s]"
     ]
    },
    {
     "name": "stdout",
     "output_type": "stream",
     "text": [
      "56426-65-4\n"
     ]
    },
    {
     "name": "stderr",
     "output_type": "stream",
     "text": [
      " 78%|████████████████████████████▊        | 2988/3841 [1:25:23<09:18,  1.53it/s]"
     ]
    },
    {
     "name": "stdout",
     "output_type": "stream",
     "text": [
      "58214-97-4\n"
     ]
    },
    {
     "name": "stderr",
     "output_type": "stream",
     "text": [
      " 78%|████████████████████████████▉        | 3003/3841 [1:25:42<08:13,  1.70it/s]"
     ]
    },
    {
     "name": "stdout",
     "output_type": "stream",
     "text": [
      "59020-78-9\n"
     ]
    },
    {
     "name": "stderr",
     "output_type": "stream",
     "text": [
      " 81%|█████████████████████████████▊       | 3097/3841 [1:26:42<06:10,  2.01it/s]"
     ]
    },
    {
     "name": "stdout",
     "output_type": "stream",
     "text": [
      "63458-81-1\n"
     ]
    },
    {
     "name": "stderr",
     "output_type": "stream",
     "text": [
      " 81%|██████████████████████████████▏      | 3128/3841 [1:27:07<06:17,  1.89it/s]"
     ]
    },
    {
     "name": "stdout",
     "output_type": "stream",
     "text": [
      "65405-84-7\n"
     ]
    },
    {
     "name": "stderr",
     "output_type": "stream",
     "text": [
      " 82%|██████████████████████████████▏      | 3138/3841 [1:27:12<05:28,  2.14it/s]"
     ]
    },
    {
     "name": "stdout",
     "output_type": "stream",
     "text": [
      "65504-96-3\n"
     ]
    },
    {
     "name": "stderr",
     "output_type": "stream",
     "text": [
      " 82%|██████████████████████████████▍      | 3161/3841 [1:27:25<05:15,  2.16it/s]"
     ]
    },
    {
     "name": "stdout",
     "output_type": "stream",
     "text": [
      "66427-21-2\n"
     ]
    },
    {
     "name": "stderr",
     "output_type": "stream",
     "text": [
      " 82%|██████████████████████████████▍      | 3162/3841 [1:27:25<05:10,  2.18it/s]"
     ]
    },
    {
     "name": "stdout",
     "output_type": "stream",
     "text": [
      "66427-22-3\n"
     ]
    },
    {
     "name": "stderr",
     "output_type": "stream",
     "text": [
      " 83%|██████████████████████████████▌      | 3171/3841 [1:27:39<09:55,  1.13it/s]"
     ]
    },
    {
     "name": "stdout",
     "output_type": "stream",
     "text": [
      "67114-38-9\n"
     ]
    },
    {
     "name": "stderr",
     "output_type": "stream",
     "text": [
      " 84%|██████████████████████████████▉      | 3209/3841 [1:27:59<05:14,  2.01it/s]"
     ]
    },
    {
     "name": "stdout",
     "output_type": "stream",
     "text": [
      "68908-82-7\n"
     ]
    },
    {
     "name": "stderr",
     "output_type": "stream",
     "text": [
      " 85%|███████████████████████████████▌     | 3278/3841 [1:28:42<05:01,  1.86it/s]"
     ]
    },
    {
     "name": "stdout",
     "output_type": "stream",
     "text": [
      "68378-13-2\n"
     ]
    },
    {
     "name": "stderr",
     "output_type": "stream",
     "text": [
      " 86%|███████████████████████████████▋     | 3293/3841 [1:29:00<05:07,  1.78it/s]"
     ]
    },
    {
     "name": "stdout",
     "output_type": "stream",
     "text": [
      "68516-18-7\n"
     ]
    },
    {
     "name": "stderr",
     "output_type": "stream",
     "text": [
      " 86%|███████████████████████████████▋     | 3294/3841 [1:29:00<04:41,  1.94it/s]"
     ]
    },
    {
     "name": "stdout",
     "output_type": "stream",
     "text": [
      "68527-06-0\n"
     ]
    },
    {
     "name": "stderr",
     "output_type": "stream",
     "text": [
      " 86%|███████████████████████████████▊     | 3305/3841 [1:29:06<04:15,  2.10it/s]"
     ]
    },
    {
     "name": "stdout",
     "output_type": "stream",
     "text": [
      "68555-62-4\n"
     ]
    },
    {
     "name": "stderr",
     "output_type": "stream",
     "text": [
      " 86%|███████████████████████████████▉     | 3309/3841 [1:29:08<04:20,  2.05it/s]"
     ]
    },
    {
     "name": "stdout",
     "output_type": "stream",
     "text": [
      "68555-95-3\n"
     ]
    },
    {
     "name": "stderr",
     "output_type": "stream",
     "text": [
      " 86%|███████████████████████████████▉     | 3310/3841 [1:29:08<04:03,  2.18it/s]"
     ]
    },
    {
     "name": "stdout",
     "output_type": "stream",
     "text": [
      "68585-09-1\n"
     ]
    },
    {
     "name": "stderr",
     "output_type": "stream",
     "text": [
      " 86%|███████████████████████████████▉     | 3311/3841 [1:29:09<03:50,  2.30it/s]"
     ]
    },
    {
     "name": "stdout",
     "output_type": "stream",
     "text": [
      "68608-32-2\n"
     ]
    },
    {
     "name": "stderr",
     "output_type": "stream",
     "text": [
      " 86%|███████████████████████████████▉     | 3312/3841 [1:29:09<03:39,  2.40it/s]"
     ]
    },
    {
     "name": "stdout",
     "output_type": "stream",
     "text": [
      "68611-23-4\n"
     ]
    },
    {
     "name": "stderr",
     "output_type": "stream",
     "text": [
      " 86%|███████████████████████████████▉     | 3313/3841 [1:29:09<03:39,  2.41it/s]"
     ]
    },
    {
     "name": "stdout",
     "output_type": "stream",
     "text": [
      "68648-34-0\n"
     ]
    },
    {
     "name": "stderr",
     "output_type": "stream",
     "text": [
      " 86%|███████████████████████████████▉     | 3321/3841 [1:29:14<04:20,  1.99it/s]"
     ]
    },
    {
     "name": "stdout",
     "output_type": "stream",
     "text": [
      "68738-94-3\n"
     ]
    },
    {
     "name": "stderr",
     "output_type": "stream",
     "text": [
      " 87%|████████████████████████████████     | 3329/3841 [1:29:18<04:20,  1.97it/s]"
     ]
    },
    {
     "name": "stdout",
     "output_type": "stream",
     "text": [
      "68877-29-2\n"
     ]
    },
    {
     "name": "stderr",
     "output_type": "stream",
     "text": [
      " 87%|████████████████████████████████▏    | 3340/3841 [1:29:23<04:03,  2.05it/s]"
     ]
    },
    {
     "name": "stdout",
     "output_type": "stream",
     "text": [
      "68966-86-9\n"
     ]
    },
    {
     "name": "stderr",
     "output_type": "stream",
     "text": [
      " 87%|████████████████████████████████▏    | 3345/3841 [1:29:35<24:05,  2.91s/it]"
     ]
    },
    {
     "name": "stdout",
     "output_type": "stream",
     "text": [
      "69103-01-1\n"
     ]
    },
    {
     "name": "stderr",
     "output_type": "stream",
     "text": [
      " 88%|████████████████████████████████▍    | 3365/3841 [1:29:47<03:48,  2.09it/s]"
     ]
    },
    {
     "name": "stdout",
     "output_type": "stream",
     "text": [
      "70266-48-7\n"
     ]
    },
    {
     "name": "stderr",
     "output_type": "stream",
     "text": [
      " 88%|████████████████████████████████▍    | 3369/3841 [1:29:49<04:21,  1.80it/s]"
     ]
    },
    {
     "name": "stdout",
     "output_type": "stream",
     "text": [
      "70955-71-4\n"
     ]
    },
    {
     "name": "stderr",
     "output_type": "stream",
     "text": [
      " 88%|████████████████████████████████▋    | 3390/3841 [1:30:00<03:31,  2.14it/s]"
     ]
    },
    {
     "name": "stdout",
     "output_type": "stream",
     "text": [
      "71832-76-3\n"
     ]
    },
    {
     "name": "stderr",
     "output_type": "stream",
     "text": [
      " 88%|████████████████████████████████▋    | 3392/3841 [1:30:01<03:19,  2.25it/s]"
     ]
    },
    {
     "name": "stdout",
     "output_type": "stream",
     "text": [
      "71978-01-3\n"
     ]
    },
    {
     "name": "stderr",
     "output_type": "stream",
     "text": [
      " 89%|████████████████████████████████▊    | 3407/3841 [1:30:14<04:39,  1.55it/s]"
     ]
    },
    {
     "name": "stdout",
     "output_type": "stream",
     "text": [
      "72611-71-3\n"
     ]
    },
    {
     "name": "stderr",
     "output_type": "stream",
     "text": [
      " 89%|████████████████████████████████▊    | 3408/3841 [1:30:15<04:07,  1.75it/s]"
     ]
    },
    {
     "name": "stdout",
     "output_type": "stream",
     "text": [
      "72681-03-9\n"
     ]
    },
    {
     "name": "stderr",
     "output_type": "stream",
     "text": [
      " 89%|████████████████████████████████▉    | 3425/3841 [1:30:23<03:54,  1.77it/s]"
     ]
    },
    {
     "name": "stdout",
     "output_type": "stream",
     "text": [
      "73018-51-6\n"
     ]
    },
    {
     "name": "stderr",
     "output_type": "stream",
     "text": [
      " 89%|█████████████████████████████████    | 3432/3841 [1:30:27<03:19,  2.05it/s]"
     ]
    },
    {
     "name": "stdout",
     "output_type": "stream",
     "text": [
      "73744-93-1\n"
     ]
    },
    {
     "name": "stderr",
     "output_type": "stream",
     "text": [
      " 90%|█████████████████████████████████▍   | 3472/3841 [1:30:57<02:42,  2.27it/s]"
     ]
    },
    {
     "name": "stdout",
     "output_type": "stream",
     "text": [
      "78053-99-3\n"
     ]
    },
    {
     "name": "stderr",
     "output_type": "stream",
     "text": [
      " 91%|█████████████████████████████████▍   | 3477/3841 [1:30:59<02:38,  2.30it/s]"
     ]
    },
    {
     "name": "stdout",
     "output_type": "stream",
     "text": [
      "79044-50-1\n"
     ]
    },
    {
     "name": "stderr",
     "output_type": "stream",
     "text": [
      " 91%|█████████████████████████████████▌   | 3484/3841 [1:31:02<03:15,  1.82it/s]"
     ]
    },
    {
     "name": "stdout",
     "output_type": "stream",
     "text": [
      "80449-58-7\n"
     ]
    },
    {
     "name": "stderr",
     "output_type": "stream",
     "text": [
      " 92%|██████████████████████████████████▏  | 3545/3841 [1:31:41<02:15,  2.18it/s]"
     ]
    },
    {
     "name": "stdout",
     "output_type": "stream",
     "text": [
      "88270-38-6\n"
     ]
    },
    {
     "name": "stderr",
     "output_type": "stream",
     "text": [
      " 93%|██████████████████████████████████▎  | 3565/3841 [1:31:52<02:08,  2.15it/s]"
     ]
    },
    {
     "name": "stdout",
     "output_type": "stream",
     "text": [
      "91771-62-9\n"
     ]
    },
    {
     "name": "stderr",
     "output_type": "stream",
     "text": [
      " 93%|██████████████████████████████████▍  | 3575/3841 [1:31:56<02:02,  2.17it/s]"
     ]
    },
    {
     "name": "stdout",
     "output_type": "stream",
     "text": [
      "93762-35-7\n"
     ]
    },
    {
     "name": "stderr",
     "output_type": "stream",
     "text": [
      " 93%|██████████████████████████████████▌  | 3582/3841 [1:32:00<02:22,  1.82it/s]"
     ]
    },
    {
     "name": "stdout",
     "output_type": "stream",
     "text": [
      "93905-03-4\n"
     ]
    },
    {
     "name": "stderr",
     "output_type": "stream",
     "text": [
      " 94%|██████████████████████████████████▋  | 3599/3841 [1:32:09<02:01,  1.99it/s]"
     ]
    },
    {
     "name": "stdout",
     "output_type": "stream",
     "text": [
      "94248-21-2\n"
     ]
    },
    {
     "name": "stderr",
     "output_type": "stream",
     "text": [
      " 94%|██████████████████████████████████▋  | 3607/3841 [1:32:13<01:53,  2.07it/s]"
     ]
    },
    {
     "name": "stdout",
     "output_type": "stream",
     "text": [
      "95654-18-5\n"
     ]
    },
    {
     "name": "stderr",
     "output_type": "stream",
     "text": [
      " 94%|██████████████████████████████████▊  | 3608/3841 [1:32:13<01:47,  2.17it/s]"
     ]
    },
    {
     "name": "stdout",
     "output_type": "stream",
     "text": [
      "95936-66-6\n"
     ]
    },
    {
     "name": "stderr",
     "output_type": "stream",
     "text": [
      " 94%|██████████████████████████████████▊  | 3611/3841 [1:32:15<01:41,  2.27it/s]"
     ]
    },
    {
     "name": "stdout",
     "output_type": "stream",
     "text": [
      "96508-09-7\n"
     ]
    },
    {
     "name": "stderr",
     "output_type": "stream",
     "text": [
      " 95%|███████████████████████████████████  | 3638/3841 [1:32:28<01:31,  2.22it/s]"
     ]
    },
    {
     "name": "stdout",
     "output_type": "stream",
     "text": [
      "107797-24-0\n"
     ]
    },
    {
     "name": "stderr",
     "output_type": "stream",
     "text": [
      " 95%|███████████████████████████████████  | 3639/3841 [1:32:29<01:27,  2.32it/s]"
     ]
    },
    {
     "name": "stdout",
     "output_type": "stream",
     "text": [
      "107797-25-1\n"
     ]
    },
    {
     "name": "stderr",
     "output_type": "stream",
     "text": [
      " 95%|███████████████████████████████████  | 3644/3841 [1:32:31<01:45,  1.87it/s]"
     ]
    },
    {
     "name": "stdout",
     "output_type": "stream",
     "text": [
      "108861-13-8\n"
     ]
    },
    {
     "name": "stderr",
     "output_type": "stream",
     "text": [
      " 95%|███████████████████████████████████▏ | 3657/3841 [1:32:47<02:44,  1.12it/s]"
     ]
    },
    {
     "name": "stdout",
     "output_type": "stream",
     "text": [
      "115482-83-2\n"
     ]
    },
    {
     "name": "stderr",
     "output_type": "stream",
     "text": [
      " 96%|███████████████████████████████████▍ | 3674/3841 [1:32:56<01:19,  2.11it/s]"
     ]
    },
    {
     "name": "stdout",
     "output_type": "stream",
     "text": [
      "124918-65-6\n"
     ]
    },
    {
     "name": "stderr",
     "output_type": "stream",
     "text": [
      " 96%|███████████████████████████████████▍ | 3678/3841 [1:32:58<01:14,  2.19it/s]"
     ]
    },
    {
     "name": "stdout",
     "output_type": "stream",
     "text": [
      "125352-06-9\n"
     ]
    },
    {
     "name": "stderr",
     "output_type": "stream",
     "text": [
      " 96%|███████████████████████████████████▍ | 3679/3841 [1:32:58<01:10,  2.31it/s]"
     ]
    },
    {
     "name": "stdout",
     "output_type": "stream",
     "text": [
      "125476-23-5\n"
     ]
    },
    {
     "name": "stderr",
     "output_type": "stream",
     "text": [
      " 96%|███████████████████████████████████▍ | 3680/3841 [1:32:58<01:06,  2.41it/s]"
     ]
    },
    {
     "name": "stdout",
     "output_type": "stream",
     "text": [
      "125476-24-6\n"
     ]
    },
    {
     "name": "stderr",
     "output_type": "stream",
     "text": [
      " 96%|███████████████████████████████████▍ | 3681/3841 [1:32:59<01:03,  2.50it/s]"
     ]
    },
    {
     "name": "stdout",
     "output_type": "stream",
     "text": [
      "125811-37-2\n"
     ]
    },
    {
     "name": "stderr",
     "output_type": "stream",
     "text": [
      " 96%|███████████████████████████████████▌ | 3688/3841 [1:33:02<01:13,  2.08it/s]"
     ]
    },
    {
     "name": "stdout",
     "output_type": "stream",
     "text": [
      "131222-75-8\n"
     ]
    },
    {
     "name": "stderr",
     "output_type": "stream",
     "text": [
      " 96%|███████████████████████████████████▌ | 3689/3841 [1:33:03<01:08,  2.23it/s]"
     ]
    },
    {
     "name": "stdout",
     "output_type": "stream",
     "text": [
      "131222-76-9\n"
     ]
    },
    {
     "name": "stderr",
     "output_type": "stream",
     "text": [
      " 96%|███████████████████████████████████▋ | 3705/3841 [1:33:11<01:06,  2.05it/s]"
     ]
    },
    {
     "name": "stdout",
     "output_type": "stream",
     "text": [
      "139164-92-4\n"
     ]
    },
    {
     "name": "stderr",
     "output_type": "stream",
     "text": [
      " 97%|███████████████████████████████████▉ | 3729/3841 [1:33:24<00:49,  2.28it/s]"
     ]
    },
    {
     "name": "stdout",
     "output_type": "stream",
     "text": [
      "168564-54-3\n"
     ]
    },
    {
     "name": "stderr",
     "output_type": "stream",
     "text": [
      " 98%|████████████████████████████████████▏| 3758/3841 [1:33:39<00:44,  1.88it/s]"
     ]
    },
    {
     "name": "stdout",
     "output_type": "stream",
     "text": [
      "252736-39-3\n"
     ]
    },
    {
     "name": "stderr",
     "output_type": "stream",
     "text": [
      " 98%|████████████████████████████████████▎| 3764/3841 [1:33:41<00:34,  2.23it/s]"
     ]
    },
    {
     "name": "stdout",
     "output_type": "stream",
     "text": [
      "300371-33-9\n"
     ]
    },
    {
     "name": "stderr",
     "output_type": "stream",
     "text": [
      " 98%|████████████████████████████████████▎| 3774/3841 [1:33:56<03:15,  2.92s/it]"
     ]
    },
    {
     "name": "stdout",
     "output_type": "stream",
     "text": [
      "359794-78-8\n"
     ]
    },
    {
     "name": "stderr",
     "output_type": "stream",
     "text": [
      " 99%|████████████████████████████████████▍| 3787/3841 [1:34:03<00:25,  2.08it/s]"
     ]
    },
    {
     "name": "stdout",
     "output_type": "stream",
     "text": [
      "597532-53-1\n"
     ]
    },
    {
     "name": "stderr",
     "output_type": "stream",
     "text": [
      " 99%|████████████████████████████████████▌| 3792/3841 [1:34:05<00:23,  2.12it/s]"
     ]
    },
    {
     "name": "stdout",
     "output_type": "stream",
     "text": [
      "737776-59-9\n"
     ]
    },
    {
     "name": "stderr",
     "output_type": "stream",
     "text": [
      " 99%|████████████████████████████████████▌| 3793/3841 [1:34:05<00:21,  2.25it/s]"
     ]
    },
    {
     "name": "stdout",
     "output_type": "stream",
     "text": [
      "737776-68-0\n"
     ]
    },
    {
     "name": "stderr",
     "output_type": "stream",
     "text": [
      " 99%|████████████████████████████████████▋| 3810/3841 [1:34:14<00:13,  2.29it/s]"
     ]
    },
    {
     "name": "stdout",
     "output_type": "stream",
     "text": [
      "1094004-39-3\n"
     ]
    },
    {
     "name": "stderr",
     "output_type": "stream",
     "text": [
      " 99%|████████████████████████████████████▊| 3818/3841 [1:34:18<00:10,  2.13it/s]"
     ]
    },
    {
     "name": "stdout",
     "output_type": "stream",
     "text": [
      "977091-24-9\n"
     ]
    },
    {
     "name": "stderr",
     "output_type": "stream",
     "text": [
      " 99%|████████████████████████████████████▊| 3821/3841 [1:34:19<00:08,  2.24it/s]"
     ]
    },
    {
     "name": "stdout",
     "output_type": "stream",
     "text": [
      "1009814-14-5\n"
     ]
    },
    {
     "name": "stderr",
     "output_type": "stream",
     "text": [
      "100%|████████████████████████████████████▊| 3825/3841 [1:34:21<00:06,  2.29it/s]"
     ]
    },
    {
     "name": "stdout",
     "output_type": "stream",
     "text": [
      "1160112-20-8\n"
     ]
    },
    {
     "name": "stderr",
     "output_type": "stream",
     "text": [
      "100%|████████████████████████████████████▊| 3828/3841 [1:34:22<00:05,  2.20it/s]"
     ]
    },
    {
     "name": "stdout",
     "output_type": "stream",
     "text": [
      "1225070-56-3\n"
     ]
    },
    {
     "name": "stderr",
     "output_type": "stream",
     "text": [
      "100%|████████████████████████████████████▉| 3829/3841 [1:34:23<00:05,  2.25it/s]"
     ]
    },
    {
     "name": "stdout",
     "output_type": "stream",
     "text": [
      "1241905-19-0\n"
     ]
    },
    {
     "name": "stderr",
     "output_type": "stream",
     "text": [
      "100%|████████████████████████████████████▉| 3832/3841 [1:34:24<00:03,  2.34it/s]"
     ]
    },
    {
     "name": "stdout",
     "output_type": "stream",
     "text": [
      "1304037-63-5\n"
     ]
    },
    {
     "name": "stderr",
     "output_type": "stream",
     "text": [
      "100%|████████████████████████████████████▉| 3833/3841 [1:34:24<00:03,  2.32it/s]"
     ]
    },
    {
     "name": "stdout",
     "output_type": "stream",
     "text": [
      "1304037-68-0\n"
     ]
    },
    {
     "name": "stderr",
     "output_type": "stream",
     "text": [
      "100%|█████████████████████████████████████| 3841/3841 [1:34:29<00:00,  1.48s/it]\n"
     ]
    }
   ],
   "source": [
    "Erreur = []\n",
    "Smiles=[]\n",
    "for cas in tqdm(df[\"Unnamed: 0\"]):\n",
    "    try:\n",
    "        smile = pcp.get_compounds(cas,'name')[0].isomeric_smiles\n",
    "        Smiles.append(smile)\n",
    "        if smile is None:\n",
    "            print(f\"cas {cas} est none\")\n",
    "        #odor_mol_df['smiles'] = smile\n",
    "    except:\n",
    "        Erreur.append(cas)\n",
    "        Smiles.append(np.nan)\n",
    "        print(cas)\n",
    "\n",
    "#df_od = df_od.drop('Unnamed: 0', axis=1)\n",
    "CAS = pd.DataFrame({'CAS' : df['Unnamed: 0']})"
   ]
  },
  {
   "cell_type": "markdown",
   "id": "5b14274f-3cb5-4591-b621-a1ea211d6455",
   "metadata": {},
   "source": [
    "#### On garde la traduction CAS SMILES dans un fichier CSV"
   ]
  },
  {
   "cell_type": "code",
   "execution_count": 106,
   "id": "b53c25ca-aa25-4a52-8658-37b3af033336",
   "metadata": {},
   "outputs": [],
   "source": [
    "cas_smiles= pd.concat([pd.DataFrame({'smiles' :Smiles}),df['Unnamed: 0']], axis=1)\n",
    "cas_smiles.rename(mapper={'Unnamed: 0': 'CAS'}, inplace=True)\n",
    "dict_cas_smiles = {cas : smiles for (smiles,cas) in cas_smiles.values}\n",
    "f = open('Cas_Smiles_Pubchem.json','w')\n",
    "json.dump(dict_cas_smiles, f)\n",
    "f.close()"
   ]
  },
  {
   "cell_type": "code",
   "execution_count": 30,
   "id": "50999138-d032-4f88-95be-5abcb88ab447",
   "metadata": {},
   "outputs": [],
   "source": [
    "df = df.drop('Unnamed: 0', axis=1)"
   ]
  },
  {
   "cell_type": "code",
   "execution_count": 59,
   "id": "87cd082d-9ca9-4a6e-8f93-565b9438346d",
   "metadata": {},
   "outputs": [
    {
     "data": {
      "text/plain": [
       "(3841, 395)"
      ]
     },
     "execution_count": 59,
     "metadata": {},
     "output_type": "execute_result"
    }
   ],
   "source": [
    "df = pd.read_csv(\"Fichiers-Sources/OdorCAS.csv\", delimiter=\"\\t\")\n",
    "print(df.shape)\n",
    "df = df.drop_duplicates()\n",
    "print(df.shape)"
   ]
  },
  {
   "cell_type": "markdown",
   "id": "4ebaf00b-70d5-4e64-9ee9-133e3a1af54c",
   "metadata": {},
   "source": [
    "#### On ne garde que les descripteur présent plus de 30 fois"
   ]
  },
  {
   "cell_type": "code",
   "execution_count": 60,
   "id": "a8a90aed-ffa7-4968-9138-e976c1f192e6",
   "metadata": {},
   "outputs": [],
   "source": [
    "SM = pd.DataFrame({\"smiles\" : Smiles})\n",
    "CAS = list(df_test['Unnamed: 0'])\n",
    "df_cas = pd.DataFrame({'CAS' : CAS})\n",
    "df = df.drop('Unnamed: 0', axis=1)\n",
    "data = pd.concat([df_cas,SM,df], axis=1)\n",
    "numeric_data = data.select_dtypes(include=['number'])  # Sélectionne seulement les colonnes numériques\n",
    "columns_to_keep = numeric_data.columns[numeric_data.sum(axis=0) >= 30]\n",
    "\n",
    "# Conserver les colonnes non numériques + celles qui respectent le critère\n",
    "data = data.loc[:, list(df_cas.columns) + list(SM.columns) + list(columns_to_keep)]\n"
   ]
  },
  {
   "cell_type": "code",
   "execution_count": 65,
   "id": "060e67b1-434e-4622-8583-a59bd43cd861",
   "metadata": {},
   "outputs": [
    {
     "name": "stdout",
     "output_type": "stream",
     "text": [
      "(3920, 125)\n",
      "(3841, 125)\n"
     ]
    }
   ],
   "source": [
    "print(data.shape)\n",
    "data.dropna(axis=0, subset=data.columns[2:], inplace=True)\n",
    "print(data.shape)"
   ]
  },
  {
   "cell_type": "code",
   "execution_count": 249,
   "id": "338268af-3df2-4356-8459-d90d27b07f2a",
   "metadata": {},
   "outputs": [
    {
     "name": "stdout",
     "output_type": "stream",
     "text": [
      "le nombre moyen de label par molécule est de 4.604530070294194\n"
     ]
    }
   ],
   "source": [
    "print(f\"le nombre moyen de label par molécule est de {data.iloc[:,2:].sum(axis=1).mean()}\")"
   ]
  },
  {
   "cell_type": "markdown",
   "id": "dd24af93-3e32-4823-8379-5c862cacc948",
   "metadata": {},
   "source": [
    "#### On visualise les labels les plus fréquent"
   ]
  },
  {
   "cell_type": "code",
   "execution_count": 79,
   "id": "3d1d2884-ee0e-4e37-82a6-321bef0e354d",
   "metadata": {},
   "outputs": [
    {
     "data": {
      "image/png": "[encoded data removed]",
      "text/plain": [
       "<Figure size 1000x500 with 1 Axes>"
      ]
     },
     "metadata": {},
     "output_type": "display_data"
    }
   ],
   "source": [
    "import matplotlib.pyplot as plt\n",
    "Num_lab = data.iloc[:, 2:].sum(axis=0)\n",
    "\n",
    "# Sélection des 10 labels les plus grands\n",
    "top_10 = Num_lab.nlargest(25)\n",
    "plt.figure(figsize=(10, 5))\n",
    "# Création du graphique\n",
    "plt.bar(top_10.index, top_10.values)\n",
    "plt.xticks(rotation=45, ha=\"right\") \n",
    "plt.show()"
   ]
  },
  {
   "cell_type": "code",
   "execution_count": 28,
   "id": "333936c9-0c43-4bfb-84ff-a0f1008e3f70",
   "metadata": {
    "scrolled": true
   },
   "outputs": [
    {
     "data": {
      "text/plain": [
       "['C([C@H]([C@H]([C@@H]([C@H](CO)O)O)O)O)O',\n",
       " 'C1=CC(=CC=C1CCN)O',\n",
       " 'C(CC(=O)O)CN',\n",
       " 'C(C(=O)O)N',\n",
       " 'C[C@@H](C(=O)O)N',\n",
       " 'C(C(CO)O)O',\n",
       " 'C(CC(=O)N)[C@@H](C(=O)O)N',\n",
       " 'C(CC(=O)O)[C@@H](C(=O)O)N',\n",
       " 'C=CCN=C=S',\n",
       " 'CCCCCCCCCCCCCCCC(=O)O',\n",
       " 'C([C@H]([C@H]([C@@H](C(=O)CO)O)O)O)O',\n",
       " 'C([C@@H]1[C@H]([C@@H]([C@H]([C@H](O1)O[C@]2([C@H]([C@@H]([C@H](O2)CO)O)O)CO)O)O)O)O',\n",
       " 'CC(CO)O',\n",
       " 'CN1C=NC2=C1C(=O)N(C(=O)N2C)C',\n",
       " 'C([C@H]([C@@H]([C@H](C=O)O)O)O)O',\n",
       " 'C1=CC(=C(C=C1C[C@@H](C(=O)O)N)O)O',\n",
       " 'CCCC(=O)OCC(COC(=O)CCC)OC(=O)CCC',\n",
       " 'C1=CC=C(C=C1)CCO',\n",
       " 'C1=CC=C(C=C1)CCN',\n",
       " 'CCO',\n",
       " 'C(=O)O',\n",
       " 'CC(=O)O',\n",
       " 'C1=CC=C(C=C1)C(=O)O',\n",
       " 'CCCCCC=O',\n",
       " 'C1=C(OC(=C1)C=O)CO',\n",
       " 'CC(C)O',\n",
       " 'CC(=O)C',\n",
       " 'CS(=O)C',\n",
       " 'C([C@H]([C@H]([C@@H]([C@@H](CO)O)O)O)O)O',\n",
       " 'C1=CC=C(C(=C1)C(=O)O)O',\n",
       " 'C([C@@H]1[C@H]([C@@H]([C@H]([C@H](O1)O[C@@H]2[C@H](O[C@H]([C@@H]([C@H]2O)O)O)CO)O)O)O)O',\n",
       " 'CCC(=O)C1=CC=C(C=C1)O',\n",
       " 'CCCO',\n",
       " 'CCCCO',\n",
       " 'CCCCCO',\n",
       " 'C[C@H]([C@@H](C(=O)O)N)O',\n",
       " 'CS',\n",
       " 'CCN',\n",
       " 'CC=O',\n",
       " 'CSC',\n",
       " 'CC(C)N',\n",
       " 'CC(C)S',\n",
       " 'CN(C)C',\n",
       " 'CC(C)(C(C)(C)O)O',\n",
       " 'CC1(C2CCC1(C(=O)C2)C)C',\n",
       " 'CC(=O)O[C@@H]1C[C@@H]2CC[C@]1(C2(C)C)C',\n",
       " 'CC(C)CC(=O)OC1CC2CCC1(C2(C)C)C',\n",
       " 'C[C@@H]1CC[C@@H]2[C@]13CC[C@@]([C@H](C3)C2(C)C)(C)O',\n",
       " 'C[C@@H]1CC[C@@H]2[C@]13CC[C@@]([C@H](C3)C2(C)C)(C)OC(=O)C',\n",
       " 'CCC(C)(C(=O)OCC)O',\n",
       " 'CCC(C)(CC)O',\n",
       " 'CCOC(=O)C1C(O1)(C)C2=CC=CC=C2',\n",
       " 'CCCCOC(=O)CC(CC(=O)OCCCC)(C(=O)OCCCC)OC(=O)C',\n",
       " 'CC(C)C(=O)OC(C)(CCC=C(C)C)C=C',\n",
       " 'CCCC(=O)OC(C)(CCC=C(C)C)C=C',\n",
       " 'CC(=CCCC(C)(C=C)OC(=O)/C=C/C1=CC=CC=C1)C',\n",
       " 'CC1=CC(=O)CC(C1)(C)C',\n",
       " 'CCC(C)(CCCC(C)C)O',\n",
       " 'CC(=CCCC(C)(C=C)O)C',\n",
       " 'CC(C)CN',\n",
       " 'CC(C)CO',\n",
       " 'CC(C)C=O',\n",
       " 'CC(=C)C=O',\n",
       " 'CCC(C)O',\n",
       " 'CCC(=O)C',\n",
       " 'CC(CN)O',\n",
       " 'CC(=O)C=O',\n",
       " 'CCC(=O)O',\n",
       " 'CC(=O)OC',\n",
       " 'CC(C)C(=O)O',\n",
       " 'CC(C(=O)O)S',\n",
       " 'CC1CC=C(C(C1(C)C)/C=C/C(=O)C)C',\n",
       " 'CC1CCC(=C(C1(C)C)/C=C/C(=O)C)C',\n",
       " 'CC1=C(C(CCC1)(C)C)/C=C/C(=O)C',\n",
       " 'CC1=CCCC(C1/C=C/C(=O)CCC=C)(C)C',\n",
       " 'CC1=C(C(CCC1)(C)C)C=C(C)C(=O)C',\n",
       " 'CC1(C2CCC(C2)C1=C)C',\n",
       " 'CC1CCC(CC1)C(C)(C)OC(=O)C',\n",
       " 'CC1=CCC(CC1)C(C)(C)OC(=O)C',\n",
       " 'CCC(=O)OC(C)(C)C1CCC(=CC1)C',\n",
       " 'CC(CC1=CC=C(C=C1)C(C)(C)C)C=O',\n",
       " 'CC1=CCC2CC1C2(C)C',\n",
       " 'CC1=CC(=O)C2CC1C2(C)C',\n",
       " 'C/C=C(\\\\C)/C(=O)O',\n",
       " 'CC(=C)C(=O)OC',\n",
       " 'CC1=C(C(=O)CC1)O',\n",
       " 'CC1=C(C(=C(C(=C1[N+](=O)[O-])C(C)(C)C)[N+](=O)[O-])C)C(=O)C',\n",
       " 'CC1=C(C(=C(C(=C1[N+](=O)[O-])C(C)(C)C)[N+](=O)[O-])C)[N+](=O)[O-]',\n",
       " 'CC1=CNC2=CC=CC=C12',\n",
       " 'CC1=C(C=C(C(=C1[N+](=O)[O-])OC)C(C)(C)C)[N+](=O)[O-]',\n",
       " 'CNC1=CC=CC=C1C(=O)OC',\n",
       " 'COC1=CC=CC=C1C2=CC=CC=C2',\n",
       " 'CCOC1=CC2=C(C=C1)C(=CC(=O)O2)C',\n",
       " 'CC(C)COC(=O)C1=CC=CC=C1O',\n",
       " 'CC(C)CCOC(=O)C1=CC=CC=C1O',\n",
       " 'C1=CC=C(C=C1)CCOC(=O)C2=CC=CC=C2O',\n",
       " 'CCOC(=O)C1=CC=CC=C1N',\n",
       " 'C1C2=CC=CC=C2C(=O)O1',\n",
       " 'C/C/1=C\\\\CCC(=C)[C@H]2CC([C@@H]2CC1)(C)C',\n",
       " 'CCC(=O)OC1=C(CCC1=O)C',\n",
       " 'CCOC(=O)[C@@H]([C@H](C(=O)OCC)O)O',\n",
       " 'CCC(CC)C(=O)O',\n",
       " 'C1=COC(=C1)C(=O)O',\n",
       " 'CC(=O)C1=CC=CS1',\n",
       " 'CCC1=CC2=C(C=C1C(=O)C)C(CCC2(C)C)(C)C',\n",
       " 'CC(=O)OC1CCCCC1C(C)(C)C',\n",
       " 'CC1=CC(=C(C=C1)C(C)(C)C)O',\n",
       " 'CC(C)C1=CC=CC=C1O',\n",
       " 'C[C@H]1CCC(=C(C)C)CC2=C1CC[C@@H]2C',\n",
       " 'CC(CCCC(C)(C)O)CC=NC1=CC=CC=C1C(=O)OC',\n",
       " 'C[C@@H]1CC[C@H]([C@@H](C1)OC(=O)CC(C)C)C(C)C',\n",
       " 'CC1CCC(C(C1)OC(=O)C)C(C)C',\n",
       " 'CC1=CC=CC=C1C(=O)OC',\n",
       " 'CC1=CC(=C(C=C1)C(=O)C)C',\n",
       " 'CC1CCC(C(C1)O)C(C)C',\n",
       " 'C[C@@H]1CC[C@H]([C@@H](C1)O)C(=C)C',\n",
       " 'C[C@@H]1CC[C@H](C(=O)C1)C(C)C',\n",
       " 'CC1=CC(=O)C(CC1)C(C)C',\n",
       " 'C[C@@H]1CCC(=C(C)C)C(=O)C1',\n",
       " 'CC1=CC(=C(C=C1)C(C)C)O',\n",
       " 'CC1CC(C=C(C2C1CC(=C(C)C)C2)C)O',\n",
       " 'CCC1=CC=CC=C1O',\n",
       " 'C1=CC=C(C(=C1)C=O)O',\n",
       " 'COC1=CC=CC=C1O',\n",
       " 'CC1=CC=CC2=CC=CC=C12',\n",
       " 'CC(=O)OC(C1=CC=CC=C1)C(Cl)(Cl)Cl',\n",
       " 'C1CCC(CC1)C2CCCCC2=O',\n",
       " 'CC(C1=CC=CC=C1)C(OC)OC',\n",
       " 'C1=CC=C(C=C1)C(C2=CC=CC=C2)O',\n",
       " 'C1=CC=C(C=C1)C(=O)C2=CC=CC=N2',\n",
       " 'COC1=C(C(=CC=C1)OC)O',\n",
       " 'COC1=CC=CC=C1OC',\n",
       " 'C1=CC=C2C(=C1)N=CC=N2',\n",
       " 'C1=CC=C2C=CC=CC2=C1',\n",
       " 'C1=CC=C2C(=C1)C=CC=N2',\n",
       " 'CC(C)C1=CC=C(C=C1)CC(C)C=NC2=CC=CC=C2C(=O)OC',\n",
       " 'CC(CC1=CC=C(C=C1)C(C)(C)C)C=NC2=CC=CC=C2C(=O)OC',\n",
       " 'CC1=CC2=CC=CC=C2C=C1',\n",
       " 'C1=CC=C2C=C(C=CC2=C1)S',\n",
       " 'CC1=CC2=C(C=C1)NCCC2',\n",
       " 'CC1=CC2=C(C=C1)N=CC=C2',\n",
       " 'C1=CC=C2C(=C1)C=CC(=O)O2',\n",
       " 'CCCCC/C(=C\\\\C1=CC=CC=C1)/C(OC)OC',\n",
       " 'CC1=CC2=C(C=C1)OC(=O)C=C2',\n",
       " 'C1=CC=C(C=C1)C2=CC=CC=C2',\n",
       " 'C1CCC(CC1)C2CCC(=O)CC2',\n",
       " 'COC1=CC2=CC=CC=C2C=C1',\n",
       " 'CC(=O)C1=CC2=CC=CC=C2C=C1',\n",
       " 'COC1=C(C=C(C=C1)CC=C)OC',\n",
       " 'C/C=C/C1=CC(=C(C=C1)OC)OC',\n",
       " 'CCOC1=CC2=CC=CC=C2C=C1',\n",
       " 'CC(C)CC1=NC2=CC=CC=C2C=C1',\n",
       " 'CC(=O)OC1=C(C=C(C=C1)CC=C)OC',\n",
       " 'C/C=C/C1=CC(=C(C=C1)OC(=O)C)OC',\n",
       " 'CC1=CC(=C(C=C1)O)OC',\n",
       " 'CC(C=O)C1=CC=CC=C1',\n",
       " 'CCC(C1=CC=CC=C1)O',\n",
       " 'CCC(=O)C1=CC=CC=C1',\n",
       " 'COC(=O)C1=CC=CC=C1',\n",
       " 'COC(=O)C1=CN=CC=C1',\n",
       " 'CCOC(=O)C1=CC=CC=C1',\n",
       " 'CC(=O)CC(=O)C1=CC=CC=C1',\n",
       " 'CC(C1=CC=CC=C1)OC(=O)C',\n",
       " 'CCOC(=O)CC(=O)C1=CC=CC=C1',\n",
       " 'CCCOC(=O)C1=CC=C(C=C1)O',\n",
       " 'CCOC(=O)C1=CC=C(C=C1)OC',\n",
       " 'CC(C)CCOC(=O)C1=CC=CC=C1',\n",
       " 'C1=CC=C(C=C1)CCOC(=O)C2=CC=CC=C2',\n",
       " 'CC(=CCC/C(=C/COC(=O)C1=CC=CC=C1)/C)C',\n",
       " 'CCCCCCCCOC(=O)C1=CC=CC=C1',\n",
       " 'CCCC1=CC2=C(C=C1)OCO2',\n",
       " 'C=CCC1=CC2=C(C=C1)OCO2',\n",
       " 'C1CCN(CC1)C(=O)/C=C/C=C/C2=CC3=C(C=C2)OCO3',\n",
       " 'CCOC1=C(C=C(C=C1)/C=C/C)O',\n",
       " 'C1=CC=C2C(=C1)C=CS2',\n",
       " 'C1=CC=C2C(=C1)N=CS2',\n",
       " 'CC1=CC2=CC=CC=C2N1',\n",
       " 'CC1=NC2=CC=CC=C2O1',\n",
       " 'CCCCCCC1=CCCC1=O',\n",
       " 'CC1=CC=CC=C1O',\n",
       " 'CC1=C(C=C(C=C1)O)C',\n",
       " 'CC1=CC(=C(C=C1)C)O',\n",
       " 'CCCCC(=O)C(=O)C',\n",
       " 'CC12CCC(CC1O2)C3(CO3)C',\n",
       " 'CCC(C)C=O',\n",
       " 'CCC(=O)CC',\n",
       " 'C(C(=O)CO)O',\n",
       " 'C1CC(=O)OC1',\n",
       " 'CN1C=CC=C1',\n",
       " 'CCOC(=O)C1C(C1(C)C)C=C(C)C',\n",
       " 'CC1=CCC(CC1OC(=O)C)C(=C)C',\n",
       " 'CCC(=O)OC1CC(CC=C1C)C(=C)C',\n",
       " 'COC1=C(C=CC(=C1)CC=C)O',\n",
       " 'C/C=C/C1=CC(=C(C=C1)O)OC',\n",
       " 'CCCC(C)C(=O)O',\n",
       " 'CCOC(=O)C(C)C',\n",
       " 'CCOC(=O)C(=C)C',\n",
       " 'CCOC(=O)C(C)O',\n",
       " 'CC(C)COC(=O)C(C)C',\n",
       " 'CCCCOC(=O)C(C)C',\n",
       " 'CC(C)C(=O)OCCC(C)CCC=C(C)C',\n",
       " 'CCC(CC)CO',\n",
       " 'CCC(CC)C=O',\n",
       " 'C1CC(OC1)CO',\n",
       " 'C1=COC(=C1)CO',\n",
       " 'C1=COC(=C1)C=O',\n",
       " 'C1=COC(=C1)CS',\n",
       " 'C1=CSC(=C1)C=O',\n",
       " 'CC(C)(C)C1CCC(CC1)O',\n",
       " 'CC(C)(C)C1CCC(=O)CC1',\n",
       " 'CC(C)(C)C1=CC=C(C=C1)O',\n",
       " 'CC1=CCC(CC1)C(C)(C)O',\n",
       " 'CC(C1=CC=CC=C1)O',\n",
       " 'CC(=O)C1=CC=CC=C1',\n",
       " 'C1CCC(CC1)C(=O)O',\n",
       " 'CC1=CCC(CC1O)C(=C)C',\n",
       " 'CC1=CCC(CC1=O)C(=C)C',\n",
       " 'C1=CC(=C(C=C1C(=O)O)O)O',\n",
       " 'CC1=CC=C(C=C1)C(C)C=O',\n",
       " 'CC1=CC=C(C=C1)C(=O)OC',\n",
       " 'CC1=CCC(C=C1)C(C)C',\n",
       " 'CC1=CCC(=CC1)C(C)C',\n",
       " 'CC1=CC=C(CC1)C(C)C',\n",
       " 'CC1=CC=C(C=C1)C(C)C',\n",
       " 'CC(C)C1=CC=C(C=C1)O',\n",
       " 'CC(=O)C1=CC=C(C=C1)Cl',\n",
       " 'CC(=O)C1=CC=C(C=C1)O',\n",
       " 'C1=CC(=CC=C1C(=O)O)O',\n",
       " 'CC(=O)C1=CC=C(C=C1)OC',\n",
       " 'COC1=CC=C(C=C1)C(=O)O',\n",
       " 'C=CC1=CC=CC=C1',\n",
       " 'C1=CC=C(C=C1)CO',\n",
       " 'C1=CC=C(C=C1)C=O',\n",
       " 'C1=CC=C(C=C1)CS',\n",
       " 'C1=CC(=CN=C1)CO',\n",
       " 'COC1=CC=CC=C1',\n",
       " 'CSC1=CC=CC=C1',\n",
       " 'C=CC1=CC=CC=N1',\n",
       " 'CCC1=CC=CC=N1',\n",
       " 'CC1=CC(=CC=C1)OC',\n",
       " 'CC(C)(CC1=CC=CC=C1)O',\n",
       " 'C/C(=C\\\\C1=CC=CC=C1)/C=O',\n",
       " 'COC(=O)CC1=CC=CC=C1',\n",
       " 'COC(CC1=CC=CC=C1)OC',\n",
       " 'C1COC(O1)CC2=CC=CC=C2',\n",
       " 'C1=CC=C(C=C1)CC2=CC=CC=C2',\n",
       " 'C1=CC=C(C=C1)CC2=CC=CC=N2',\n",
       " 'C1=CC=C(C=C1)OC2=CC=CC=C2',\n",
       " 'CCCCC/C(=C/C1=CC=CC=C1)/CO',\n",
       " 'CCCCCC/C(=C\\\\C1=CC=CC=C1)/C=O',\n",
       " 'CC1=CC=C(C=C1)OC(=O)CC2=CC=CC=C2',\n",
       " 'CCOC(=O)CC1=CC=CC=C1',\n",
       " 'C1=CC=C(C=C1)CC(=O)CC2=CC=CC=C2',\n",
       " 'CC(C)COC(=O)CC1=CC=CC=C1',\n",
       " 'C1=CC=C(C=C1)CC(=O)OCC2=CC=CC=C2',\n",
       " 'COC1=CC=C(C=C1)COC(=O)CC2=CC=CC=C2',\n",
       " 'CC(C)CCOC(=O)CC1=CC=CC=C1',\n",
       " 'C1=CC=C(C=C1)CCOC(=O)CC2=CC=CC=C2',\n",
       " 'CC(=CCC/C(=C/COC(=O)CC1=CC=CC=C1)/C)C',\n",
       " 'CCCN(CCC)CCC',\n",
       " 'CC(=O)OCC(COC(=O)C)OC(=O)C',\n",
       " 'CC(C)(CCC1=CC=CC=C1)O',\n",
       " 'CC(=O)OC(C)(C)CCC1=CC=CC=C1',\n",
       " 'CCCCC(CC)COC(=O)C',\n",
       " 'CC(C)C(=O)C=CC1=CC=C(C=C1)OC',\n",
       " 'COC(=O)CCC1=CC=CC=C1',\n",
       " 'COC(=O)/C=C/C1=CC=CC=C1',\n",
       " 'CC(C)C(=O)OCC1=CC=CC=C1',\n",
       " 'CCOC(=O)/C=C/C1=CC=CC=C1',\n",
       " 'CCCC(=O)OCC1=CC=CC=C1',\n",
       " 'CC(C)CC(=O)OCC1=CC=CC=C1',\n",
       " 'C1=CC=C(C=C1)COC(=O)/C=C/C2=CC=CC=C2',\n",
       " 'CC(=O)OCCC1=CC=CC=C1',\n",
       " 'CC(C)C(=O)OCCC1=CC=CC=C1',\n",
       " 'C1=CC=C(C=C1)COCC2=CC=CC=C2',\n",
       " 'CCCC(=O)OCCC1=CC=CC=C1',\n",
       " 'C1=CC=C(C=C1)CCOC(=O)/C=C/C2=CC=CC=C2',\n",
       " 'CC(=O)OC/C=C/C1=CC=CC=C1',\n",
       " 'CCC(=O)OC/C=C/C1=CC=CC=C1',\n",
       " 'CC(C)C(=O)OCCCC1=CC=CC=C1',\n",
       " 'CC(C)C(=O)OC/C=C/C1=CC=CC=C1',\n",
       " 'CC(C)C(=O)OCCOC1=CC=CC=C1',\n",
       " 'CCCC(=O)OC/C=C/C1=CC=CC=C1',\n",
       " 'C1=CC=C(C=C1)/C=C/Br',\n",
       " 'C1=CC=NC(=C1)CCO',\n",
       " 'CC(=O)CC1=CC=CC=C1',\n",
       " 'C1=CC=C(C=C1)CC(=O)O',\n",
       " 'CC1=CC=C(C=C1)OC(=O)C(C)C',\n",
       " 'CC(C)C1=CC=C(C=C1)CC(C)C=O',\n",
       " 'CC1=CC=C(C=C1)CC=O',\n",
       " 'CC(=O)CCC1=CC=C(C=C1)OC',\n",
       " 'CC(=O)OCC1=CC=C(C=C1)OC',\n",
       " 'CCC(=O)/C=C/C1=CC=C(C=C1)OC',\n",
       " 'CCCC1=CC=C(C=C1)OC',\n",
       " 'C/C=C/C1=CC=C(C=C1)OC',\n",
       " 'CCCCC1CCC(=O)O1',\n",
       " 'C1=CC=C(C=C1)CCC=O',\n",
       " 'C1=CC=C(C=C1)/C=C/CO',\n",
       " 'C1=CC=C(C=C1)/C=C/C=O',\n",
       " 'C1=CC=C(C=C1)COC=O',\n",
       " 'CCCCCC1CCC(=O)O1',\n",
       " 'C1=CC=C(C=C1)CCOC=O',\n",
       " 'C1=CC=C(C=C1)CCCOC=O',\n",
       " 'C1=CC=C(C=C1)/C=C/COC=O',\n",
       " 'CCCCCCCC1CCC(=O)O1',\n",
       " 'CCCCC(CC)CO',\n",
       " 'CC1=CC=C(C=C1)C=O',\n",
       " 'CCC1=CN=C(C=C1)C',\n",
       " 'CC1=CC=C(C=C1)OC',\n",
       " 'CC(C)COC(=O)CCC1=CC=CO1',\n",
       " 'COC1=CC=C(C=C1)CO',\n",
       " 'CCCC1CCC(=O)O1',\n",
       " 'CCC(=O)OCC',\n",
       " 'CCC(C)CC(=O)O',\n",
       " 'CC(=O)CC(=O)OC',\n",
       " 'CCC(C)OC(=O)C',\n",
       " 'CCOC(=O)CC(=O)OCC',\n",
       " 'CCCC(=O)OCC',\n",
       " 'CCOC(C)OCC',\n",
       " 'CCCC(=O)OCCC',\n",
       " 'CC1=CC(=C(C=C1)O)C',\n",
       " 'CCC(=O)OCCC(C)C',\n",
       " 'CCCCCC(=O)OCC(C)C',\n",
       " 'CCCOC(C)OCCC',\n",
       " 'CC(CCC=C(C)C)CCOC=O',\n",
       " 'CC(=CCC/C(=C/COC=O)/C)C',\n",
       " 'CC(=CCC/C(=C/COC(=O)C)/C)C',\n",
       " 'CCC(=O)OCCC(C)CCCC(=C)C',\n",
       " 'CCC(=O)OC/C=C(\\\\C)/CCC=C(C)C',\n",
       " 'CCC(=O)OC/C=C(/C)\\\\CCC=C(C)C',\n",
       " 'C1CCCCCC(=O)OCCOC(=O)CCCCC1',\n",
       " 'C1CCCCCCCOC(=O)CCCCCC1',\n",
       " 'CCCCCCCCCCCC(=O)OCCCC',\n",
       " 'CC(C)CCCC(C)CCO',\n",
       " 'CC(CCC=C(C)C)CCO',\n",
       " 'CC(CCC=C(C)C)CC=O',\n",
       " 'CC(=CCC/C(=C/CO)/C)C',\n",
       " 'CC(=CCC/C(=C\\\\CO)/C)C',\n",
       " 'CC(=CCC/C(=C\\\\C=O)/C)C',\n",
       " 'CCCC(=O)OCCC(C)C',\n",
       " 'CC(=CCC/C(=C/CC/C(=C/CO)/C)/C)C',\n",
       " 'CCCC(=O)OC/C=C(\\\\C)/CCC=C(C)C',\n",
       " 'CCCCCCC(=O)OCC',\n",
       " 'CCCCCCCC(=O)OCC',\n",
       " 'CCCCCCCCCCCC(=O)OCC',\n",
       " 'CCCCC(=O)CC',\n",
       " 'CCCOC(=O)CC',\n",
       " 'CC1=CC=C(C=C1)O',\n",
       " 'CC1=CC=C(C=C1)S',\n",
       " 'COC(=O)CCC(=O)OC',\n",
       " 'CCCCCC(=O)CC',\n",
       " 'CCCCCC(=O)OC',\n",
       " 'CC(CCC=C(C)C)C=O',\n",
       " 'CCCCCCC(=O)OC',\n",
       " 'C=CC=O',\n",
       " 'CCCS',\n",
       " 'C=CCO',\n",
       " 'C#CCO',\n",
       " 'COC=O',\n",
       " 'CC(CCCC(C)(C)O)CCO',\n",
       " 'CC(CCCC(C)(C)O)CC=O',\n",
       " 'CC(C)CCN',\n",
       " 'CC(=CC=O)C',\n",
       " 'CCCC(=O)C',\n",
       " 'CCCC(=O)O',\n",
       " 'C/C=C/C(=O)O',\n",
       " 'C(CN)C(=O)O',\n",
       " 'CC(C)CC(=O)C',\n",
       " 'CC(C)CC(C)O',\n",
       " 'CC(C)OC(=O)C',\n",
       " 'CC(=C)OC(=O)C',\n",
       " 'CC1CCC(=O)O1',\n",
       " 'CC1=CC(=CC=C1)O',\n",
       " 'CC1=CC(=CC=C1)S',\n",
       " 'C1=CC(=CC(=C1)O)O',\n",
       " 'CC1=CC(=NC=C1)C',\n",
       " 'CC1=NC(=CC=C1)C',\n",
       " 'CC1=CN=CC(=N1)C',\n",
       " 'CCOC(=O)CC(C)C',\n",
       " 'CC1=CC(=CC(=C1)O)C',\n",
       " 'CC(C)CC(CC(C)C)O',\n",
       " 'CC(C)CC(=O)CC(C)C',\n",
       " 'CC(C)CC(C)OC(=O)C',\n",
       " 'CC1=CC=NC=C1',\n",
       " 'C1CCC(CC1)O',\n",
       " 'C1CCC(=O)CC1',\n",
       " 'C1=CC=C(C=C1)O',\n",
       " 'C1=CC=C(C=C1)S',\n",
       " 'CC1=CN=CC=C1',\n",
       " 'CC1CCCCN1',\n",
       " 'CC1=CC=CC=N1',\n",
       " 'CC1=NC=CN=C1',\n",
       " 'CCCCCCCCOC(=O)C(C)C',\n",
       " 'CCCCOC(=O)CC(C)C',\n",
       " 'CC(C)CC(=O)OC/C=C(\\\\C)/CCC=C(C)C',\n",
       " 'CCCCOC(=O)CCC',\n",
       " 'CCCCCCC(=O)OCCC(C)C',\n",
       " 'C1CCCCCCCC(=O)OCCCCCCC1',\n",
       " 'CCCCOC(=O)CCCCCCCCC=C',\n",
       " 'CCCCOC(=O)CCCCCCCCC(=O)OCCCC',\n",
       " 'CC(=O)CCC=C',\n",
       " 'CCCCC(=O)O',\n",
       " 'CCCOC(=O)C',\n",
       " 'CCCCN',\n",
       " 'CCCCS',\n",
       " 'C(CS)CS',\n",
       " 'CCNCC',\n",
       " 'CCOC=O',\n",
       " 'CCON=O',\n",
       " 'C1=CNC=C1',\n",
       " 'C1CCSC1',\n",
       " 'C1=CSC=C1',\n",
       " 'CC(C)COC(=O)C',\n",
       " 'CCCCCCCCCCCCCC(=O)OCCCC',\n",
       " 'CCCCCCCCCC(=O)OCC',\n",
       " 'CCCCCCCCOC(=O)CCC',\n",
       " 'CCOC(=O)CCCCCCCCC(=O)OCC',\n",
       " 'CCCCCCCCCC(C)C=O',\n",
       " 'CCCCCCCCCC(=O)OC',\n",
       " 'CCCCCC(=O)C',\n",
       " 'CC(C)CCOC=O',\n",
       " 'CCCCCN',\n",
       " 'CCCCC=O',\n",
       " 'CCCCCS',\n",
       " 'CCCOC=O',\n",
       " 'CCSCCO',\n",
       " 'CCSSCC',\n",
       " 'C1CNCCN1',\n",
       " 'C1=CC=NC=C1',\n",
       " 'C1CCNCC1',\n",
       " 'CC(=CCCC(=O)C)C',\n",
       " 'CCCCCCCC(=O)OC',\n",
       " 'CCCCCC#CC(=O)OC',\n",
       " 'CCCCCCC(=O)C',\n",
       " 'CCCCCCC(=O)O',\n",
       " 'CCCCCCN',\n",
       " 'CCCCCCO',\n",
       " 'C/C=C/C=C/CO',\n",
       " 'CCCCCCS',\n",
       " 'CCCSCCC',\n",
       " 'CC(=O)OCCOC(=O)C',\n",
       " 'CCCCCCCC/C=C\\\\CCCCCCCC(=O)OCC',\n",
       " 'CCCCCCCO',\n",
       " 'CCCCCCC=O',\n",
       " 'CCCCCC/C=C/C(=O)OC',\n",
       " 'CCCCCCC#CC(=O)OC',\n",
       " 'COC(=O)CCCCCCCCC=C',\n",
       " 'CCCCCCCCCCCC(=O)OC',\n",
       " 'CCCCCCCCO',\n",
       " 'CCCCCCCCC(=O)O',\n",
       " 'CCCCCCCOC(=O)C',\n",
       " 'CCCCCCCCCC(=O)C',\n",
       " 'CCCCCCCCOC(=O)C',\n",
       " 'CCCCCCCCCCOC(=O)C',\n",
       " 'CC(=O)OCCCCCCCCCC=C',\n",
       " 'CCCCCCCOC=O',\n",
       " 'CCCCCCCCCCO',\n",
       " 'CCCCCCCCCC=O',\n",
       " 'CCCCCCCCOC=O',\n",
       " 'CCCCCCCCCCC(=O)O',\n",
       " 'CCCCCCCCCCCCCCCC(=O)OC',\n",
       " 'CCCCCCCCCCCO',\n",
       " 'C=CCCCCCCCCCO',\n",
       " 'CCCCCCCCCCC=O',\n",
       " 'C=CCCCCCCCCC=O',\n",
       " 'CCCCCCCCCCCCO',\n",
       " 'CCCCCCCCCCCC=O',\n",
       " 'CCCCCCCCCCCCS',\n",
       " 'CCCCCCCCCCCCCCCCCC(=O)OC',\n",
       " 'CCCCC/C=C\\\\C/C=C\\\\CCCCCCCC(=O)OC',\n",
       " 'CCCCCCCCCCCCOC(=O)C',\n",
       " 'CCCCCCCCCCCCCCO',\n",
       " 'CCCCCCCC/C=C\\\\CCCCCCCC(=O)O',\n",
       " 'CC(C)(C=C)O',\n",
       " 'C/C(=C/CC[C@@]1(C2C[C@H]3C1([C@H]3C2)C)C)/CO',\n",
       " 'CC(=CCCC(C)(C=C)OC(=O)C)C',\n",
       " 'CC(=CCCC(C)(C=C)OC=O)C',\n",
       " 'CC1CC(CC(C1)(C)C)O',\n",
       " 'CC(=O)CO',\n",
       " 'CC1=C(C(CC=C1)(C)C)C=O',\n",
       " 'CCC(C)C(=O)O',\n",
       " 'CC1=C(C=C2C(=C1[N+](=O)[O-])C(CC2(C)C)(C)C)[N+](=O)[O-]',\n",
       " 'CC1CC(C=C(C2C1CC(=C(C)C)C2)C)OC(=O)C',\n",
       " 'C1=CC=C(C=C1)OC(=O)C2=CC=CC=C2O',\n",
       " 'C1=CC=C(C=C1)COC(=O)C2=CC=CC=C2O',\n",
       " 'CCCCC(CC)COC(=O)C1=CC=CC=C1O',\n",
       " 'CCOC(=O)C1=CC=CC=C1O',\n",
       " 'C/C/1=C/CCC(=C)[C@H]2CC([C@@H]2CC1)(C)C',\n",
       " 'CC1=C(C(=O)C=CO1)O',\n",
       " 'CC1=C(C(=CC=C1)C)S',\n",
       " 'CC(=O)C1=CC=CC=C1O',\n",
       " 'COC(=O)C1=CC=CC=C1O',\n",
       " 'C1=CC=C(C=C1)C(C(=O)C2=CC=CC=C2)O',\n",
       " 'C1=CC=C(C=C1)C(=O)C2=CC=CC=C2',\n",
       " 'C1=CC=C2C=NC=CC2=C1',\n",
       " 'C1CC(=O)OC2=CC=CC=C21',\n",
       " 'C/C=C/C1=CC(=C(C=C1)OCC2=CC=CC=C2)OC',\n",
       " 'COC1=C(C=C(C=C1)C=O)OC',\n",
       " 'C/C=C/C1=CC(=C(C=C1)OC(=O)CC2=CC=CC=C2)OC',\n",
       " 'CCOC1=C(C=C(C=C1)C=O)OC',\n",
       " 'CCC(=O)OC(C)C1=CC=CC=C1',\n",
       " 'CC(C)COC(=O)C1=CC=CC=C1',\n",
       " 'C1=CC=C(C=C1)COC(=O)C2=CC=CC=C2',\n",
       " 'C1OC2=C(O1)C=C(C=C2)C=O',\n",
       " 'C/C=C/C1=CC2=C(C=C1)OCO2',\n",
       " 'C1=CC=C2C(=C1)C=CN2',\n",
       " 'C1C2CC(C1C=C2)C(=O)O',\n",
       " 'CCOC1=C(C=CC(=C1)C=O)O',\n",
       " 'COC1=C(C=CC(=C1)C=O)O',\n",
       " 'COC1=C(C=CC(=C1)C(=O)O)O',\n",
       " 'CCOC(=O)C1C(O1)C2=CC=CC=C2',\n",
       " 'CCN(CC)CC',\n",
       " 'CCC(=O)C1=CC=C(C=C1)OC',\n",
       " 'COC1=CC=C(C=C1)C(=O)OC',\n",
       " 'CC1=CC=C(C=C1)C(=O)C',\n",
       " 'CC(C)C1=CC=C(C=C1)C=O',\n",
       " 'CCCCC/C(=C/C1=CC=CC=C1)/C=O',\n",
       " 'CCCCOC(=O)CC1=CC=CC=C1',\n",
       " 'C1=CC=C(C=C1)CCCOC(=O)CC2=CC=CC=C2',\n",
       " 'CCCCCCCCOC(=O)CC1=CC=CC=C1',\n",
       " 'CC1=CC(=CC=C1)OC(=O)C',\n",
       " 'CC(=O)CCC1=CC(=C(C=C1)O)OC',\n",
       " 'CC(=O)/C=C/C1=CC=CC=C1',\n",
       " 'C1=CC=C(C=C1)OCC(=O)O',\n",
       " 'CCC(=O)OCC1=CC=CC=C1',\n",
       " 'CC(C)COC(=O)/C=C/C1=CC=CC=C1',\n",
       " 'C1=CC=C(C=C1)CCCOC(=O)/C=C/C2=CC=CC=C2',\n",
       " 'C1=CC=C(C=C1)/C=C/COC(=O)/C=C/C2=CC=CC=C2',\n",
       " 'CCC(=O)OCCC1=CC=CC=C1',\n",
       " 'CC(=O)OCCCC1=CC=CC=C1',\n",
       " 'CC(C)CCOCC1=CC=CC=C1',\n",
       " 'CCC(=O)OCCCC1=CC=CC=C1',\n",
       " 'C1=CC=C(C=C1)CC=O',\n",
       " 'CC(=O)OC1=CC=CC=C1',\n",
       " 'CC(=O)CC1=CC=C(C=C1)OC',\n",
       " 'COC1=CC=C(C=C1)COC=O',\n",
       " 'C1=CC=C(C=C1)CCCO',\n",
       " 'C1=CC=C(C=C1)OCCO',\n",
       " 'CCC1=CC=C(C=C1)O',\n",
       " 'C1=CC(=CC=C1C=O)O',\n",
       " 'COC1=CC=C(C=C1)C=O',\n",
       " 'CCCC(C)C=O',\n",
       " 'CCCC(=O)CCC',\n",
       " 'CCOC(=O)CCC(=O)OCC',\n",
       " 'CCCCCCCCC(=O)OCC',\n",
       " 'CC1=CN=C(C=N1)C',\n",
       " 'CC(=CCCC(=C)C=C)C',\n",
       " 'CCC=O',\n",
       " 'CC(C)CCO',\n",
       " 'CCCCCC(=O)OCC',\n",
       " 'CCCCCC(=O)OCC=C',\n",
       " 'C1CCCCOC(=O)CCCCC/C=C\\\\CCC1',\n",
       " 'CCCC=O',\n",
       " 'C1CCNC1',\n",
       " 'CC(=O)CCC(=O)O',\n",
       " 'CCCCOC(=O)C',\n",
       " 'CC(C)CCOC(=O)C',\n",
       " 'CCCCCCCCCCCCCCCCCC(=O)OCC(CO)O',\n",
       " 'CCCCCCCCCCCCCCCCCC(=O)OCCCC',\n",
       " 'CCCCCCC(C)O',\n",
       " 'CCCCCCCCCCCCCC(=O)OCC',\n",
       " 'CCCCCCCC(=O)O',\n",
       " 'CCCCCCCCCCCCCC(=O)OC',\n",
       " 'CCCCCCCC#N',\n",
       " 'CCCCCCCC=O',\n",
       " 'CCCCCCCCC=O',\n",
       " 'CCCCCCCCCCCCCC=O',\n",
       " 'C[C@@]12CC[C@@H](C1(C)C)C[C@H]2O',\n",
       " 'CC(=O)O[C@H]1C[C@@H]2CC[C@]1(C2(C)C)C',\n",
       " 'CC(=CCCC(C)(C=C)OC(=O)C1=CC=CC=C1)C',\n",
       " 'CC(=CCC[C@@](C)(C=C)O)C',\n",
       " 'CC(=CCC[C@](C)(C=C)O)C',\n",
       " 'CC(=O)C(=O)O',\n",
       " 'CC1=CCCC(C1/C=C/C(=O)C)(C)C',\n",
       " 'CCC(=O)/C=C/[C@H]1C(=CCCC1(C)C)C',\n",
       " 'CCC(=O)/C=C/C1=C(CCCC1(C)C)C',\n",
       " 'CC1=CCCC(C1/C=C(\\\\C)/C(=O)C)(C)C',\n",
       " 'CC1(C2CCC(=C)C1C2)C',\n",
       " 'CC1=CC(=C(C(=C1)C(C)(C)C)O)C(C)(C)C',\n",
       " 'CC1(C2CC=C(C1C2)CCO)C',\n",
       " 'CC(=O)OCCC1=CCC2CC1C2(C)C',\n",
       " 'C1=CC=C(C=C1)CCOC(=O)C2=CC=CC=C2N',\n",
       " 'CC1CCC(C(C1)OC(=O)C2=CC=CC=C2N)C(C)C',\n",
       " 'COC(=O)C1=CC=CC=C1N',\n",
       " 'C[C@H]1CC[C@H](CC2=C1CC[C@@H]2C)C(C)(C)OC(=O)C',\n",
       " 'COC1=CC(=CC(=C1O)OC)C=O',\n",
       " 'COC1=CC=CC=C1C=O',\n",
       " 'CC(C)C1=CC2=C(C=C1)N=CC=C2',\n",
       " 'CCCCOC(=O)C1=CC=CC=C1',\n",
       " 'CC1=C(SC=N1)CCO',\n",
       " 'CCCCCCCC1CCCC1=O',\n",
       " 'CC1=CC=CC=C1S',\n",
       " 'CCC(C)CO',\n",
       " 'CCCCOC(=O)C(C)O',\n",
       " 'CC(C)C(=O)OCCC(C)CCCC(=C)C',\n",
       " 'CC1=CCC(CC1)C(=C)C',\n",
       " 'CC(=C)C1CCC(CC1)(C)O',\n",
       " 'CCC(=O)OCC(COC(=O)CC)OC(=O)CC',\n",
       " 'CC(CCC=C(C)C)CCOC(=O)CC1=CC=CC=C1',\n",
       " 'C1=CC(=C(C=C1C=O)O)O',\n",
       " 'C1=CC=C(C=C1)/C=C/C(=O)O',\n",
       " 'CC(=O)OCC1=CC=CC=C1',\n",
       " 'CCCCCCCCCCCC(=O)OCC1=CC=CC=C1',\n",
       " 'CC(C)CC(=O)OCCC1=CC=CC=C1',\n",
       " 'CC(C)CC(=O)OC/C=C/C1=CC=CC=C1',\n",
       " 'CC1=CC=C(C=C1)OC(=O)C',\n",
       " 'COC1=CC=C(C=C1)CC=C',\n",
       " 'CCOC(=O)C=C',\n",
       " 'CCOC(=O)/C=C\\\\C(=O)OCC',\n",
       " 'CCCCC(=O)OCCC',\n",
       " 'CC(CCCC(=C)C)CCOC=O',\n",
       " 'CC(=CCC/C(=C/C=C/C(=O)C)/C)C',\n",
       " 'CC(CCCC(=C)C)CCOC(=O)C',\n",
       " 'CC(=CCC/C(=C\\\\COC(=O)C)/C)C',\n",
       " 'CC(CCCC(C)C=O)CCC=C(C)C',\n",
       " 'CCC(=O)OCCC(C)CCC=C(C)C',\n",
       " 'CCCC(=O)OCCC(C)CCCC(=C)C',\n",
       " 'CCCC(=O)OCCC(C)CCC=C(C)C',\n",
       " 'CC(CCCC(=C)C)CCO',\n",
       " 'CC(=CCC/C(=C/C=O)/C)C',\n",
       " 'CCOC(=O)C',\n",
       " 'CC(=CC(=O)C)C',\n",
       " 'CC(CCCC(C)(C)O)CC(OC)OC',\n",
       " 'CCOC(=O)CC(=O)C',\n",
       " 'CCCCCCC(=O)OCC=C',\n",
       " 'C(CC(=O)O)[C@@H](C(=O)[O-])N.[Na+]',\n",
       " 'CCCCCCCCOC(=O)CC',\n",
       " 'CCCCCC(=O)O',\n",
       " 'CCCCCCCC/C=C\\\\CCCCCCCC(=O)OCCCC',\n",
       " 'C/C=C/C=C/C=O',\n",
       " 'CCCCCCOC(=O)C',\n",
       " 'CCCCCCCCCCCC(=O)O',\n",
       " 'CCCCCCCCCO',\n",
       " 'CCCCCCCCCOC(=O)C',\n",
       " 'C/C=C/CCCCCCCC=O',\n",
       " 'CCC(=O)OC(C)(CCC=C(C)C)C=C',\n",
       " 'CC1=C(C(=C(C(=C1C)[N+](=O)[O-])C(C)(C)C)[N+](=O)[O-])C',\n",
       " 'C1C[C@H](NC1)C(=O)O',\n",
       " 'C1=CC=C(C=C1)CSSCC2=CC=CC=C2',\n",
       " 'COC1=CC=C(C=C1)OC',\n",
       " 'CC(CCC=C(C)C)CCOC(=O)C',\n",
       " 'C[C@@H](CCC[C@@H](C)CCC/C(=C/CO)/C)CCCC(C)C',\n",
       " 'C(CC(=O)[O-])C(=O)[O-].[Na+].[Na+]',\n",
       " 'CC(=O)OC(C)(C)CC1=CC=CC=C1',\n",
       " 'COC1=CC(=CC=C1)OC',\n",
       " 'CCC(C)CCC(C)(CC)O',\n",
       " 'C1=CC=C(C=C1)CC(=O)C(=O)O',\n",
       " 'C1=CSC=N1',\n",
       " 'C1=CN=CC=N1',\n",
       " 'CC(C(=O)O)N',\n",
       " 'CC(=O)OCC1=CC2=C(C=C1)OCO2',\n",
       " 'CCCCCCCCCC(=O)O',\n",
       " 'CCCCCCC/C=C/C(=O)O',\n",
       " 'CC(=O)C1=CN=CC=C1',\n",
       " 'CC(=CCCC(=O)C)C',\n",
       " 'CC(=O)C(=O)C',\n",
       " 'CC1=C(C(CCC1)(C)C)C=O',\n",
       " 'COC1=C(C=CC(=C1)/C=C/C=O)O',\n",
       " 'CC(=CCC/C(=C/C(=O)O)/C)C',\n",
       " 'C[C@@]12CC[C@@H](C1(C)C)C[C@@H]2O',\n",
       " 'C[C@]12CC[C@H](C1(C)C)C[C@H]2O',\n",
       " 'C[C@]12CC[C@H](C1(C)C)CC2=O',\n",
       " 'C[C@@]12CC[C@@H](C1(C)C)CC2=O',\n",
       " 'CC1(CCCC2(C3C1[C@@H](C2(CC3)C)O)C)C',\n",
       " 'CC1(C2CCC(C2)C1(C)O)C',\n",
       " 'C[C@@H]1CC[C@@H]2[C@]13CC=C([C@H](C3)C2(C)C)C',\n",
       " 'CC(C)C12CCC(O1)(CC2)C',\n",
       " 'CC1(C2CCC(O1)(CC2)C)C',\n",
       " 'C[C@@]12CCC[C@@]([C@H]1CC[C@]34[C@H]2CC[C@](C3)(C(=C)C4)O)(C)C(=O)O',\n",
       " 'CC1(C2CCC1C(=C)C2)C',\n",
       " 'CC1=C(C(CCC1)(C)C)CC=O',\n",
       " 'CC1(CC2C1CCC3(CCCC2(C3)O)C)C',\n",
       " 'C/C(=C\\\\CC[C@@H]1[C@]2(CCCC([C@@H]2CC[C@@]1(C)O)(C)C)C)/CC[C@@H]3C(=C)CCCC3(C)C',\n",
       " 'C[C@]12CCCC(=C)[C@@H]1C[C@@H](CC2)C(C)(C)O',\n",
       " 'C[C@@H]1[C@H]2C[C@H](C2(C)C)CC1=O',\n",
       " 'CC1=CC(C2CC1C2(C)C)O',\n",
       " 'C[C@]12CCCC([C@@H]3[C@H]1CC[C@@H]3C2=C)(C)C',\n",
       " 'CC1=C[C@H]2[C@@H](CC[C@@]([C@@H]2CC1)(C)O)C(C)C',\n",
       " 'CC1=C[C@H]2[C@@H](CCC(=C2CC1)C)C(C)C',\n",
       " 'CC(=CCC1=C(C=CC2=C1OC(=O)C=C2)OC)C',\n",
       " 'COC1=C(C2=C(C=C1CC=C)OCO2)OC',\n",
       " 'COC1=CC(=CC(=C1OC)OC)CC=C',\n",
       " 'CC/C=C\\\\CC1=C(CCC1=O)C',\n",
       " 'C([C@H](C([C@H](CO)O)O)O)O',\n",
       " 'C[C@@H]1CC[C@@H]2[C@@H](C2(C)C)C3=C(CCC13)C',\n",
       " 'C[C@H]1CC[C@H](CC2=C1CC[C@@H]2C)C(C)(C)O',\n",
       " 'CC1=C(C(=O)C(CC1)C(C)C)O',\n",
       " 'CC1CCC(C(C1)O)C(C)C',\n",
       " 'C[C@@H]1CC[C@@H]([C@@H](C1)O)C(C)C',\n",
       " 'CC1CCC(C(=O)C1)C(C)C',\n",
       " 'CC1=CC(=O)C(=C(C)C)CC1',\n",
       " 'CC1=CC=NC2=CC=CC=C12',\n",
       " 'C1=CSC(=C1)C2=CC=CS2',\n",
       " 'COC1=C(C=CC(=C1)C=O)O[C@H]2[C@@H]([C@H]([C@@H]([C@H](O2)CO)O)O)O',\n",
       " 'CC1CCC2=C(C1)OC=C2C',\n",
       " 'CCCC(=O)C1=CC=CC=C1',\n",
       " 'CC1=CC[C@@H](C=C1)[C@@H](C)CCC=C(C)C',\n",
       " 'CC1=CC[C@H](CC1)C(=C)CCC=C(C)C',\n",
       " 'CC1=CCC(=C(C)CCC=C(C)C)CC1',\n",
       " 'C1OC2=C(O1)C=C(C=C2)CO',\n",
       " 'CCCC(C(=O)CCC)O',\n",
       " 'CC1=CC(=C(C=C1C)O)C',\n",
       " 'C1C=CC(=O)O1',\n",
       " 'COC1=C(C=CC(=C1)CO)O',\n",
       " 'CC(=O)C1=CC(=C(C=C1)O)OC',\n",
       " 'CC1CCC(CC1)C(C)(C)O',\n",
       " 'C(/C(=C/C(=O)O)/C(=O)O)C(=O)O',\n",
       " 'CC(C)C1=CC(=O)C(=CC=C1)O',\n",
       " 'CC1CCC(OC(=O)C1)C(C)C',\n",
       " 'CC1CCC(CC1=O)C(C)C',\n",
       " 'CC1=CC[C@@H](CC1=O)C(C)C',\n",
       " 'CC1CCC(=CC1=O)C(C)C',\n",
       " 'CC1=C(C=C(C=C1)C(C)C)O',\n",
       " 'CC(C)C1CCC(=O)C=C1',\n",
       " 'COC1=C(C=C(C=C1)CC=C)O',\n",
       " 'C1=CC=C(C=C1)CCC(=O)O',\n",
       " 'C=CCC1=CC=C(C=C1)O',\n",
       " 'C1=CC(=CC=C1CCO)O',\n",
       " 'CC(CCC=C(C)C)CC(=O)O',\n",
       " 'CC(=CCC/C(=C/C/C=C(\\\\C)/C=C)/C)C',\n",
       " 'CC(C)CCCC(C)CCCC(C)CCCC(=O)C',\n",
       " 'C1CCCCCCCC(=O)CCCCCC1',\n",
       " 'CC(=C)CC/C=C(\\\\C)/C=C',\n",
       " 'CC(C)CC(=O)O',\n",
       " 'CSCCCO',\n",
       " 'C1CCSSC1',\n",
       " 'C1CSCSC1',\n",
       " 'C1CSCCS1',\n",
       " 'CC(C)CCCC(C)CCCC(C)CCCC(C)(C=C)O',\n",
       " 'CCC/C=C/C=O',\n",
       " 'CSCCCN=C=S',\n",
       " 'CCCCC/C=C\\\\CCC(=O)O',\n",
       " 'CC(=O)S',\n",
       " 'CC1(C2CCC1(C(C2)O)C)C',\n",
       " 'C[C@]12CCCC([C@@H]1CCC(=C)[C@@H]2CCC(=C)C=C)(C)C',\n",
       " 'C[C@]12CC[C@H](C1)C([C@H]2O)(C)C',\n",
       " 'CC(C)CS',\n",
       " 'CC(C(C)O)O',\n",
       " 'CC(C(=O)C)O',\n",
       " 'CC1(C2CC=C(C1C2)CO)C',\n",
       " 'C[C@]12CCCC([C@@H]1CC[C@@]([C@@H]2CC[C@](C)(C=C)O)(C)O)(C)C',\n",
       " 'CC1=CC[C@@H](CC1)[C@@](C)(CCC=C(C)C)O',\n",
       " 'CC1=CC[C@@H]2[C@@H](C1)[C@@H](CC=C2C)C(C)C',\n",
       " 'COC1=C2C(=C(C(=C1)CC=C)OC)OCO2',\n",
       " 'CC1=C(C(=CC=C1)O)C',\n",
       " 'CC1=CC(=CC(=C1C)C)O',\n",
       " 'CC1=CC(=C(C(=C1)C)O)C',\n",
       " 'CC1=CC(=O)C(CC1)C(=C)C',\n",
       " 'COC1=C(C=CC(=C1)CC=C)OC(=O)C2=CC=CC=C2',\n",
       " 'COC1=CC2=C(C=C1)C=CC(=O)O2',\n",
       " 'CC1=CC=CC=C1OC(=O)C',\n",
       " 'CC(OC)OC',\n",
       " 'CC1=CC=CO1',\n",
       " 'CC1=CC=C(C=C1)C(C)O',\n",
       " 'CC(=C)C1CCC(=CC1)CO',\n",
       " 'CC(C)C1=CC=C(C=C1)CO',\n",
       " 'CCC1=CN=CC=C1',\n",
       " 'CCCCOC(=O)/C=C/C1=CC=CC=C1',\n",
       " 'C1=CC=C(C=C1)CSCC2=CC=CC=C2',\n",
       " 'COCC1=CC=CC=C1',\n",
       " 'CCOCC1=CC=CC=C1',\n",
       " 'CCCCC(=O)OCC',\n",
       " 'CCOC(=O)CCC(=O)C',\n",
       " 'CCCC(=O)OCC(C)C',\n",
       " 'CCCCCC(=O)OCCCCC',\n",
       " 'CCCCCOC(=O)CCC',\n",
       " 'CCC(=O)OCC(C)C',\n",
       " 'C(CS)S',\n",
       " 'CC(C)CCS',\n",
       " 'CC(=CC(=O)O)C',\n",
       " 'CC1=CSC(=N1)C',\n",
       " 'CCC(C)CC(=O)CC',\n",
       " 'CC1CCCCCCCCCCCCC(=O)C1',\n",
       " 'C1CCC/C=C\\\\CCCCCCCC(=O)CCC1',\n",
       " 'CC(C)COC=O',\n",
       " 'CCN=C=S',\n",
       " 'CC(C)(CCCC(=C)C=C)O',\n",
       " 'CCCCCC(C)O',\n",
       " 'CC/C=C/CCO',\n",
       " 'CCCCC/C=C\\\\C/C=C\\\\CCCCCCCC(=O)OCC',\n",
       " 'CCCCSCCCC',\n",
       " 'CCCCCCCCCCCCCC(=O)O',\n",
       " 'CC(=CC(=O)C(C)(C)C=C)C',\n",
       " 'CC(C)C12CCC(C1C2)(C)O',\n",
       " 'C[C@@H]1[C@H]2C[C@]2(CC1=O)C(C)C',\n",
       " 'CC1([C@H]2C[C@@H]1C(=C)[C@@H](C2)O)C',\n",
       " 'CC(C)C(=O)OC',\n",
       " 'CCC/C=C\\\\1/C2=CC=CC=C2C(=O)O1',\n",
       " 'C[C@@H]1CC[C@H]2[C@@H]1[C@H]3[C@H](C3(C)C)CC[C@]2(C)O',\n",
       " 'CCC(=O)OC',\n",
       " 'CC1=CC=CS1',\n",
       " 'CC(C)C1CCC(=C)C=C1',\n",
       " 'CC(C)CC(=O)OC',\n",
       " 'CN=C=S',\n",
       " 'CC(=CCO)C',\n",
       " 'CCCOC(=O)CC(C)C',\n",
       " 'CC/C=C\\\\CC/C=C/C=O',\n",
       " 'C[C@]12CC[C@@H](C1(C)C)C[C@H]2OC(=O)C3=CC=CC=C3O',\n",
       " 'CC1=CCC(CC1)(C(C)C)O',\n",
       " 'C[C@]12CCCC([C@@H]1CC[C@@]3([C@@H]2CC(=O)O3)C)(C)C',\n",
       " 'CC1(C2CC=C(C1C2)C=O)C',\n",
       " 'C/C=C(/C)\\\\C(=O)O',\n",
       " 'CC(C)C(=O)C(C)C',\n",
       " 'CC1=CC=C(C2=CC=CC=C12)C',\n",
       " 'CC1=C2C=CC=C(C2=CC=C1)C',\n",
       " 'CC1=C(C(=CC=C1)C)O',\n",
       " 'CC1=CC=CC=C1C(=O)C',\n",
       " 'CC1=CC=CC=C1OC',\n",
       " 'CC(=O)C(=O)C1=CC=CC=C1',\n",
       " 'CC(=O)C1=CC=CC=C1OC',\n",
       " 'CC1=CC2=CC=CC=C2C=C1C',\n",
       " 'C=CCOC(=O)C1=CC=CC=C1',\n",
       " 'CCCCOC(=O)C1=CC=CO1',\n",
       " 'CC1=C(C=NC=C1)C',\n",
       " 'CC1CCCCC1=O',\n",
       " 'CC1=C(N=CC=C1)C',\n",
       " 'CCC(CC)O',\n",
       " 'CC(C)COC(=O)C(C)O',\n",
       " 'CCCCCC(=O)C(=O)C',\n",
       " 'C(/C(=C/C(=O)O)/C(=O)O)C(=O)O',\n",
       " 'C([C@@H]1[C@@H]([C@@H]([C@H]([C@@H](O1)O[C@H]([C@@H](CO)O)[C@@H]([C@H](CO)O)O)O)O)O)O',\n",
       " 'C([C@@H]1[C@H]([C@@H]([C@H]([C@H](O1)O[C@H]([C@@H](CO)O)[C@@H]([C@H](CO)O)O)O)O)O)O',\n",
       " 'CC1=CCC(=C(C)C)CC1',\n",
       " 'CC(=C1CCC(CC1)(C)O)C',\n",
       " 'CC(C)C1=CCC(CC1)(C)O',\n",
       " 'C1=CN=CC=C1CO',\n",
       " 'C1=CC=NC(=C1)CO',\n",
       " 'CCCCOCC1=CC=CC=C1',\n",
       " 'CCC(C)CCO',\n",
       " 'CCCC(=O)CC',\n",
       " 'CC(C)CC(=O)OCC(C)C',\n",
       " 'C/C=C/C(=O)OCC(C)C',\n",
       " 'CCCCCCCC(=O)OCCCC',\n",
       " 'CCCCC(CC)O',\n",
       " 'CC1CCC(=O)CC1',\n",
       " 'CC1=CN=C(C=C1)C',\n",
       " 'CCCCCC(CC)O',\n",
       " 'CCCCOC(=O)CC',\n",
       " 'CC(C)CC=O',\n",
       " 'CC1=CCC(=O)O1',\n",
       " 'CC1=CC(=CN=C1)C',\n",
       " 'CC1CCCC(C1)O',\n",
       " 'CC1CCCC(=O)C1',\n",
       " 'CC1=CCCCC1',\n",
       " 'CCCCOC(=O)CC(=O)C',\n",
       " 'CCCCC(=O)OCCCC',\n",
       " 'CCCCC(=O)C',\n",
       " 'C=CCCC(=O)O',\n",
       " 'CC(=O)COC(=O)C',\n",
       " 'CCCCN=C=S',\n",
       " 'CCCCOC=O',\n",
       " 'C=CCSCC=C',\n",
       " 'CCCCCCCCCCCC(=O)C',\n",
       " 'CC(C)C(C)O',\n",
       " 'CCC(=O)C(=O)C',\n",
       " 'CCC(=O)C(=O)O',\n",
       " 'CC(=O)OC[C@@H]1[C@H]([C@@H]([C@H]([C@H](O1)OC(=O)C)OC(=O)C)OC(=O)C)OC(=O)C',\n",
       " 'COC1=CC=CC=C1C(=O)OC',\n",
       " 'CC(C)OC(=O)C1=CC=CC=C1O',\n",
       " 'CCCOC(=O)C1=CC=CC=C1O',\n",
       " 'COC1=CC(=CC2=C1OCO2)CC=C',\n",
       " 'CCC(C(=O)C)C(=O)OCC',\n",
       " 'CC(=O)N1C=CC=C1',\n",
       " 'CCC(=O)C1=CC=CC=C1O',\n",
       " 'COC(=O)C1=CC=CO1',\n",
       " 'CC(C)C(=O)C1=CC=CC=C1',\n",
       " 'COC1=CC=CC=C1C=C',\n",
       " 'CC1=CC=C(C=C1)C2=CC=C(C=C2)C',\n",
       " 'CC(=O)OC1=CC=CC=C1OC',\n",
       " 'C1=CC=C(C=C1)CC(C2=CC=CC=C2)O',\n",
       " 'C1=CC=C(C=C1)C(=O)OCC(COC(=O)C2=CC=CC=C2)OC(=O)C3=CC=CC=C3',\n",
       " 'C1=CC=C(C=C1)/C=C/C(=O)C2=CC=CC=C2',\n",
       " 'CCOC(=O)C1=CC=CO1',\n",
       " 'CCCOC(=O)C1=CC=CO1',\n",
       " 'CC(C)CCOC(=O)C1=CC=CO1',\n",
       " 'CSC1=NC2=CC=CC=C2S1',\n",
       " 'CCCOC(=O)C(C)O',\n",
       " 'CCC(C=C)O',\n",
       " 'CCC(CC)S',\n",
       " 'CC1=CSC=C1',\n",
       " 'CC1=CC=CC=C1OC(=O)C2=CC=CC=C2O',\n",
       " 'CCOC(=O)C1=CC(=C(C=C1)O)OC',\n",
       " 'CCOC(=O)C(=O)C',\n",
       " 'CC(C)C(=O)OC(C)C',\n",
       " 'CCN1C=CC=C1',\n",
       " 'CC(C)(C1=CC=CC=C1)O',\n",
       " 'CC1CCC(CC1O)C(=C)C',\n",
       " 'CC1=CC=C(O1)C=O',\n",
       " 'CCC1=CC(=CC=C1)O',\n",
       " 'CC1=CC(=CC=C1)C=O',\n",
       " 'CCOC(=O)C(CC1=CC=CC=C1)C(=O)C',\n",
       " 'CCOC(=O)/C(=C/C1=CC=CC=C1)/C(=O)C',\n",
       " 'C1=CC=C(C=C1)/C=C/C(=O)O',\n",
       " 'CCCC1=CC=CC=N1',\n",
       " 'CC(=O)OC1CCCCC1',\n",
       " 'CCOC1=CC=C(C=C1)C',\n",
       " 'CCOC1=CC=C(C=C1)O',\n",
       " 'C1=CC=C(C=C1)CN=C=S',\n",
       " 'C1=CC(=CC=C1CO)O',\n",
       " 'CC(=O)/C=C/C1=CC=CO1',\n",
       " 'CC(=O)OCC1=CC=CO1',\n",
       " 'COC(=O)/C=C/C1=CC=CO1',\n",
       " 'CCC(=O)OCC1=CC=CO1',\n",
       " 'CCCC(=O)OCC1=CC=CO1',\n",
       " 'CCCOC(=O)C=CC1=CC=CO1',\n",
       " 'C1=COC(=C1)/C=C/C=O',\n",
       " 'CC/C=C(\\\\C)/C=O',\n",
       " 'CCCC(CC)O',\n",
       " 'CCCC(=O)OC',\n",
       " nan,\n",
       " 'CCOC(=O)/C=C/C',\n",
       " 'CC(COC(=O)C)OC(=O)C',\n",
       " 'CCCCCC(=O)CCCC(=O)O',\n",
       " 'CCCCCCCOC(=O)CCCCCC',\n",
       " 'CCCCCCCC(=O)OCCC',\n",
       " 'CCCCC(=O)OC',\n",
       " 'CCC(C)COC(=O)C',\n",
       " 'CCCCCCC(CC)O',\n",
       " 'CCCCCOC(=O)CC',\n",
       " 'CCSC',\n",
       " 'CSSC',\n",
       " 'C/C=C/C(=O)C',\n",
       " 'CC(C)OC=O',\n",
       " 'CCSC(=O)C',\n",
       " 'CC(C)SC(C)C',\n",
       " 'CC1=CC=C(O1)C',\n",
       " 'CCCC(C)OC(=O)C',\n",
       " 'CCCCCC(=O)OCCC',\n",
       " 'CCCCCC(=O)OCCCC',\n",
       " 'CCCCC(C)O',\n",
       " 'CC/C=C/C(=O)O',\n",
       " 'CCCCCCCCCCC(=O)OCC',\n",
       " 'COC(=O)CCCCC(=O)OC',\n",
       " 'CCCCCC(C)S',\n",
       " 'CCCCSC',\n",
       " 'CC(C)CCCC(=O)O',\n",
       " 'CCCCCOC(=O)C',\n",
       " 'CCCCCCCCCCCCCCCC(=O)OCC',\n",
       " 'CCCCCCCC(C)O',\n",
       " 'CCCSSCCC',\n",
       " 'CCCCCCOC=O',\n",
       " 'C(CCCC#N)CCC#N',\n",
       " 'CCCCSSCCCC',\n",
       " 'CCCCCCCCCCCCCC#N',\n",
       " 'C1CC2=CC=CC=C2NC1',\n",
       " 'C1=CSC(=C1)CO',\n",
       " 'CC(=O)OCC1CCCO1',\n",
       " 'CCC(=O)OCC1CCCO1',\n",
       " 'CCC(=O)OC(C)C',\n",
       " 'CC1=CC=C(S1)C',\n",
       " 'CCCC(=O)OC(C)C',\n",
       " 'CC1NC(SC(S1)C)C',\n",
       " 'CCCCCCCC(=O)OCCCCC',\n",
       " 'CCCCCOC=O',\n",
       " 'CCCCCCCCCCCCC(=O)O',\n",
       " 'CCCCCCCCCCCCCCOC(=O)C',\n",
       " 'CC(=C)[C@@H]1C[C@@H](CC[C@@]1(C)C=C)C(C)(C)O',\n",
       " 'CC1=CC=CC=C1C2=CC=CC=C2',\n",
       " 'CC1=CC(=CC=C1)C2=CC=CC=C2',\n",
       " 'CC1=CC=C(C=C1)C2=CC=CC=C2',\n",
       " 'C1=CC=C(C=C1)C(=O)C2=CC3=CC=CC=C3C=C2',\n",
       " 'CCCC1=CC=CC=C1O',\n",
       " 'CCCOC(=O)C(C)C',\n",
       " 'CC(C)C1=CC=CC=N1',\n",
       " 'CC(C)C1=CC=C(C=C1)C(=O)C',\n",
       " 'CCCC1=CC=C(C=C1)O',\n",
       " 'CC(C)CCC(=O)O',\n",
       " 'CC1=C(SC=N1)CCOC(=O)C',\n",
       " 'CC(C)CCOC(=O)CC(C)C',\n",
       " 'COC1=CC(=C(C=C1)C=O)O',\n",
       " 'C/C=C(\\\\C)/C=C/C=C(C)C',\n",
       " 'CC1=CC(=O)OC(=C1)C',\n",
       " 'CCCCCCC(OCC)OCC',\n",
       " 'CC(=CCC/C(=C/CCC(=O)C)/C)C',\n",
       " 'C/C=C/C=C/C(=O)OC',\n",
       " 'C/C=C\\\\C(C)C',\n",
       " 'CCOC(=O)CCCCCCCCC=C',\n",
       " 'CCCCCCCCC(=O)C',\n",
       " 'CC1=CSC=N1',\n",
       " 'CCC1CCC(=O)O1',\n",
       " 'COC1=CC=C(C=C1)S',\n",
       " 'CC1=CC(=C(C(=C1)O)C)C',\n",
       " 'CCC1C(=C(C(=O)O1)O)C',\n",
       " 'CC1=CC(=C(C=C1)C=O)O',\n",
       " 'CCCC1CCCC(=O)O1',\n",
       " 'CC(CC1=CC=CC=C1)O',\n",
       " 'CC1=CC=C(C=C1)CCO',\n",
       " 'CSSCC1=CC=CC=C1',\n",
       " 'CC(=O)CCC1=CC=CO1',\n",
       " 'CCCCCN1C=CC=C1',\n",
       " 'C1CCC2=C(C1)CCC(=O)O2',\n",
       " 'CCC(CC1=CC=CC=C1)O',\n",
       " 'CCCC(CC1=CC=CC=C1)O',\n",
       " 'CCCCCC1CCCC(=O)O1',\n",
       " 'CCCCCCC1CCC(=O)O1',\n",
       " 'CC1(COC2(CCCCC2)OC1)C',\n",
       " 'CCCCCCC1CCCC(=O)O1',\n",
       " 'CCCCCCCC1CCCC(=O)O1',\n",
       " 'CC(=CCCC(=CCCC=O)C)C',\n",
       " 'CC(=CCCC(=CCCC(=CCCC(=O)C)C)C)C',\n",
       " ...]"
      ]
     },
     "execution_count": 28,
     "metadata": {},
     "output_type": "execute_result"
    }
   ],
   "source": [
    "f = open('backup.json','r')\n",
    "L = json.load(f)\n",
    "f.close()"
   ]
  },
  {
   "cell_type": "code",
   "execution_count": 133,
   "id": "bced2eef-36e5-40d1-8f18-2e00380edc8e",
   "metadata": {},
   "outputs": [],
   "source": [
    "df_test = pd.read_csv(\"Fichiers-Sources/OdorCAS.csv\", delimiter=\"\\t\")\n",
    "CAS = list(df_test['Unnamed: 0'])\n",
    "tamp = pd.DataFrame({'CAS':CAS})\n",
    "df = pd.concat([tamp, df], axis=1)\n",
    "df.dropna(subset=df.columns[2:], inplace=True)"
   ]
  },
  {
   "cell_type": "code",
   "execution_count": 278,
   "id": "2b62eb86-d5fa-4814-92df-13475ea4f53a",
   "metadata": {},
   "outputs": [
    {
     "name": "stdout",
     "output_type": "stream",
     "text": [
      "(3841, 125)\n"
     ]
    }
   ],
   "source": [
    "df = pd.read_csv(\"Fichiers-Sources/OdorCAS.csv\", delimiter=\"\\t\")\n",
    "df.rename(columns={'Unnamed: 0': 'CAS'}, inplace=True)\n",
    "f = open('Cas_Smiles_Pubchem.json','r')\n",
    "dict_cas_smile = json.load(f)\n",
    "f.close()\n",
    "df_cas_smile = pd.DataFrame([[cle,valeur] for (cle,valeur) in dict_cas_smile.items()], columns = [\"CAS\", \"Smiles\"])\n",
    "df = df.merge(df_cas_smile, on='CAS')\n",
    "df.drop_duplicates(inplace=True)\n",
    "\n",
    "numeric_data = df.select_dtypes(include=['number'])  # Sélectionne seulement les colonnes numériques\n",
    "columns_to_keep = numeric_data.columns[numeric_data.sum(axis=0) >= 30]\n",
    "\n",
    "# Conserver les colonnes non numériques + celles qui respectent le critère\n",
    "df = df.loc[:, ['CAS','Smiles'] + list(columns_to_keep)]\n",
    "print(df.shape)\n",
    "df = df.dropna(subset=\"Smiles\")\n",
    "#df = df[df.iloc[:, 2:].sum(axis=1) > 0]\n",
    "df.to_csv('Mol_odeur.csv', index=False)\n",
    "print(df.shape)"
   ]
  },
  {
   "cell_type": "code",
   "execution_count": 252,
   "id": "a216f862-fe08-41f5-a334-2b5744a7091d",
   "metadata": {},
   "outputs": [
    {
     "name": "stdout",
     "output_type": "stream",
     "text": [
      "le nombre de descripteurs d'odeurs par molécule est de 4.588402501421262\n"
     ]
    }
   ],
   "source": [
    "df_without_dupl = df.loc[~df[\"Smiles\"].duplicated(keep=False)]\n",
    "df_without_dupl.to_csv('Mol_odeur_sans_doublons.csv', index = False)\n",
    "print(f\"le nombre de descripteurs d'odeurs par molécule est de {df_without_dupl.iloc[:,2:].sum(axis=1).mean()}\")"
   ]
  },
  {
   "cell_type": "code",
   "execution_count": 253,
   "id": "8d5e3a4f-546a-4e47-bd87-88494ff63901",
   "metadata": {},
   "outputs": [
    {
     "name": "stdout",
     "output_type": "stream",
     "text": [
      "le nombre de descripteurs d'odeurs par molécule est de 4.631850789096126\n"
     ]
    }
   ],
   "source": [
    "df_without_zeros = df_without_dupl.loc[df_without_dupl.iloc[:,2:].sum(axis=1)>0,:]\n",
    "df_without_zeros.to_csv('Mol_odeur_sans_zeros.csv')\n",
    "print(f\"le nombre de descripteurs d'odeurs par molécule est de {df_without_zeros.iloc[:,2:].sum(axis=1).mean()}\")"
   ]
  },
  {
   "cell_type": "markdown",
   "id": "7b9b4bd5-e6df-4cc2-93f7-2396c42c06d7",
   "metadata": {},
   "source": [
    "#### On visualise les labels les plus présents parmi les odeurs individuelle"
   ]
  },
  {
   "cell_type": "code",
   "execution_count": 223,
   "id": "7b5b6128-4930-44c8-b849-59350413ea96",
   "metadata": {
    "scrolled": true
   },
   "outputs": [
    {
     "data": {
      "image/png": "[encoded data removed]",
      "text/plain": [
       "<Figure size 1000x500 with 1 Axes>"
      ]
     },
     "metadata": {},
     "output_type": "display_data"
    }
   ],
   "source": [
    "Num_lab = df.iloc[:, 2:].sum(axis=0)\n",
    "\n",
    "# Sélection des 10 labels les plus grands\n",
    "top_10 = Num_lab.nlargest(25)\n",
    "plt.figure(figsize=(10, 5))\n",
    "# Création du graphique\n",
    "plt.bar(top_10.index, top_10.values)\n",
    "plt.xticks(rotation=45, ha=\"right\") \n",
    "plt.show()"
   ]
  },
  {
   "cell_type": "code",
   "execution_count": 263,
   "id": "3ba5cf2d-36e2-4756-b455-80abdc24b984",
   "metadata": {},
   "outputs": [
    {
     "data": {
      "text/html": [
       "<div>\n",
       "<style scoped>\n",
       "    .dataframe tbody tr th:only-of-type {\n",
       "        vertical-align: middle;\n",
       "    }\n",
       "\n",
       "    .dataframe tbody tr th {\n",
       "        vertical-align: top;\n",
       "    }\n",
       "\n",
       "    .dataframe thead th {\n",
       "        text-align: right;\n",
       "    }\n",
       "</style>\n",
       "<table border=\"1\" class=\"dataframe\">\n",
       "  <thead>\n",
       "    <tr style=\"text-align: right;\">\n",
       "      <th></th>\n",
       "      <th>CAS</th>\n",
       "      <th>Smiles</th>\n",
       "      <th>Agrume</th>\n",
       "      <th>Aldehyde</th>\n",
       "      <th>Alliace</th>\n",
       "      <th>Animal</th>\n",
       "      <th>Anise</th>\n",
       "      <th>Baie</th>\n",
       "      <th>Balsamique</th>\n",
       "      <th>Banane</th>\n",
       "      <th>...</th>\n",
       "      <th>santal</th>\n",
       "      <th>savon</th>\n",
       "      <th>tabac</th>\n",
       "      <th>the</th>\n",
       "      <th>tomate</th>\n",
       "      <th>vanille</th>\n",
       "      <th>vert</th>\n",
       "      <th>vetiver</th>\n",
       "      <th>vin</th>\n",
       "      <th>violette</th>\n",
       "    </tr>\n",
       "  </thead>\n",
       "  <tbody>\n",
       "    <tr>\n",
       "      <th>0</th>\n",
       "      <td>50-70-4</td>\n",
       "      <td>C([C@H]([C@H]([C@@H]([C@H](CO)O)O)O)O)O</td>\n",
       "      <td>0</td>\n",
       "      <td>0</td>\n",
       "      <td>0</td>\n",
       "      <td>0</td>\n",
       "      <td>0</td>\n",
       "      <td>0</td>\n",
       "      <td>0</td>\n",
       "      <td>0</td>\n",
       "      <td>...</td>\n",
       "      <td>0</td>\n",
       "      <td>0</td>\n",
       "      <td>0</td>\n",
       "      <td>0</td>\n",
       "      <td>0</td>\n",
       "      <td>0</td>\n",
       "      <td>0</td>\n",
       "      <td>0</td>\n",
       "      <td>0</td>\n",
       "      <td>0</td>\n",
       "    </tr>\n",
       "    <tr>\n",
       "      <th>1</th>\n",
       "      <td>51-67-2</td>\n",
       "      <td>C1=CC(=CC=C1CCN)O</td>\n",
       "      <td>0</td>\n",
       "      <td>0</td>\n",
       "      <td>0</td>\n",
       "      <td>0</td>\n",
       "      <td>0</td>\n",
       "      <td>0</td>\n",
       "      <td>0</td>\n",
       "      <td>0</td>\n",
       "      <td>...</td>\n",
       "      <td>0</td>\n",
       "      <td>0</td>\n",
       "      <td>0</td>\n",
       "      <td>0</td>\n",
       "      <td>0</td>\n",
       "      <td>0</td>\n",
       "      <td>0</td>\n",
       "      <td>0</td>\n",
       "      <td>0</td>\n",
       "      <td>0</td>\n",
       "    </tr>\n",
       "    <tr>\n",
       "      <th>2</th>\n",
       "      <td>56-12-2</td>\n",
       "      <td>C(CC(=O)O)CN</td>\n",
       "      <td>0</td>\n",
       "      <td>0</td>\n",
       "      <td>0</td>\n",
       "      <td>0</td>\n",
       "      <td>0</td>\n",
       "      <td>0</td>\n",
       "      <td>0</td>\n",
       "      <td>0</td>\n",
       "      <td>...</td>\n",
       "      <td>0</td>\n",
       "      <td>0</td>\n",
       "      <td>0</td>\n",
       "      <td>0</td>\n",
       "      <td>0</td>\n",
       "      <td>0</td>\n",
       "      <td>0</td>\n",
       "      <td>0</td>\n",
       "      <td>0</td>\n",
       "      <td>0</td>\n",
       "    </tr>\n",
       "    <tr>\n",
       "      <th>3</th>\n",
       "      <td>56-40-6</td>\n",
       "      <td>C(C(=O)O)N</td>\n",
       "      <td>0</td>\n",
       "      <td>0</td>\n",
       "      <td>0</td>\n",
       "      <td>0</td>\n",
       "      <td>0</td>\n",
       "      <td>0</td>\n",
       "      <td>0</td>\n",
       "      <td>0</td>\n",
       "      <td>...</td>\n",
       "      <td>0</td>\n",
       "      <td>0</td>\n",
       "      <td>0</td>\n",
       "      <td>0</td>\n",
       "      <td>0</td>\n",
       "      <td>0</td>\n",
       "      <td>0</td>\n",
       "      <td>0</td>\n",
       "      <td>0</td>\n",
       "      <td>0</td>\n",
       "    </tr>\n",
       "    <tr>\n",
       "      <th>4</th>\n",
       "      <td>56-41-7</td>\n",
       "      <td>C[C@@H](C(=O)O)N</td>\n",
       "      <td>0</td>\n",
       "      <td>0</td>\n",
       "      <td>0</td>\n",
       "      <td>0</td>\n",
       "      <td>0</td>\n",
       "      <td>0</td>\n",
       "      <td>0</td>\n",
       "      <td>0</td>\n",
       "      <td>...</td>\n",
       "      <td>0</td>\n",
       "      <td>0</td>\n",
       "      <td>0</td>\n",
       "      <td>0</td>\n",
       "      <td>0</td>\n",
       "      <td>0</td>\n",
       "      <td>0</td>\n",
       "      <td>0</td>\n",
       "      <td>0</td>\n",
       "      <td>0</td>\n",
       "    </tr>\n",
       "    <tr>\n",
       "      <th>...</th>\n",
       "      <td>...</td>\n",
       "      <td>...</td>\n",
       "      <td>...</td>\n",
       "      <td>...</td>\n",
       "      <td>...</td>\n",
       "      <td>...</td>\n",
       "      <td>...</td>\n",
       "      <td>...</td>\n",
       "      <td>...</td>\n",
       "      <td>...</td>\n",
       "      <td>...</td>\n",
       "      <td>...</td>\n",
       "      <td>...</td>\n",
       "      <td>...</td>\n",
       "      <td>...</td>\n",
       "      <td>...</td>\n",
       "      <td>...</td>\n",
       "      <td>...</td>\n",
       "      <td>...</td>\n",
       "      <td>...</td>\n",
       "      <td>...</td>\n",
       "    </tr>\n",
       "    <tr>\n",
       "      <th>3915</th>\n",
       "      <td>1367348-37-5</td>\n",
       "      <td>CCCCCC(CCCC(=O)OCC)OC=O</td>\n",
       "      <td>0</td>\n",
       "      <td>0</td>\n",
       "      <td>0</td>\n",
       "      <td>0</td>\n",
       "      <td>0</td>\n",
       "      <td>0</td>\n",
       "      <td>0</td>\n",
       "      <td>0</td>\n",
       "      <td>...</td>\n",
       "      <td>0</td>\n",
       "      <td>0</td>\n",
       "      <td>0</td>\n",
       "      <td>0</td>\n",
       "      <td>0</td>\n",
       "      <td>0</td>\n",
       "      <td>0</td>\n",
       "      <td>0</td>\n",
       "      <td>0</td>\n",
       "      <td>0</td>\n",
       "    </tr>\n",
       "    <tr>\n",
       "      <th>3916</th>\n",
       "      <td>1370711-06-0</td>\n",
       "      <td>CCC(C(C)C)OC(=O)/C=C/C</td>\n",
       "      <td>0</td>\n",
       "      <td>0</td>\n",
       "      <td>0</td>\n",
       "      <td>0</td>\n",
       "      <td>0</td>\n",
       "      <td>0</td>\n",
       "      <td>0</td>\n",
       "      <td>0</td>\n",
       "      <td>...</td>\n",
       "      <td>0</td>\n",
       "      <td>0</td>\n",
       "      <td>0</td>\n",
       "      <td>0</td>\n",
       "      <td>0</td>\n",
       "      <td>0</td>\n",
       "      <td>0</td>\n",
       "      <td>0</td>\n",
       "      <td>0</td>\n",
       "      <td>0</td>\n",
       "    </tr>\n",
       "    <tr>\n",
       "      <th>3917</th>\n",
       "      <td>1378867-81-2</td>\n",
       "      <td>CC(C)[C@@H]1CCC(=CC1)CCC=O</td>\n",
       "      <td>0</td>\n",
       "      <td>1</td>\n",
       "      <td>0</td>\n",
       "      <td>0</td>\n",
       "      <td>0</td>\n",
       "      <td>0</td>\n",
       "      <td>0</td>\n",
       "      <td>0</td>\n",
       "      <td>...</td>\n",
       "      <td>0</td>\n",
       "      <td>0</td>\n",
       "      <td>0</td>\n",
       "      <td>0</td>\n",
       "      <td>0</td>\n",
       "      <td>0</td>\n",
       "      <td>1</td>\n",
       "      <td>0</td>\n",
       "      <td>0</td>\n",
       "      <td>0</td>\n",
       "    </tr>\n",
       "    <tr>\n",
       "      <th>3918</th>\n",
       "      <td>1416051-88-1</td>\n",
       "      <td>CCC(C)C(=O)CC(C)S</td>\n",
       "      <td>0</td>\n",
       "      <td>0</td>\n",
       "      <td>0</td>\n",
       "      <td>0</td>\n",
       "      <td>0</td>\n",
       "      <td>0</td>\n",
       "      <td>0</td>\n",
       "      <td>0</td>\n",
       "      <td>...</td>\n",
       "      <td>0</td>\n",
       "      <td>0</td>\n",
       "      <td>0</td>\n",
       "      <td>0</td>\n",
       "      <td>0</td>\n",
       "      <td>0</td>\n",
       "      <td>0</td>\n",
       "      <td>0</td>\n",
       "      <td>0</td>\n",
       "      <td>0</td>\n",
       "    </tr>\n",
       "    <tr>\n",
       "      <th>3919</th>\n",
       "      <td>1658479-63-0</td>\n",
       "      <td>CC(C)C1CCC(S1)(C)CCOC(=O)C</td>\n",
       "      <td>0</td>\n",
       "      <td>0</td>\n",
       "      <td>0</td>\n",
       "      <td>0</td>\n",
       "      <td>0</td>\n",
       "      <td>0</td>\n",
       "      <td>0</td>\n",
       "      <td>0</td>\n",
       "      <td>...</td>\n",
       "      <td>0</td>\n",
       "      <td>0</td>\n",
       "      <td>0</td>\n",
       "      <td>0</td>\n",
       "      <td>0</td>\n",
       "      <td>0</td>\n",
       "      <td>1</td>\n",
       "      <td>0</td>\n",
       "      <td>0</td>\n",
       "      <td>0</td>\n",
       "    </tr>\n",
       "  </tbody>\n",
       "</table>\n",
       "<p>3737 rows × 125 columns</p>\n",
       "</div>"
      ],
      "text/plain": [
       "               CAS                                   Smiles  Agrume  Aldehyde  \\\n",
       "0          50-70-4  C([C@H]([C@H]([C@@H]([C@H](CO)O)O)O)O)O       0         0   \n",
       "1          51-67-2                        C1=CC(=CC=C1CCN)O       0         0   \n",
       "2          56-12-2                             C(CC(=O)O)CN       0         0   \n",
       "3          56-40-6                               C(C(=O)O)N       0         0   \n",
       "4          56-41-7                         C[C@@H](C(=O)O)N       0         0   \n",
       "...            ...                                      ...     ...       ...   \n",
       "3915  1367348-37-5                  CCCCCC(CCCC(=O)OCC)OC=O       0         0   \n",
       "3916  1370711-06-0                   CCC(C(C)C)OC(=O)/C=C/C       0         0   \n",
       "3917  1378867-81-2               CC(C)[C@@H]1CCC(=CC1)CCC=O       0         1   \n",
       "3918  1416051-88-1                        CCC(C)C(=O)CC(C)S       0         0   \n",
       "3919  1658479-63-0               CC(C)C1CCC(S1)(C)CCOC(=O)C       0         0   \n",
       "\n",
       "      Alliace  Animal  Anise  Baie  Balsamique  Banane  ...  santal  savon  \\\n",
       "0           0       0      0     0           0       0  ...       0      0   \n",
       "1           0       0      0     0           0       0  ...       0      0   \n",
       "2           0       0      0     0           0       0  ...       0      0   \n",
       "3           0       0      0     0           0       0  ...       0      0   \n",
       "4           0       0      0     0           0       0  ...       0      0   \n",
       "...       ...     ...    ...   ...         ...     ...  ...     ...    ...   \n",
       "3915        0       0      0     0           0       0  ...       0      0   \n",
       "3916        0       0      0     0           0       0  ...       0      0   \n",
       "3917        0       0      0     0           0       0  ...       0      0   \n",
       "3918        0       0      0     0           0       0  ...       0      0   \n",
       "3919        0       0      0     0           0       0  ...       0      0   \n",
       "\n",
       "      tabac  the  tomate  vanille  vert  vetiver  vin  violette  \n",
       "0         0    0       0        0     0        0    0         0  \n",
       "1         0    0       0        0     0        0    0         0  \n",
       "2         0    0       0        0     0        0    0         0  \n",
       "3         0    0       0        0     0        0    0         0  \n",
       "4         0    0       0        0     0        0    0         0  \n",
       "...     ...  ...     ...      ...   ...      ...  ...       ...  \n",
       "3915      0    0       0        0     0        0    0         0  \n",
       "3916      0    0       0        0     0        0    0         0  \n",
       "3917      0    0       0        0     1        0    0         0  \n",
       "3918      0    0       0        0     0        0    0         0  \n",
       "3919      0    0       0        0     1        0    0         0  \n",
       "\n",
       "[3737 rows x 125 columns]"
      ]
     },
     "execution_count": 263,
     "metadata": {},
     "output_type": "execute_result"
    }
   ],
   "source": [
    "df"
   ]
  },
  {
   "cell_type": "code",
   "execution_count": null,
   "id": "89e22fcf-d8d8-44c5-b6c3-7de6bdf680ac",
   "metadata": {},
   "outputs": [],
   "source": []
  },
  {
   "cell_type": "code",
   "execution_count": 265,
   "id": "f3e0d34d-fca1-4da5-9c54-fc4f8bc88937",
   "metadata": {},
   "outputs": [
    {
     "data": {
      "text/html": [
       "<div>\n",
       "<style scoped>\n",
       "    .dataframe tbody tr th:only-of-type {\n",
       "        vertical-align: middle;\n",
       "    }\n",
       "\n",
       "    .dataframe tbody tr th {\n",
       "        vertical-align: top;\n",
       "    }\n",
       "\n",
       "    .dataframe thead th {\n",
       "        text-align: right;\n",
       "    }\n",
       "</style>\n",
       "<table border=\"1\" class=\"dataframe\">\n",
       "  <thead>\n",
       "    <tr style=\"text-align: right;\">\n",
       "      <th></th>\n",
       "      <th>Smiles</th>\n",
       "      <th>abricot</th>\n",
       "      <th>ail</th>\n",
       "      <th>amande</th>\n",
       "      <th>ambre</th>\n",
       "      <th>ananas</th>\n",
       "      <th>anis</th>\n",
       "      <th>aubepine</th>\n",
       "      <th>bergamote</th>\n",
       "      <th>cafe</th>\n",
       "      <th>...</th>\n",
       "      <th>santal</th>\n",
       "      <th>savon</th>\n",
       "      <th>tabac</th>\n",
       "      <th>the</th>\n",
       "      <th>tomate</th>\n",
       "      <th>vanille</th>\n",
       "      <th>vert</th>\n",
       "      <th>vetiver</th>\n",
       "      <th>vin</th>\n",
       "      <th>violette</th>\n",
       "    </tr>\n",
       "  </thead>\n",
       "  <tbody>\n",
       "    <tr>\n",
       "      <th>0</th>\n",
       "      <td>C([C@H]([C@H]([C@@H]([C@H](CO)O)O)O)O)O</td>\n",
       "      <td>0</td>\n",
       "      <td>0</td>\n",
       "      <td>0</td>\n",
       "      <td>0</td>\n",
       "      <td>0</td>\n",
       "      <td>0</td>\n",
       "      <td>0</td>\n",
       "      <td>0</td>\n",
       "      <td>0</td>\n",
       "      <td>...</td>\n",
       "      <td>0</td>\n",
       "      <td>0</td>\n",
       "      <td>0</td>\n",
       "      <td>0</td>\n",
       "      <td>0</td>\n",
       "      <td>0</td>\n",
       "      <td>0</td>\n",
       "      <td>0</td>\n",
       "      <td>0</td>\n",
       "      <td>0</td>\n",
       "    </tr>\n",
       "    <tr>\n",
       "      <th>1</th>\n",
       "      <td>C1=CC(=CC=C1CCN)O</td>\n",
       "      <td>0</td>\n",
       "      <td>0</td>\n",
       "      <td>0</td>\n",
       "      <td>0</td>\n",
       "      <td>0</td>\n",
       "      <td>0</td>\n",
       "      <td>0</td>\n",
       "      <td>0</td>\n",
       "      <td>0</td>\n",
       "      <td>...</td>\n",
       "      <td>0</td>\n",
       "      <td>0</td>\n",
       "      <td>0</td>\n",
       "      <td>0</td>\n",
       "      <td>0</td>\n",
       "      <td>0</td>\n",
       "      <td>0</td>\n",
       "      <td>0</td>\n",
       "      <td>0</td>\n",
       "      <td>0</td>\n",
       "    </tr>\n",
       "    <tr>\n",
       "      <th>2</th>\n",
       "      <td>C(CC(=O)O)CN</td>\n",
       "      <td>0</td>\n",
       "      <td>0</td>\n",
       "      <td>0</td>\n",
       "      <td>0</td>\n",
       "      <td>0</td>\n",
       "      <td>0</td>\n",
       "      <td>0</td>\n",
       "      <td>0</td>\n",
       "      <td>0</td>\n",
       "      <td>...</td>\n",
       "      <td>0</td>\n",
       "      <td>0</td>\n",
       "      <td>0</td>\n",
       "      <td>0</td>\n",
       "      <td>0</td>\n",
       "      <td>0</td>\n",
       "      <td>0</td>\n",
       "      <td>0</td>\n",
       "      <td>0</td>\n",
       "      <td>0</td>\n",
       "    </tr>\n",
       "    <tr>\n",
       "      <th>3</th>\n",
       "      <td>C(C(=O)O)N</td>\n",
       "      <td>0</td>\n",
       "      <td>0</td>\n",
       "      <td>0</td>\n",
       "      <td>0</td>\n",
       "      <td>0</td>\n",
       "      <td>0</td>\n",
       "      <td>0</td>\n",
       "      <td>0</td>\n",
       "      <td>0</td>\n",
       "      <td>...</td>\n",
       "      <td>0</td>\n",
       "      <td>0</td>\n",
       "      <td>0</td>\n",
       "      <td>0</td>\n",
       "      <td>0</td>\n",
       "      <td>0</td>\n",
       "      <td>0</td>\n",
       "      <td>0</td>\n",
       "      <td>0</td>\n",
       "      <td>0</td>\n",
       "    </tr>\n",
       "    <tr>\n",
       "      <th>4</th>\n",
       "      <td>C[C@@H](C(=O)O)N</td>\n",
       "      <td>0</td>\n",
       "      <td>0</td>\n",
       "      <td>0</td>\n",
       "      <td>0</td>\n",
       "      <td>0</td>\n",
       "      <td>0</td>\n",
       "      <td>0</td>\n",
       "      <td>0</td>\n",
       "      <td>0</td>\n",
       "      <td>...</td>\n",
       "      <td>0</td>\n",
       "      <td>0</td>\n",
       "      <td>0</td>\n",
       "      <td>0</td>\n",
       "      <td>0</td>\n",
       "      <td>0</td>\n",
       "      <td>0</td>\n",
       "      <td>0</td>\n",
       "      <td>0</td>\n",
       "      <td>0</td>\n",
       "    </tr>\n",
       "    <tr>\n",
       "      <th>...</th>\n",
       "      <td>...</td>\n",
       "      <td>...</td>\n",
       "      <td>...</td>\n",
       "      <td>...</td>\n",
       "      <td>...</td>\n",
       "      <td>...</td>\n",
       "      <td>...</td>\n",
       "      <td>...</td>\n",
       "      <td>...</td>\n",
       "      <td>...</td>\n",
       "      <td>...</td>\n",
       "      <td>...</td>\n",
       "      <td>...</td>\n",
       "      <td>...</td>\n",
       "      <td>...</td>\n",
       "      <td>...</td>\n",
       "      <td>...</td>\n",
       "      <td>...</td>\n",
       "      <td>...</td>\n",
       "      <td>...</td>\n",
       "      <td>...</td>\n",
       "    </tr>\n",
       "    <tr>\n",
       "      <th>3915</th>\n",
       "      <td>CCCCCC(CCCC(=O)OCC)OC=O</td>\n",
       "      <td>0</td>\n",
       "      <td>0</td>\n",
       "      <td>0</td>\n",
       "      <td>0</td>\n",
       "      <td>0</td>\n",
       "      <td>0</td>\n",
       "      <td>0</td>\n",
       "      <td>0</td>\n",
       "      <td>0</td>\n",
       "      <td>...</td>\n",
       "      <td>0</td>\n",
       "      <td>0</td>\n",
       "      <td>0</td>\n",
       "      <td>0</td>\n",
       "      <td>0</td>\n",
       "      <td>0</td>\n",
       "      <td>0</td>\n",
       "      <td>0</td>\n",
       "      <td>0</td>\n",
       "      <td>0</td>\n",
       "    </tr>\n",
       "    <tr>\n",
       "      <th>3916</th>\n",
       "      <td>CCC(C(C)C)OC(=O)/C=C/C</td>\n",
       "      <td>0</td>\n",
       "      <td>0</td>\n",
       "      <td>0</td>\n",
       "      <td>0</td>\n",
       "      <td>0</td>\n",
       "      <td>0</td>\n",
       "      <td>0</td>\n",
       "      <td>0</td>\n",
       "      <td>0</td>\n",
       "      <td>...</td>\n",
       "      <td>0</td>\n",
       "      <td>0</td>\n",
       "      <td>0</td>\n",
       "      <td>0</td>\n",
       "      <td>0</td>\n",
       "      <td>0</td>\n",
       "      <td>0</td>\n",
       "      <td>0</td>\n",
       "      <td>0</td>\n",
       "      <td>0</td>\n",
       "    </tr>\n",
       "    <tr>\n",
       "      <th>3917</th>\n",
       "      <td>CC(C)[C@@H]1CCC(=CC1)CCC=O</td>\n",
       "      <td>0</td>\n",
       "      <td>0</td>\n",
       "      <td>0</td>\n",
       "      <td>0</td>\n",
       "      <td>0</td>\n",
       "      <td>0</td>\n",
       "      <td>0</td>\n",
       "      <td>0</td>\n",
       "      <td>0</td>\n",
       "      <td>...</td>\n",
       "      <td>0</td>\n",
       "      <td>0</td>\n",
       "      <td>0</td>\n",
       "      <td>0</td>\n",
       "      <td>0</td>\n",
       "      <td>0</td>\n",
       "      <td>1</td>\n",
       "      <td>0</td>\n",
       "      <td>0</td>\n",
       "      <td>0</td>\n",
       "    </tr>\n",
       "    <tr>\n",
       "      <th>3918</th>\n",
       "      <td>CCC(C)C(=O)CC(C)S</td>\n",
       "      <td>0</td>\n",
       "      <td>0</td>\n",
       "      <td>0</td>\n",
       "      <td>0</td>\n",
       "      <td>0</td>\n",
       "      <td>0</td>\n",
       "      <td>0</td>\n",
       "      <td>0</td>\n",
       "      <td>0</td>\n",
       "      <td>...</td>\n",
       "      <td>0</td>\n",
       "      <td>0</td>\n",
       "      <td>0</td>\n",
       "      <td>0</td>\n",
       "      <td>0</td>\n",
       "      <td>0</td>\n",
       "      <td>0</td>\n",
       "      <td>0</td>\n",
       "      <td>0</td>\n",
       "      <td>0</td>\n",
       "    </tr>\n",
       "    <tr>\n",
       "      <th>3919</th>\n",
       "      <td>CC(C)C1CCC(S1)(C)CCOC(=O)C</td>\n",
       "      <td>0</td>\n",
       "      <td>0</td>\n",
       "      <td>0</td>\n",
       "      <td>0</td>\n",
       "      <td>0</td>\n",
       "      <td>0</td>\n",
       "      <td>0</td>\n",
       "      <td>0</td>\n",
       "      <td>0</td>\n",
       "      <td>...</td>\n",
       "      <td>0</td>\n",
       "      <td>0</td>\n",
       "      <td>0</td>\n",
       "      <td>0</td>\n",
       "      <td>0</td>\n",
       "      <td>0</td>\n",
       "      <td>1</td>\n",
       "      <td>0</td>\n",
       "      <td>0</td>\n",
       "      <td>0</td>\n",
       "    </tr>\n",
       "  </tbody>\n",
       "</table>\n",
       "<p>3485 rows × 69 columns</p>\n",
       "</div>"
      ],
      "text/plain": [
       "                                       Smiles  abricot  ail  amande  ambre  \\\n",
       "0     C([C@H]([C@H]([C@@H]([C@H](CO)O)O)O)O)O        0    0       0      0   \n",
       "1                           C1=CC(=CC=C1CCN)O        0    0       0      0   \n",
       "2                                C(CC(=O)O)CN        0    0       0      0   \n",
       "3                                  C(C(=O)O)N        0    0       0      0   \n",
       "4                            C[C@@H](C(=O)O)N        0    0       0      0   \n",
       "...                                       ...      ...  ...     ...    ...   \n",
       "3915                  CCCCCC(CCCC(=O)OCC)OC=O        0    0       0      0   \n",
       "3916                   CCC(C(C)C)OC(=O)/C=C/C        0    0       0      0   \n",
       "3917               CC(C)[C@@H]1CCC(=CC1)CCC=O        0    0       0      0   \n",
       "3918                        CCC(C)C(=O)CC(C)S        0    0       0      0   \n",
       "3919               CC(C)C1CCC(S1)(C)CCOC(=O)C        0    0       0      0   \n",
       "\n",
       "      ananas  anis  aubepine  bergamote  cafe  ...  santal  savon  tabac  the  \\\n",
       "0          0     0         0          0     0  ...       0      0      0    0   \n",
       "1          0     0         0          0     0  ...       0      0      0    0   \n",
       "2          0     0         0          0     0  ...       0      0      0    0   \n",
       "3          0     0         0          0     0  ...       0      0      0    0   \n",
       "4          0     0         0          0     0  ...       0      0      0    0   \n",
       "...      ...   ...       ...        ...   ...  ...     ...    ...    ...  ...   \n",
       "3915       0     0         0          0     0  ...       0      0      0    0   \n",
       "3916       0     0         0          0     0  ...       0      0      0    0   \n",
       "3917       0     0         0          0     0  ...       0      0      0    0   \n",
       "3918       0     0         0          0     0  ...       0      0      0    0   \n",
       "3919       0     0         0          0     0  ...       0      0      0    0   \n",
       "\n",
       "      tomate  vanille  vert  vetiver  vin  violette  \n",
       "0          0        0     0        0    0         0  \n",
       "1          0        0     0        0    0         0  \n",
       "2          0        0     0        0    0         0  \n",
       "3          0        0     0        0    0         0  \n",
       "4          0        0     0        0    0         0  \n",
       "...      ...      ...   ...      ...  ...       ...  \n",
       "3915       0        0     0        0    0         0  \n",
       "3916       0        0     0        0    0         0  \n",
       "3917       0        0     1        0    0         0  \n",
       "3918       0        0     0        0    0         0  \n",
       "3919       0        0     1        0    0         0  \n",
       "\n",
       "[3485 rows x 69 columns]"
      ]
     },
     "execution_count": 265,
     "metadata": {},
     "output_type": "execute_result"
    }
   ],
   "source": [
    "from rdflib import Graph\n",
    "g = Graph()\n",
    "g.parse(\"Fichiers-Sources/graph_odor.ttl\")\n",
    "Individuals = []\n",
    "q = \"\"\"Select ?s Where{\n",
    "    ?s a ?o .\n",
    "    ?o rdf:type rdfs:Class\n",
    "}\"\"\"\n",
    "for res in g.query(q):\n",
    "    Individuals.append(res[0].fragment)\n",
    "Individuals.sort()\n",
    "Not_Individuals = [label for label in df.columns if label not in Individuals]\n",
    "Not_Individuals.remove('Smiles')\n",
    "\n",
    "df_ind = df_without_zeros.drop(Not_Individuals, axis=1)\n",
    "df_ind.to_csv('Individual_label.csv',index=False)\n",
    "df_ind"
   ]
  },
  {
   "cell_type": "code",
   "execution_count": 219,
   "id": "25c5f205-3931-49eb-86ea-a4f1f094949d",
   "metadata": {},
   "outputs": [
    {
     "data": {
      "text/html": [
       "<div>\n",
       "<style scoped>\n",
       "    .dataframe tbody tr th:only-of-type {\n",
       "        vertical-align: middle;\n",
       "    }\n",
       "\n",
       "    .dataframe tbody tr th {\n",
       "        vertical-align: top;\n",
       "    }\n",
       "\n",
       "    .dataframe thead th {\n",
       "        text-align: right;\n",
       "    }\n",
       "</style>\n",
       "<table border=\"1\" class=\"dataframe\">\n",
       "  <thead>\n",
       "    <tr style=\"text-align: right;\">\n",
       "      <th></th>\n",
       "      <th>Boise</th>\n",
       "      <th>Caramel</th>\n",
       "      <th>Doux</th>\n",
       "      <th>cafe</th>\n",
       "      <th>fumee</th>\n",
       "    </tr>\n",
       "  </thead>\n",
       "  <tbody>\n",
       "    <tr>\n",
       "      <th>2</th>\n",
       "      <td>1</td>\n",
       "      <td>1</td>\n",
       "      <td>1</td>\n",
       "      <td>1</td>\n",
       "      <td>1</td>\n",
       "    </tr>\n",
       "    <tr>\n",
       "      <th>3</th>\n",
       "      <td>0</td>\n",
       "      <td>0</td>\n",
       "      <td>1</td>\n",
       "      <td>0</td>\n",
       "      <td>0</td>\n",
       "    </tr>\n",
       "  </tbody>\n",
       "</table>\n",
       "</div>"
      ],
      "text/plain": [
       "   Boise  Caramel  Doux  cafe  fumee\n",
       "2      1        1     1     1      1\n",
       "3      0        0     1     0      0"
      ]
     },
     "execution_count": 219,
     "metadata": {},
     "output_type": "execute_result"
    }
   ],
   "source": [
    "test = df.dropna(subset=\"Smiles\")\n",
    "test = test.loc[test[\"Smiles\"].duplicated(keep=False)].sort_values(\"Smiles\")\n",
    "test.reset_index(inplace=True)\n",
    "diff = test.iloc[2] != test.iloc[3]\n",
    "test.iloc[[2, 3], list(diff)]\n",
    "test.loc[2:3,(test.loc[2:3] == 1).any()]"
   ]
  },
  {
   "cell_type": "code",
   "execution_count": 192,
   "id": "a5fb16f0-5073-4269-9f0a-04cf8726df9b",
   "metadata": {},
   "outputs": [
    {
     "data": {
      "text/html": [
       "<div>\n",
       "<style scoped>\n",
       "    .dataframe tbody tr th:only-of-type {\n",
       "        vertical-align: middle;\n",
       "    }\n",
       "\n",
       "    .dataframe tbody tr th {\n",
       "        vertical-align: top;\n",
       "    }\n",
       "\n",
       "    .dataframe thead th {\n",
       "        text-align: right;\n",
       "    }\n",
       "</style>\n",
       "<table border=\"1\" class=\"dataframe\">\n",
       "  <thead>\n",
       "    <tr style=\"text-align: right;\">\n",
       "      <th></th>\n",
       "      <th>index</th>\n",
       "      <th>CAS</th>\n",
       "      <th>Smiles</th>\n",
       "      <th>Agrume</th>\n",
       "      <th>Aldehyde</th>\n",
       "      <th>Alliace</th>\n",
       "      <th>Animal</th>\n",
       "      <th>Anise</th>\n",
       "      <th>Baie</th>\n",
       "      <th>Balsamique</th>\n",
       "      <th>...</th>\n",
       "      <th>santal</th>\n",
       "      <th>savon</th>\n",
       "      <th>tabac</th>\n",
       "      <th>the</th>\n",
       "      <th>tomate</th>\n",
       "      <th>vanille</th>\n",
       "      <th>vert</th>\n",
       "      <th>vetiver</th>\n",
       "      <th>vin</th>\n",
       "      <th>violette</th>\n",
       "    </tr>\n",
       "  </thead>\n",
       "  <tbody>\n",
       "    <tr>\n",
       "      <th>0</th>\n",
       "      <td>836</td>\n",
       "      <td>585-84-2</td>\n",
       "      <td>C(/C(=C/C(=O)O)/C(=O)O)C(=O)O</td>\n",
       "      <td>0</td>\n",
       "      <td>0</td>\n",
       "      <td>0</td>\n",
       "      <td>0</td>\n",
       "      <td>0</td>\n",
       "      <td>0</td>\n",
       "      <td>0</td>\n",
       "      <td>...</td>\n",
       "      <td>0</td>\n",
       "      <td>0</td>\n",
       "      <td>0</td>\n",
       "      <td>0</td>\n",
       "      <td>0</td>\n",
       "      <td>0</td>\n",
       "      <td>0</td>\n",
       "      <td>0</td>\n",
       "      <td>1</td>\n",
       "      <td>0</td>\n",
       "    </tr>\n",
       "    <tr>\n",
       "      <th>1</th>\n",
       "      <td>722</td>\n",
       "      <td>499-12-7</td>\n",
       "      <td>C(/C(=C/C(=O)O)/C(=O)O)C(=O)O</td>\n",
       "      <td>0</td>\n",
       "      <td>0</td>\n",
       "      <td>0</td>\n",
       "      <td>0</td>\n",
       "      <td>0</td>\n",
       "      <td>0</td>\n",
       "      <td>0</td>\n",
       "      <td>...</td>\n",
       "      <td>0</td>\n",
       "      <td>0</td>\n",
       "      <td>0</td>\n",
       "      <td>0</td>\n",
       "      <td>0</td>\n",
       "      <td>0</td>\n",
       "      <td>0</td>\n",
       "      <td>0</td>\n",
       "      <td>0</td>\n",
       "      <td>0</td>\n",
       "    </tr>\n",
       "  </tbody>\n",
       "</table>\n",
       "<p>2 rows × 126 columns</p>\n",
       "</div>"
      ],
      "text/plain": [
       "   index       CAS                         Smiles  Agrume  Aldehyde  Alliace  \\\n",
       "0    836  585-84-2  C(/C(=C/C(=O)O)/C(=O)O)C(=O)O       0         0        0   \n",
       "1    722  499-12-7  C(/C(=C/C(=O)O)/C(=O)O)C(=O)O       0         0        0   \n",
       "\n",
       "   Animal  Anise  Baie  Balsamique  ...  santal  savon  tabac  the  tomate  \\\n",
       "0       0      0     0           0  ...       0      0      0    0       0   \n",
       "1       0      0     0           0  ...       0      0      0    0       0   \n",
       "\n",
       "   vanille  vert  vetiver  vin  violette  \n",
       "0        0     0        0    1         0  \n",
       "1        0     0        0    0         0  \n",
       "\n",
       "[2 rows x 126 columns]"
      ]
     },
     "execution_count": 192,
     "metadata": {},
     "output_type": "execute_result"
    }
   ],
   "source": [
    "test"
   ]
  },
  {
   "cell_type": "code",
   "execution_count": 168,
   "id": "a045b6ff-eedf-4879-b4ca-aceb36d19f19",
   "metadata": {},
   "outputs": [
    {
     "data": {
      "image/png": "[encoded data removed]",
      "text/plain": [
       "<Figure size 1000x500 with 1 Axes>"
      ]
     },
     "metadata": {},
     "output_type": "display_data"
    }
   ],
   "source": [
    "Num_lab = df_ind.iloc[:, 2:].sum(axis=0)\n",
    "\n",
    "# Sélection des 10 labels les plus grands\n",
    "top_10 = Num_lab.nlargest(25)\n",
    "plt.figure(figsize=(10, 5))\n",
    "# Création du graphique\n",
    "plt.bar(top_10.index, top_10.values)\n",
    "plt.xticks(rotation=45, ha=\"right\") \n",
    "plt.show()"
   ]
  },
  {
   "cell_type": "code",
   "execution_count": 266,
   "id": "166c9f45-dc0d-4338-8657-1270d7bd6d8b",
   "metadata": {},
   "outputs": [],
   "source": [
    "df_ind_without_zeros = df_ind[df_ind.iloc[:,2:].sum(axis=1)>0]\n",
    "df_ind_without_zeros.to_csv('Individual_label_wtho_zeros.csv')"
   ]
  },
  {
   "cell_type": "code",
   "execution_count": 290,
   "id": "9d1ccdd8-9c09-4ac8-b524-097f5c0b4d63",
   "metadata": {},
   "outputs": [
    {
     "data": {
      "text/plain": [
       "2.238148148148148"
      ]
     },
     "execution_count": 290,
     "metadata": {},
     "output_type": "execute_result"
    }
   ],
   "source": [
    "df_ind_without_zeros.iloc[:,2:].sum(axis=1).mean()"
   ]
  }
 ],
 "metadata": {
  "kernelspec": {
   "display_name": "Python 3 (ipykernel)",
   "language": "python",
   "name": "python3"
  },
  "language_info": {
   "codemirror_mode": {
    "name": "ipython",
    "version": 3
   },
   "file_extension": ".py",
   "mimetype": "text/x-python",
   "name": "python",
   "nbconvert_exporter": "python",
   "pygments_lexer": "ipython3",
   "version": "3.9.21"
  }
 },
 "nbformat": 4,
 "nbformat_minor": 5
}
